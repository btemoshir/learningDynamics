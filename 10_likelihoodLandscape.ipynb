{
 "cells": [
  {
   "cell_type": "markdown",
   "metadata": {},
   "source": [
    "# Plot the likelihood landscape of the 1D Ising Model\n",
    "\n",
    "We use either the initial weight perturbation technique to plot the landscape or otherwise pinning technique for the same."
   ]
  },
  {
   "cell_type": "code",
   "execution_count": 2,
   "metadata": {},
   "outputs": [],
   "source": [
    "import sys\n",
    "import os\n",
    "sys.path.append('Jerome_scripts_Original/PGM/')\n",
    "sys.path.append('selfPackages/')\n",
    "sys.path.append('Jerome_scripts_Original/')\n",
    "\n",
    "import numpy as np\n",
    "import scipy as sc\n",
    "import matplotlib\n",
    "%matplotlib inline\n",
    "import matplotlib.pyplot as plt\n",
    "\n",
    "try:\n",
    "    import rbm\n",
    "    import rbmPining\n",
    "    import bm\n",
    "except:\n",
    "    print 'Compiling cy_utilities first'\n",
    "    curr_dir = os.getcwd()\n",
    "    os.chdir('PGM/')\n",
    "    !python setup.py build_ext --inplace\n",
    "    print 'Compilation done'\n",
    "    os.chdir(curr_dir)\n",
    "    \n",
    "import pickle\n",
    "from ising import IsingModel\n",
    "import estimate_correlations_ising\n",
    "from sklearn.utils import shuffle\n",
    "import inlineMovies"
   ]
  },
  {
   "cell_type": "markdown",
   "metadata": {},
   "source": [
    "## Use pinning first:"
   ]
  },
  {
   "cell_type": "code",
   "execution_count": 3,
   "metadata": {},
   "outputs": [],
   "source": [
    "N = 100\n",
    "beta = 1.\n",
    "Num_configs = 10000\n",
    "\n",
    "#Generate spins using Gibbs Sampling MCMC\n",
    "BM = bm.BM(N=N,nature='Spin')\n",
    "\n",
    "#Define Couplings\n",
    "BM.layer.couplings =  beta* (np.eye(N=N,k=1) + np.eye(N=N,k=-1) )\n",
    "BM.layer.couplings[0,-1] += beta\n",
    "BM.layer.couplings[-1,0] += beta\n",
    "\n",
    "data = BM.gen_data(Nchains=1,Nthermalize=0,Lchains=Num_configs,Nstep=200) # N steps."
   ]
  },
  {
   "cell_type": "code",
   "execution_count": null,
   "metadata": {},
   "outputs": [],
   "source": [
    "%%capture capt1\n",
    "#Supress the output of the cell and save it to capt\n",
    "\n",
    "RBM = []\n",
    "results = []\n",
    "likelihood = np.zeros(N)\n",
    "for i in range(N):\n",
    "#Train the model\n",
    "    pinPos = [[0],[i]]\n",
    "    RBM.append(rbmPining.RBM(visible = 'Spin', n_v=N, n_h = 1, hidden = 'Spin',zero_field = True))\n",
    "    RBM[i].weights = 0.01*np.random.normal(loc=0,scale=0.1,size=(1,N))\n",
    "    RBM[i].weights[pinPos] = 2\n",
    "    results.append(RBM[i].fit(data,n_iter=100,verbose=0,learning_rate = 0.001,record=['W'],record_interval=100,batch_size=10,N_MC= 20, lr_decay=False,batch_norm=False,init='previous',PiningPos = pinPos))\n",
    "    likelihood[i] = RBM[i].likelihood(data).mean()\n",
    "\n",
    "plt.plot(range(99),likelihood)"
   ]
  },
  {
   "cell_type": "code",
   "execution_count": null,
   "metadata": {},
   "outputs": [],
   "source": [
    "%%capture capt3\n",
    "#Supress the output of the cell and save it to capt\n",
    "\n",
    "RBM3 = []\n",
    "results3 = []\n",
    "likelihood3 = np.zeros(N)\n",
    "for i in range(N):\n",
    "#Train the model\n",
    "    pinPos = [[0],[i]]\n",
    "    RBM3.append(rbmPining.RBM(visible = 'Spin', n_v=N, n_h = 1, hidden = 'Spin',zero_field = True))\n",
    "    RBM3[i].weights = 0.01*np.random.normal(loc=0,scale=0.1,size=(1,N))\n",
    "    RBM3[i].weights[pinPos] = 2\n",
    "    results3.append(RBM3[i].fit(data,n_iter=100,verbose=0,learning_rate = 0.001,record=['W'],record_interval=100,batch_size=10,N_MC= 20, lr_decay=False,batch_norm=False,init='previous',PiningPos = pinPos))\n",
    "    likelihood3[i] = RBM3[i].likelihood(data).mean()\n",
    "\n",
    "plt.plot(range(99),likelihood3)"
   ]
  },
  {
   "cell_type": "markdown",
   "metadata": {
    "collapsed": true
   },
   "source": [
    "## Now use biasing initial conditions:"
   ]
  },
  {
   "cell_type": "markdown",
   "metadata": {},
   "source": [
    "### Thin and high:"
   ]
  },
  {
   "cell_type": "code",
   "execution_count": null,
   "metadata": {},
   "outputs": [],
   "source": [
    "%%capture capt2\n",
    "#Supress the output of the cell and save it to capt\n",
    "\n",
    "RBM2 = []\n",
    "results2 = []\n",
    "likelihood2 = np.zeros(N)\n",
    "for i in range(N):\n",
    "    \n",
    "    RBM2.append(rbm.RBM(visible = 'Spin', n_v=N, n_h = 1, hidden = 'Spin',zero_field = True))\n",
    "    RBM2[i].weights = 0.01*np.random.normal(loc=0,scale=0.1,size=(1,N))\n",
    "    RBM2[i].weights += 50*norm.pdf(x=np.linspace(0,99,100),loc=70,scale=10)\n",
    "    results2.append(RBM2[i].fit(data,n_iter=100,verbose=0,learning_rate = 0.001,record=['W'],record_interval=100,batch_size=10,N_MC= 20, lr_decay=False,batch_norm=False,init='previous'))\n",
    "    likelihood2[i] = RBM2[i].likelihood(data).mean()\n",
    "\n",
    "plt.plot(range(99),likelihood2)"
   ]
  },
  {
   "cell_type": "markdown",
   "metadata": {},
   "source": [
    "### Thick and High:"
   ]
  },
  {
   "cell_type": "code",
   "execution_count": null,
   "metadata": {},
   "outputs": [],
   "source": [
    "%%capture capt4\n",
    "#Supress the output of the cell and save it to capt\n",
    "\n",
    "RBM4 = []\n",
    "results4 = []\n",
    "likelihood4 = np.zeros(N)\n",
    "for i in range(N):\n",
    "    \n",
    "    RBM4.append(rbm.RBM(visible = 'Spin', n_v=N, n_h = 1, hidden = 'Spin',zero_field = True))\n",
    "    RBM4[i].weights = 0.01*np.random.normal(loc=0,scale=0.1,size=(1,N))\n",
    "    RBM4[i].weights += 50*norm.pdf(x=np.linspace(0,99,100),loc=70,scale=10)\n",
    "    results4.append(RBM4[i].fit(data,n_iter=100,verbose=0,learning_rate = 0.001,record=['W'],record_interval=100,batch_size=10,N_MC= 20, lr_decay=False,batch_norm=False,init='previous'))\n",
    "    likelihood4 = RBM4[i].likelihood(data).mean()\n",
    "\n",
    "plt.plot(range(99),likelihood4)"
   ]
  }
 ],
 "metadata": {
  "kernelspec": {
   "display_name": "Python 2",
   "language": "python",
   "name": "python2"
  },
  "language_info": {
   "codemirror_mode": {
    "name": "ipython",
    "version": 2
   },
   "file_extension": ".py",
   "mimetype": "text/x-python",
   "name": "python",
   "nbconvert_exporter": "python",
   "pygments_lexer": "ipython2",
   "version": "2.7.14"
  }
 },
 "nbformat": 4,
 "nbformat_minor": 2
}
