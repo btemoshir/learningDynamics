{
 "cells": [
  {
   "cell_type": "markdown",
   "metadata": {},
   "source": [
    "# We generate 2d ising configurations and train the RBM on that and with a smoother landscape:"
   ]
  },
  {
   "cell_type": "code",
   "execution_count": 3,
   "metadata": {
    "collapsed": true
   },
   "outputs": [],
   "source": [
    "import sys\n",
    "import os\n",
    "sys.path.append('Jerome_scripts_Original/PGM/')\n",
    "sys.path.append('selfPackages/')\n",
    "sys.path.append('Jerome_scripts_Original/')\n",
    "sys.path.append('ffmpeg-3.4.2-32bit-static/')\n",
    "\n",
    "import numpy as np\n",
    "import scipy as sc\n",
    "import matplotlib\n",
    "%matplotlib inline\n",
    "import matplotlib.pyplot as plt\n",
    "\n",
    "try:\n",
    "    import rbm\n",
    "    import bm\n",
    "except:\n",
    "    print 'Compiling cy_utilities first'\n",
    "    curr_dir = os.getcwd()\n",
    "    os.chdir('PGM/')\n",
    "    !python setup.py build_ext --inplace\n",
    "    print 'Compilation done'\n",
    "    os.chdir(curr_dir)\n",
    "    \n",
    "import pickle\n",
    "from ising import IsingModel\n",
    "import estimate_correlations_ising\n",
    "from sklearn.utils import shuffle\n",
    "import inlineMovies"
   ]
  },
  {
   "cell_type": "code",
   "execution_count": null,
   "metadata": {
    "collapsed": true
   },
   "outputs": [],
   "source": [
    "#import dill\n",
    "#dill.dump_session('./data_bruckner/data/notebookData/21_ising2D_smoothLandscape')"
   ]
  },
  {
   "cell_type": "code",
   "execution_count": 4,
   "metadata": {},
   "outputs": [
    {
     "ename": "EOFError",
     "evalue": "",
     "output_type": "error",
     "traceback": [
      "\u001b[0;31m---------------------------------------------------------------------------\u001b[0m",
      "\u001b[0;31mEOFError\u001b[0m                                  Traceback (most recent call last)",
      "\u001b[0;32m<ipython-input-4-1796a333b9fe>\u001b[0m in \u001b[0;36m<module>\u001b[0;34m()\u001b[0m\n\u001b[1;32m      1\u001b[0m \u001b[0;32mimport\u001b[0m \u001b[0mdill\u001b[0m\u001b[0;34m\u001b[0m\u001b[0m\n\u001b[0;32m----> 2\u001b[0;31m \u001b[0mdill\u001b[0m\u001b[0;34m.\u001b[0m\u001b[0mload_session\u001b[0m\u001b[0;34m(\u001b[0m\u001b[0;34m'./data_bruckner/data/notebookData/21_ising2D_smoothLandscape'\u001b[0m\u001b[0;34m)\u001b[0m\u001b[0;34m\u001b[0m\u001b[0m\n\u001b[0m",
      "\u001b[0;32m/users/harsh/anaconda2/lib/python2.7/site-packages/dill/dill.pyc\u001b[0m in \u001b[0;36mload_session\u001b[0;34m(filename, main)\u001b[0m\n\u001b[1;32m    383\u001b[0m         \u001b[0munpickler\u001b[0m\u001b[0;34m.\u001b[0m\u001b[0m_main\u001b[0m \u001b[0;34m=\u001b[0m \u001b[0mmain\u001b[0m\u001b[0;34m\u001b[0m\u001b[0m\n\u001b[1;32m    384\u001b[0m         \u001b[0munpickler\u001b[0m\u001b[0;34m.\u001b[0m\u001b[0m_session\u001b[0m \u001b[0;34m=\u001b[0m \u001b[0mTrue\u001b[0m\u001b[0;34m\u001b[0m\u001b[0m\n\u001b[0;32m--> 385\u001b[0;31m         \u001b[0mmodule\u001b[0m \u001b[0;34m=\u001b[0m \u001b[0munpickler\u001b[0m\u001b[0;34m.\u001b[0m\u001b[0mload\u001b[0m\u001b[0;34m(\u001b[0m\u001b[0;34m)\u001b[0m\u001b[0;34m\u001b[0m\u001b[0m\n\u001b[0m\u001b[1;32m    386\u001b[0m         \u001b[0munpickler\u001b[0m\u001b[0;34m.\u001b[0m\u001b[0m_session\u001b[0m \u001b[0;34m=\u001b[0m \u001b[0mFalse\u001b[0m\u001b[0;34m\u001b[0m\u001b[0m\n\u001b[1;32m    387\u001b[0m         \u001b[0mmain\u001b[0m\u001b[0;34m.\u001b[0m\u001b[0m__dict__\u001b[0m\u001b[0;34m.\u001b[0m\u001b[0mupdate\u001b[0m\u001b[0;34m(\u001b[0m\u001b[0mmodule\u001b[0m\u001b[0;34m.\u001b[0m\u001b[0m__dict__\u001b[0m\u001b[0;34m)\u001b[0m\u001b[0;34m\u001b[0m\u001b[0m\n",
      "\u001b[0;32m/users/harsh/anaconda2/lib/python2.7/pickle.pyc\u001b[0m in \u001b[0;36mload\u001b[0;34m(self)\u001b[0m\n\u001b[1;32m    862\u001b[0m             \u001b[0;32mwhile\u001b[0m \u001b[0;36m1\u001b[0m\u001b[0;34m:\u001b[0m\u001b[0;34m\u001b[0m\u001b[0m\n\u001b[1;32m    863\u001b[0m                 \u001b[0mkey\u001b[0m \u001b[0;34m=\u001b[0m \u001b[0mread\u001b[0m\u001b[0;34m(\u001b[0m\u001b[0;36m1\u001b[0m\u001b[0;34m)\u001b[0m\u001b[0;34m\u001b[0m\u001b[0m\n\u001b[0;32m--> 864\u001b[0;31m                 \u001b[0mdispatch\u001b[0m\u001b[0;34m[\u001b[0m\u001b[0mkey\u001b[0m\u001b[0;34m]\u001b[0m\u001b[0;34m(\u001b[0m\u001b[0mself\u001b[0m\u001b[0;34m)\u001b[0m\u001b[0;34m\u001b[0m\u001b[0m\n\u001b[0m\u001b[1;32m    865\u001b[0m         \u001b[0;32mexcept\u001b[0m \u001b[0m_Stop\u001b[0m\u001b[0;34m,\u001b[0m \u001b[0mstopinst\u001b[0m\u001b[0;34m:\u001b[0m\u001b[0;34m\u001b[0m\u001b[0m\n\u001b[1;32m    866\u001b[0m             \u001b[0;32mreturn\u001b[0m \u001b[0mstopinst\u001b[0m\u001b[0;34m.\u001b[0m\u001b[0mvalue\u001b[0m\u001b[0;34m\u001b[0m\u001b[0m\n",
      "\u001b[0;32m/users/harsh/anaconda2/lib/python2.7/pickle.pyc\u001b[0m in \u001b[0;36mload_eof\u001b[0;34m(self)\u001b[0m\n\u001b[1;32m    884\u001b[0m \u001b[0;34m\u001b[0m\u001b[0m\n\u001b[1;32m    885\u001b[0m     \u001b[0;32mdef\u001b[0m \u001b[0mload_eof\u001b[0m\u001b[0;34m(\u001b[0m\u001b[0mself\u001b[0m\u001b[0;34m)\u001b[0m\u001b[0;34m:\u001b[0m\u001b[0;34m\u001b[0m\u001b[0m\n\u001b[0;32m--> 886\u001b[0;31m         \u001b[0;32mraise\u001b[0m \u001b[0mEOFError\u001b[0m\u001b[0;34m\u001b[0m\u001b[0m\n\u001b[0m\u001b[1;32m    887\u001b[0m     \u001b[0mdispatch\u001b[0m\u001b[0;34m[\u001b[0m\u001b[0;34m''\u001b[0m\u001b[0;34m]\u001b[0m \u001b[0;34m=\u001b[0m \u001b[0mload_eof\u001b[0m\u001b[0;34m\u001b[0m\u001b[0m\n\u001b[1;32m    888\u001b[0m \u001b[0;34m\u001b[0m\u001b[0m\n",
      "\u001b[0;31mEOFError\u001b[0m: "
     ]
    }
   ],
   "source": [
    "import dill\n",
    "dill.load_session('./data_bruckner/data/notebookData/21_ising2D_smoothLandscape')"
   ]
  },
  {
   "cell_type": "code",
   "execution_count": 20,
   "metadata": {
    "collapsed": true
   },
   "outputs": [],
   "source": [
    "with open('./data_bruckner/data/notebookData/21_ising2D_smoothLandscape') as fobj:\n",
    "    for i in fobj:\n",
    "        try:\n",
    "            dill.loads(i)\n",
    "        except:\n",
    "            pass"
   ]
  },
  {
   "cell_type": "code",
   "execution_count": 20,
   "metadata": {
    "collapsed": true
   },
   "outputs": [],
   "source": [
    "#del data"
   ]
  },
  {
   "cell_type": "code",
   "execution_count": null,
   "metadata": {
    "collapsed": true
   },
   "outputs": [],
   "source": [
    "# Save the data array with the 2d isisng model configurations: Expensive to generate over again.\n",
    "#np.save('./data_bruckner/data/notebookData/data_ising2D_1million_beta0.39_size20',data)\n",
    "#data = np.load('./data_bruckner/data/notebookData/data_ising2D_1million_beta0.39_size20.npy')"
   ]
  },
  {
   "cell_type": "code",
   "execution_count": 7,
   "metadata": {},
   "outputs": [
    {
     "name": "stdout",
     "output_type": "stream",
     "text": [
      "0.44068679351\n"
     ]
    }
   ],
   "source": [
    "beta_critical = np.log(1+2**0.5)/2\n",
    "print beta_critical"
   ]
  },
  {
   "cell_type": "code",
   "execution_count": null,
   "metadata": {},
   "outputs": [],
   "source": [
    "#%%capture capt1\n",
    "#Supress the output of the cell and save it to capt1\n",
    "\n",
    "size = 20\n",
    "N = size**2\n",
    "beta = 0.2\n",
    "Num_configs = 1000000\n",
    "\n",
    "#Generate spins using Gibbs Sampling MCMC\n",
    "BM = bm.BM(N=N,nature='Spin')\n",
    "\n",
    "#Define Couplings\n",
    "BM.layer.couplings = ising2dCouplings(BM,size,beta1=beta,beta2=beta,PBC=True)\n",
    "#print BM.layer.couplings\n",
    "\n",
    "data = BM.gen_data(Nchains=1,Nthermalize=0,Lchains=Num_configs,Nstep=200) # N steps.\n",
    "\n",
    "#Estimate Correlations for number of MC steps\n",
    "plt.plot(data.mean(1)[0:10000]);plt.show()\n",
    "\n",
    "import estimate_correlations_ising\n",
    "Xcorr = estimate_correlations_ising.spin_autocorr(data,n_max=int(Num_configs*0.01))\n",
    "plt.plot(Xcorr);plt.show()"
   ]
  },
  {
   "cell_type": "code",
   "execution_count": null,
   "metadata": {
    "collapsed": true,
    "scrolled": false
   },
   "outputs": [],
   "source": [
    "#Estimate Correlations for number of MC steps\n",
    "plt.plot(data.mean(1)[0:1000]);plt.show()\n",
    "\n",
    "import estimate_correlations_ising\n",
    "Xcorr = estimate_correlations_ising.spin_autocorr(data,n_max=int(Num_configs*0.01))\n",
    "plt.plot(Xcorr);plt.show()"
   ]
  },
  {
   "cell_type": "code",
   "execution_count": 22,
   "metadata": {},
   "outputs": [
    {
     "data": {
      "image/png": "[encoded data removed]",
      "text/plain": [
       "<matplotlib.figure.Figure at 0x7fc8f4767350>"
      ]
     },
     "metadata": {},
     "output_type": "display_data"
    }
   ],
   "source": [
    "plt.hist(data.mean(1),50);plt.show()"
   ]
  },
  {
   "cell_type": "code",
   "execution_count": 17,
   "metadata": {},
   "outputs": [
    {
     "data": {
      "text/plain": [
       "<matplotlib.image.AxesImage at 0x7f65a4542190>"
      ]
     },
     "execution_count": 17,
     "metadata": {},
     "output_type": "execute_result"
    },
    {
     "data": {
      "image/png": "[encoded data removed]",
      "text/plain": [
       "<matplotlib.figure.Figure at 0x7f65a2ff4390>"
      ]
     },
     "metadata": {},
     "output_type": "display_data"
    }
   ],
   "source": [
    "plt.imshow(np.reshape(data[900,:],(size,size)),cmap='binary')"
   ]
  },
  {
   "cell_type": "code",
   "execution_count": null,
   "metadata": {
    "collapsed": true,
    "scrolled": true
   },
   "outputs": [],
   "source": [
    "#Train the model\n",
    "RBM = rbm.RBM(visible = 'Spin', n_v=N, n_h = 2, hidden = 'Spin',zero_field = True)\n",
    "results = RBM.fit(data,n_iter=100,verbose=0,learning_rate = 0.01,record=['W'],record_interval=1000,batch_size=100,N_MC= 20, lr_decay=False,batch_norm=False);"
   ]
  },
  {
   "cell_type": "code",
   "execution_count": null,
   "metadata": {},
   "outputs": [],
   "source": [
    "# Reshape the weights array:\n",
    "weights = np.zeros((np.shape(np.array(results['W']))[1],np.shape(np.array(results['W']))[0],size,size))\n",
    "weights[0] = np.reshape(np.array(results['W'])[:,0,:],(np.shape(np.array(results['W']))[0],size,size),order='C')\n",
    "weights[1] = np.reshape(np.array(results['W'])[:,1,:],(np.shape(np.array(results['W']))[0],size,size),order='C')"
   ]
  },
  {
   "cell_type": "code",
   "execution_count": null,
   "metadata": {},
   "outputs": [],
   "source": [
    "plt.figure(figsize=(15,5))\n",
    "plt.subplot(121)\n",
    "plt.contourf(weights[0,-1])\n",
    "plt.colorbar()\n",
    "plt.subplot(122)\n",
    "plt.contourf(weights[1,-1])\n",
    "plt.colorbar()"
   ]
  },
  {
   "cell_type": "code",
   "execution_count": 21,
   "metadata": {},
   "outputs": [
    {
     "ename": "NameError",
     "evalue": "name 'weights' is not defined",
     "output_type": "error",
     "traceback": [
      "\u001b[0;31m---------------------------------------------------------------------------\u001b[0m",
      "\u001b[0;31mNameError\u001b[0m                                 Traceback (most recent call last)",
      "\u001b[0;32m<ipython-input-21-522748c0bb6e>\u001b[0m in \u001b[0;36m<module>\u001b[0;34m()\u001b[0m\n\u001b[1;32m      1\u001b[0m \u001b[0mplt\u001b[0m\u001b[0;34m.\u001b[0m\u001b[0mfigure\u001b[0m\u001b[0;34m(\u001b[0m\u001b[0mfigsize\u001b[0m\u001b[0;34m=\u001b[0m\u001b[0;34m(\u001b[0m\u001b[0;36m15\u001b[0m\u001b[0;34m,\u001b[0m\u001b[0;36m5\u001b[0m\u001b[0;34m)\u001b[0m\u001b[0;34m)\u001b[0m\u001b[0;34m\u001b[0m\u001b[0m\n\u001b[1;32m      2\u001b[0m \u001b[0mplt\u001b[0m\u001b[0;34m.\u001b[0m\u001b[0msubplot\u001b[0m\u001b[0;34m(\u001b[0m\u001b[0;36m121\u001b[0m\u001b[0;34m)\u001b[0m\u001b[0;34m\u001b[0m\u001b[0m\n\u001b[0;32m----> 3\u001b[0;31m \u001b[0mplt\u001b[0m\u001b[0;34m.\u001b[0m\u001b[0mcontourf\u001b[0m\u001b[0;34m(\u001b[0m\u001b[0mweights\u001b[0m\u001b[0;34m[\u001b[0m\u001b[0;36m0\u001b[0m\u001b[0;34m,\u001b[0m\u001b[0;36m100\u001b[0m\u001b[0;34m]\u001b[0m\u001b[0;34m)\u001b[0m\u001b[0;34m\u001b[0m\u001b[0m\n\u001b[0m\u001b[1;32m      4\u001b[0m \u001b[0mplt\u001b[0m\u001b[0;34m.\u001b[0m\u001b[0mcolorbar\u001b[0m\u001b[0;34m(\u001b[0m\u001b[0;34m)\u001b[0m\u001b[0;34m\u001b[0m\u001b[0m\n\u001b[1;32m      5\u001b[0m \u001b[0mplt\u001b[0m\u001b[0;34m.\u001b[0m\u001b[0msubplot\u001b[0m\u001b[0;34m(\u001b[0m\u001b[0;36m122\u001b[0m\u001b[0;34m)\u001b[0m\u001b[0;34m\u001b[0m\u001b[0m\n",
      "\u001b[0;31mNameError\u001b[0m: name 'weights' is not defined"
     ]
    },
    {
     "data": {
      "image/png": "[encoded data removed]",
      "text/plain": [
       "<matplotlib.figure.Figure at 0x7fc8f1e417d0>"
      ]
     },
     "metadata": {},
     "output_type": "display_data"
    }
   ],
   "source": [
    "plt.figure(figsize=(15,5))\n",
    "plt.subplot(121)\n",
    "plt.contourf(weights[0,100])\n",
    "plt.colorbar()\n",
    "plt.subplot(122)\n",
    "plt.contourf(weights[1,100])\n",
    "plt.colorbar()"
   ]
  },
  {
   "cell_type": "code",
   "execution_count": 6,
   "metadata": {
    "collapsed": true
   },
   "outputs": [],
   "source": [
    "def ising2dCouplings(BM,size=20,beta1=0.39,beta2=0.39,PBC=False):\n",
    "    \n",
    "    BM.layer.couplings =  beta1*(np.eye(N=size**2,k=1) + np.eye(N=size**2,k=-1)) + beta2*(np.eye(N=size**2,k=size) + np.eye(N=size**2,k=-size))\n",
    "    \n",
    "    N = size\n",
    "    \n",
    "    if PBC is True:\n",
    "        # Add the couplings of the first row to that of the last row and vice versa:\n",
    "        for i in np.arange(0,N):\n",
    "            BM.layer.couplings[i,(size**2)-N+i] = beta2\n",
    "            BM.layer.couplings[(size**2)-N+i,i] = beta2\n",
    "        # Remove the couplings of the left most coloumn to that of the last coloumn in its previous row:\n",
    "        for i in np.arange(0,N*N,N):\n",
    "            BM.layer.couplings[i,i-1] = 0\n",
    "            BM.layer.couplings[i-1,i] = 0\n",
    "        # Add the couplings of the left most column to the right most coloumn:\n",
    "            BM.layer.couplings[i,i+N-1] = beta1\n",
    "            BM.layer.couplings[i+N-1,i] = beta1\n",
    "    \n",
    "    return BM.layer.couplings"
   ]
  },
  {
   "cell_type": "markdown",
   "metadata": {},
   "source": [
    "### Track the peak Centres in time (trajectory in the 2D plane):"
   ]
  },
  {
   "cell_type": "code",
   "execution_count": 40,
   "metadata": {},
   "outputs": [
    {
     "data": {
      "text/plain": [
       "(0, 20)"
      ]
     },
     "execution_count": 40,
     "metadata": {},
     "output_type": "execute_result"
    },
    {
     "data": {
      "image/png": "[encoded data removed]",
      "text/plain": [
       "<matplotlib.figure.Figure at 0x7f658bd5c810>"
      ]
     },
     "metadata": {},
     "output_type": "display_data"
    }
   ],
   "source": [
    "peakCentre = np.zeros((np.shape(np.array(results['W']))[1],np.shape(np.array(results['W']))[0],2))\n",
    "ditchCentre = np.zeros((np.shape(np.array(results['W']))[1],np.shape(np.array(results['W']))[0],2))\n",
    "\n",
    "for j in np.arange(np.shape(np.array(results['W']))[1]):\n",
    "    for i in np.arange(np.shape(np.array(results['W']))[0]):\n",
    "        peakCentre[j,i,:] = np.unravel_index(np.argmax(np.roll(np.roll(weights[j,i],0,axis=0),0,axis=1), axis=None), weights[j,i].shape)\n",
    "        ditchCentre[j,i,:] = np.unravel_index(np.argmin(np.roll(np.roll(weights[j,i],0,axis=0),0,axis=1), axis=None), weights[j,i].shape)\n",
    "        \n",
    "plt.figure(figsize=(15,5))\n",
    "plt.subplot(121)\n",
    "plt.plot(peakCentre[0,:,0],peakCentre[0,:,1],'r.',ditchCentre[0,:,0],ditchCentre[0,:,1],'g.')\n",
    "plt.xlim((0,20))\n",
    "plt.ylim((0,20))\n",
    "plt.subplot(122)\n",
    "plt.plot(peakCentre[1,:,0],peakCentre[1,:,1],'r.',ditchCentre[1,:,0],ditchCentre[1,:,1],'g.')\n",
    "plt.xlim((0,20))\n",
    "plt.ylim((0,20))"
   ]
  },
  {
   "cell_type": "code",
   "execution_count": 1,
   "metadata": {
    "collapsed": true
   },
   "outputs": [],
   "source": [
    "def PBC_corr_2D(peakCentre,size):\n",
    "    \n",
    "    for i in np.argwhere(abs(peakCentre[:,0]-np.roll(peakCentre[:,0],1))>size/2):\n",
    "        \n",
    "        if peakCentre[int(i)]<5:\n",
    "            peakCentre[int(i):] += + size\n",
    "        elif peakCentre[int(i)]>15:\n",
    "            peakCentre[int(i):] += - size\n",
    "            \n",
    "    for i in np.argwhere(abs(peakCentre[:,1]-np.roll(peakCentre[:,1],1))>size/2):\n",
    "        \n",
    "        if peakCentre[int(i)]<5:\n",
    "            peakCentre[int(i):] += + size\n",
    "        elif peakCentre[int(i)]>15:\n",
    "            peakCentre[int(i):] += - size\n",
    "    \n",
    "    return peakCentre"
   ]
  },
  {
   "cell_type": "code",
   "execution_count": 2,
   "metadata": {},
   "outputs": [
    {
     "ename": "NameError",
     "evalue": "name 'np' is not defined",
     "output_type": "error",
     "traceback": [
      "\u001b[0;31m---------------------------------------------------------------------------\u001b[0m",
      "\u001b[0;31mNameError\u001b[0m                                 Traceback (most recent call last)",
      "\u001b[0;32m<ipython-input-2-bf581a42008b>\u001b[0m in \u001b[0;36m<module>\u001b[0;34m()\u001b[0m\n\u001b[0;32m----> 1\u001b[0;31m \u001b[0mpeakCentre_PBC\u001b[0m    \u001b[0;34m=\u001b[0m \u001b[0mnp\u001b[0m\u001b[0;34m.\u001b[0m\u001b[0mcopy\u001b[0m\u001b[0;34m(\u001b[0m\u001b[0mpeakCentre\u001b[0m\u001b[0;34m)\u001b[0m\u001b[0;34m\u001b[0m\u001b[0m\n\u001b[0m\u001b[1;32m      2\u001b[0m \u001b[0mditchCentre_PBC\u001b[0m   \u001b[0;34m=\u001b[0m \u001b[0mnp\u001b[0m\u001b[0;34m.\u001b[0m\u001b[0mcopy\u001b[0m\u001b[0;34m(\u001b[0m\u001b[0mditchCentre\u001b[0m\u001b[0;34m)\u001b[0m\u001b[0;34m\u001b[0m\u001b[0m\n\u001b[1;32m      3\u001b[0m \u001b[0mpeakCentre_PBC\u001b[0m\u001b[0;34m[\u001b[0m\u001b[0;36m0\u001b[0m\u001b[0;34m]\u001b[0m \u001b[0;34m=\u001b[0m \u001b[0mPBC_corr_2D\u001b[0m\u001b[0;34m(\u001b[0m\u001b[0mpeakCentre\u001b[0m\u001b[0;34m[\u001b[0m\u001b[0;36m0\u001b[0m\u001b[0;34m]\u001b[0m\u001b[0;34m,\u001b[0m\u001b[0;36m20\u001b[0m\u001b[0;34m)\u001b[0m\u001b[0;34m\u001b[0m\u001b[0m\n\u001b[1;32m      4\u001b[0m \u001b[0mpeakCentre_PBC\u001b[0m\u001b[0;34m[\u001b[0m\u001b[0;36m1\u001b[0m\u001b[0;34m]\u001b[0m \u001b[0;34m=\u001b[0m \u001b[0mPBC_corr_2D\u001b[0m\u001b[0;34m(\u001b[0m\u001b[0mpeakCentre\u001b[0m\u001b[0;34m[\u001b[0m\u001b[0;36m1\u001b[0m\u001b[0;34m]\u001b[0m\u001b[0;34m,\u001b[0m\u001b[0;36m20\u001b[0m\u001b[0;34m)\u001b[0m\u001b[0;34m\u001b[0m\u001b[0m\n\u001b[1;32m      5\u001b[0m \u001b[0mditchCentre_PBC\u001b[0m\u001b[0;34m[\u001b[0m\u001b[0;36m0\u001b[0m\u001b[0;34m]\u001b[0m\u001b[0;34m=\u001b[0m \u001b[0mPBC_corr_2D\u001b[0m\u001b[0;34m(\u001b[0m\u001b[0mditchCentre\u001b[0m\u001b[0;34m[\u001b[0m\u001b[0;36m0\u001b[0m\u001b[0;34m]\u001b[0m\u001b[0;34m,\u001b[0m\u001b[0;36m20\u001b[0m\u001b[0;34m)\u001b[0m\u001b[0;34m\u001b[0m\u001b[0m\n",
      "\u001b[0;31mNameError\u001b[0m: name 'np' is not defined"
     ]
    }
   ],
   "source": [
    "peakCentre_PBC    = np.copy(peakCentre)\n",
    "ditchCentre_PBC   = np.copy(ditchCentre)\n",
    "peakCentre_PBC[0] = PBC_corr_2D(peakCentre[0],20)\n",
    "peakCentre_PBC[1] = PBC_corr_2D(peakCentre[1],20)\n",
    "ditchCentre_PBC[0]= PBC_corr_2D(ditchCentre[0],20) \n",
    "ditchCentre_PBC[1]= PBC_corr_2D(ditchCentre[1],20)"
   ]
  },
  {
   "cell_type": "code",
   "execution_count": null,
   "metadata": {
    "collapsed": true
   },
   "outputs": [],
   "source": []
  },
  {
   "cell_type": "code",
   "execution_count": null,
   "metadata": {
    "collapsed": true
   },
   "outputs": [],
   "source": []
  }
 ],
 "metadata": {
  "kernelspec": {
   "display_name": "Python 2",
   "language": "python",
   "name": "python2"
  },
  "language_info": {
   "codemirror_mode": {
    "name": "ipython",
    "version": 2
   },
   "file_extension": ".py",
   "mimetype": "text/x-python",
   "name": "python",
   "nbconvert_exporter": "python",
   "pygments_lexer": "ipython2",
   "version": "2.7.14"
  }
 },
 "nbformat": 4,
 "nbformat_minor": 2
}
