{
 "cells": [
  {
   "cell_type": "code",
   "execution_count": 1,
   "metadata": {
    "collapsed": true
   },
   "outputs": [],
   "source": [
    "import sys\n",
    "import os\n",
    "sys.path.append('Jerome_scripts_Original/PGM/')\n",
    "sys.path.append('selfPackages/')\n",
    "sys.path.append('Jerome_scripts_Original/')\n",
    "\n",
    "import numpy as np\n",
    "import scipy as sc\n",
    "import matplotlib\n",
    "%matplotlib inline\n",
    "import matplotlib.pyplot as plt\n",
    "\n",
    "try:\n",
    "    import rbm\n",
    "    import bm\n",
    "except:\n",
    "    print 'Compiling cy_utilities first'\n",
    "    curr_dir = os.getcwd()\n",
    "    os.chdir('PGM/')\n",
    "    !python setup.py build_ext --inplace\n",
    "    print 'Compilation done'\n",
    "    os.chdir(curr_dir)\n",
    "    \n",
    "import pickle\n",
    "from ising import IsingModel\n",
    "import estimate_correlations_ising\n",
    "from sklearn.utils import shuffle\n",
    "import inlineMovies"
   ]
  },
  {
   "cell_type": "code",
   "execution_count": 2,
   "metadata": {
    "collapsed": true
   },
   "outputs": [],
   "source": [
    "def beta_from_corrLength(corrLen):\n",
    "    beta = np.tan((np.exp(-1./corrLen)))\n",
    "    return beta"
   ]
  },
  {
   "cell_type": "code",
   "execution_count": 3,
   "metadata": {},
   "outputs": [
    {
     "name": "stdout",
     "output_type": "stream",
     "text": [
      "[ 0.79277524  0.8558812   0.90917458  0.95481915  0.99437613  1.02900294\n",
      "  1.05957744  1.08677851  1.11113994  1.13308762  1.15296567  1.17105535\n",
      "  1.18758886  1.20275966  1.21673027  1.22963822  1.24160075  1.25271839\n",
      "  1.26307784  1.27275433]\n",
      "[  2.5          2.89473684   3.28947368   3.68421053   4.07894737\n",
      "   4.47368421   4.86842105   5.26315789   5.65789474   6.05263158\n",
      "   6.44736842   6.84210526   7.23684211   7.63157895   8.02631579\n",
      "   8.42105263   8.81578947   9.21052632   9.60526316  10.        ]\n"
     ]
    }
   ],
   "source": [
    "#corrLengths = np.array([0.1,0.5,1.,5,10.,20.,50,100])\n",
    "corrLengths = np.linspace(2.5,10,20)\n",
    "#corrLengths = np.array([1,1.5,2,2.5,3])\n",
    "beta = beta_from_corrLength(corrLengths)\n",
    "print beta\n",
    "print corrLengths"
   ]
  },
  {
   "cell_type": "code",
   "execution_count": 4,
   "metadata": {},
   "outputs": [
    {
     "name": "stdout",
     "output_type": "stream",
     "text": [
      "[  30.   45.   60.   75.   90.  105.  120.  135.  150.  165.  180.  195.\n",
      "  210.  225.  240.  255.  270.  285.  300.  315.]\n"
     ]
    }
   ],
   "source": [
    "#Defining Parameters\n",
    "Num_configs = 10000\n",
    "Nstep       = beta*1000/1.5 #The number of Markov Chain steps for no correlation in the input data. This number was dec\n",
    "                            # by checking the numebr of steps required for highest beta value which is 1000, which we scale further down.\n",
    "#N           = corrLengths*30 #The 30 factor was obtained by previous simulations where the system performed well with this sytems size\n",
    "\n",
    "N = np.linspace(30,315,20)\n",
    "\n",
    "print N\n",
    "\n",
    "#for i in np.arange(len(N)):\n",
    "   # N[i] = np.int(max(30,np.int(N[i]))) # We fix the minimum number of spins to 30\n",
    "\n",
    "#Change the array type to int array from float array\n",
    "N = N.astype(int)\n",
    "Nstep = Nstep.astype(int)"
   ]
  },
  {
   "cell_type": "code",
   "execution_count": null,
   "metadata": {},
   "outputs": [],
   "source": [
    "%%capture captX\n",
    "\n",
    "Xdata_big    = []\n",
    "Xresults_big = []\n",
    "\n",
    "Xdata_mid    = []\n",
    "Xresults_mid = []\n",
    "\n",
    "XBM      = []\n",
    "Xdata    = []\n",
    "Xresults = []\n",
    "XRBM     = []\n",
    "\n",
    "Num_reps = 25\n",
    "\n",
    "for k in range(Num_reps):\n",
    "    \n",
    "    Xdata_big.append(Xdata_mid)\n",
    "    Xresults_big.append(Xresults_mid)\n",
    "    \n",
    "    Xdata_mid = []\n",
    "    Xresults_mid = []\n",
    "    \n",
    "    for j in np.arange(len(N)):\n",
    "        \n",
    "        Xdata_mid.append(Xdata)\n",
    "        Xresults_mid.append(Xresults)\n",
    "\n",
    "        XBM      = []\n",
    "        Xdata    = []\n",
    "        Xresults = []\n",
    "        XRBM     = []\n",
    "        \n",
    "        for i in np.arange(len(beta)):\n",
    "            #Generate spins using Gibbs Sampling MCMC\n",
    "            XBM.append(bm.BM(N=N[j],nature='Spin'))\n",
    "\n",
    "            #Define Couplings\n",
    "            XBM[i].layer.couplings =  beta[i]*(np.eye(N=N[j],k=1) + np.eye(N=N[j],k=-1) )\n",
    "            XBM[i].layer.couplings[0,-1] += beta[i]\n",
    "            XBM[i].layer.couplings[-1,0] += beta[i]\n",
    "\n",
    "            #Generating the ising model data\n",
    "            Xdata.append(XBM[i].gen_data(Nchains=1,Nthermalize=0,Lchains=Num_configs,Nstep=Nstep[i])) # N steps.\n",
    "\n",
    "            #Train the model\n",
    "            XRBM.append(rbm.RBM(visible = 'Spin', n_v=N[j], n_h = 1, hidden = 'Spin',zero_field = True))\n",
    "            Xresults.append(XRBM[i].fit(Xdata[i],n_iter=250,verbose=0,learning_rate = 0.001,record=['W'],record_interval=100,batch_size=10,N_MC= 20, lr_decay=False,batch_norm=False))\n",
    "            \n",
    "    del Xdata_mid[0]\n",
    "    del Xresults_mid[0]\n",
    "\n",
    "del Xdata_big[0]\n",
    "del Xresults_big[0]"
   ]
  },
  {
   "cell_type": "code",
   "execution_count": null,
   "metadata": {
    "collapsed": true
   },
   "outputs": [],
   "source": [
    "#Calculating the average peak Width and the STDV in the width\n",
    "import peakWidth\n",
    "\n",
    "corrLen_over_N = []\n",
    "PW_over_corrLen = []\n",
    "PW_over_corrLen_error = []\n",
    "\n",
    "t1 = np.zeros(Num_reps)\n",
    "PW_avg = np.zeros(len(N),len(beta)) \n",
    "PW_std = np.zeros(len(N),len(beta))\n",
    "\n",
    "for j in range(len(N)):\n",
    "    for i in range(len(beta)):\n",
    "        for k in range(Num_reps):\n",
    "            t1[k] = peakWidth.peakWidth(Xresults_big[k][j][i],plot=False)\n",
    "        PW_avg[j,i] = np.mean(t1)\n",
    "        PW_std[j,i] = np.std(t1)\n",
    "        corrLen_over_N.appned(corrLength[i]/N[j])\n",
    "        PW_over_corrLen.append(PW_avg[j,i]/corrLength[i])\n",
    "        PW_over_corrLen_error.append(PW_std[j,i]/corrLength[i])"
   ]
  },
  {
   "cell_type": "code",
   "execution_count": null,
   "metadata": {
    "collapsed": true
   },
   "outputs": [],
   "source": [
    "plt.errorbar(np.exp(-corrLen_over_N),PW_over_corrLen,yerr=PW_over_corrLen_error,fmt='.',ecolor='g')"
   ]
  },
  {
   "cell_type": "code",
   "execution_count": null,
   "metadata": {
    "collapsed": true
   },
   "outputs": [],
   "source": []
  },
  {
   "cell_type": "code",
   "execution_count": null,
   "metadata": {
    "collapsed": true
   },
   "outputs": [],
   "source": []
  }
 ],
 "metadata": {
  "kernelspec": {
   "display_name": "Python 2",
   "language": "python",
   "name": "python2"
  },
  "language_info": {
   "codemirror_mode": {
    "name": "ipython",
    "version": 2
   },
   "file_extension": ".py",
   "mimetype": "text/x-python",
   "name": "python",
   "nbconvert_exporter": "python",
   "pygments_lexer": "ipython2",
   "version": "2.7.14"
  }
 },
 "nbformat": 4,
 "nbformat_minor": 2
}
