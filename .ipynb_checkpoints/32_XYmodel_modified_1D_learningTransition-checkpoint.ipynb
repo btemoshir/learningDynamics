{
 "cells": [
  {
   "cell_type": "markdown",
   "metadata": {},
   "source": [
    "# Geneate Configurations of 1D XY model and train RBM on that.\n",
    "\n",
    "### Its not easy to generate the samples from XY model - we discretize the angles and use potts model instaed."
   ]
  },
  {
   "cell_type": "code",
   "execution_count": 1,
   "metadata": {
    "collapsed": true
   },
   "outputs": [],
   "source": [
    "import sys\n",
    "import os\n",
    "sys.path.append('Jerome_scripts_Original/PGM/')\n",
    "sys.path.append('selfPackages/')\n",
    "sys.path.append('Jerome_scripts_Original/')\n",
    "sys.path.append('ffmpeg-3.4.2-32bit-static/')\n",
    "\n",
    "import numpy as np\n",
    "import scipy as sc\n",
    "import matplotlib\n",
    "%matplotlib inline\n",
    "import matplotlib.pyplot as plt\n",
    "\n",
    "try:\n",
    "    import rbm\n",
    "    import bm\n",
    "except:\n",
    "    print 'Compiling cy_utilities first'\n",
    "    curr_dir = os.getcwd()\n",
    "    os.chdir('PGM/')\n",
    "    !python setup.py build_ext --inplace\n",
    "    print 'Compilation done'\n",
    "    os.chdir(curr_dir)\n",
    "    \n",
    "import pickle\n",
    "from ising import IsingModel\n",
    "import estimate_correlations_ising\n",
    "from sklearn.utils import shuffle\n",
    "import inlineMovies"
   ]
  },
  {
   "cell_type": "code",
   "execution_count": 90,
   "metadata": {
    "collapsed": true
   },
   "outputs": [],
   "source": [
    "#import dill\n",
    "#dill.dump_session('./data_bruckner/data/notebookData/32_XYmodel_modified_1D_learningTransition')"
   ]
  },
  {
   "cell_type": "code",
   "execution_count": 53,
   "metadata": {},
   "outputs": [
    {
     "ename": "IOError",
     "evalue": "[Errno 2] No such file or directory: './data_bruckner/data/notebookData/32_XYmodel_modified_1D_learningTransition'",
     "output_type": "error",
     "traceback": [
      "\u001b[0;31m---------------------------------------------------------------------------\u001b[0m",
      "\u001b[0;31mIOError\u001b[0m                                   Traceback (most recent call last)",
      "\u001b[0;32m<ipython-input-53-6a6ef2101ff4>\u001b[0m in \u001b[0;36m<module>\u001b[0;34m()\u001b[0m\n\u001b[1;32m      1\u001b[0m \u001b[0;32mimport\u001b[0m \u001b[0mdill\u001b[0m\u001b[0;34m\u001b[0m\u001b[0m\n\u001b[0;32m----> 2\u001b[0;31m \u001b[0mdill\u001b[0m\u001b[0;34m.\u001b[0m\u001b[0mload_session\u001b[0m\u001b[0;34m(\u001b[0m\u001b[0;34m'./data_bruckner/data/notebookData/32_XYmodel_modified_1D_learningTransition'\u001b[0m\u001b[0;34m)\u001b[0m\u001b[0;34m\u001b[0m\u001b[0m\n\u001b[0m",
      "\u001b[0;32m/users/harsh/anaconda2/lib/python2.7/site-packages/dill/dill.pyc\u001b[0m in \u001b[0;36mload_session\u001b[0;34m(filename, main)\u001b[0m\n\u001b[1;32m    378\u001b[0m     \u001b[0;34m\"\"\"update the __main__ module with the state from the session file\"\"\"\u001b[0m\u001b[0;34m\u001b[0m\u001b[0m\n\u001b[1;32m    379\u001b[0m     \u001b[0;32mif\u001b[0m \u001b[0mmain\u001b[0m \u001b[0;32mis\u001b[0m \u001b[0mNone\u001b[0m\u001b[0;34m:\u001b[0m \u001b[0mmain\u001b[0m \u001b[0;34m=\u001b[0m \u001b[0m_main_module\u001b[0m\u001b[0;34m\u001b[0m\u001b[0m\n\u001b[0;32m--> 380\u001b[0;31m     \u001b[0mf\u001b[0m \u001b[0;34m=\u001b[0m \u001b[0mopen\u001b[0m\u001b[0;34m(\u001b[0m\u001b[0mfilename\u001b[0m\u001b[0;34m,\u001b[0m \u001b[0;34m'rb'\u001b[0m\u001b[0;34m)\u001b[0m\u001b[0;34m\u001b[0m\u001b[0m\n\u001b[0m\u001b[1;32m    381\u001b[0m     \u001b[0;32mtry\u001b[0m\u001b[0;34m:\u001b[0m\u001b[0;34m\u001b[0m\u001b[0m\n\u001b[1;32m    382\u001b[0m         \u001b[0munpickler\u001b[0m \u001b[0;34m=\u001b[0m \u001b[0mUnpickler\u001b[0m\u001b[0;34m(\u001b[0m\u001b[0mf\u001b[0m\u001b[0;34m)\u001b[0m\u001b[0;34m\u001b[0m\u001b[0m\n",
      "\u001b[0;31mIOError\u001b[0m: [Errno 2] No such file or directory: './data_bruckner/data/notebookData/32_XYmodel_modified_1D_learningTransition'"
     ]
    }
   ],
   "source": [
    "import dill\n",
    "dill.load_session('./data_bruckner/data/notebookData/32_XYmodel_modified_1D_learningTransition')"
   ]
  },
  {
   "cell_type": "code",
   "execution_count": 2,
   "metadata": {
    "collapsed": true
   },
   "outputs": [],
   "source": [
    "# Save the data array with the 1d XY model configurations: Expensive to generate over again.\n",
    "#np.save('./data_bruckner/data/notebookData/data_XY1D_100000_beta1.5_size100_states=10',data)\n",
    "data = np.load('./data_bruckner/data/notebookData/data_XY1D_100000_beta1.5_size100_states=10.npy')"
   ]
  },
  {
   "cell_type": "code",
   "execution_count": 180,
   "metadata": {
    "collapsed": true
   },
   "outputs": [],
   "source": [
    "#%%capture capt1\n",
    "#Supress the output of the cell and save it to capt1\n",
    "\n",
    "size = 100\n",
    "N = size\n",
    "#beta = 1.5\n",
    "#Num_configs = [100,300,500,700,800,1000,2000]\n",
    "#Num_configs = [100,300,500,700,800,1000,2000,3000,4000,5000,8000]\n",
    "Num_configs = np.append(np.append(np.arange(100,1000,100),np.arange(1000,5000,500)),np.arange(5000,100000,10000))\n",
    "#Num_configs = [200000]\n",
    "beta = [1.5]\n",
    "num_hidden = 1\n",
    "\n",
    "#Generate spins using Gibbs Sampling MCMC\n",
    "BM = bm.BM(N=N,nature='Potts',n_c=10)\n",
    "\n",
    "#Define Couplings\n",
    "BM.layer.couplings = XY1dCouplingsMF1(BM,size = 100,beta=beta,num_states=10,PBC=True)"
   ]
  },
  {
   "cell_type": "code",
   "execution_count": 19,
   "metadata": {},
   "outputs": [
    {
     "name": "stdout",
     "output_type": "stream",
     "text": [
      "[1.5]\n"
     ]
    }
   ],
   "source": [
    "print beta"
   ]
  },
  {
   "cell_type": "code",
   "execution_count": 168,
   "metadata": {
    "scrolled": true
   },
   "outputs": [
    {
     "ename": "KeyboardInterrupt",
     "evalue": "",
     "output_type": "error",
     "traceback": [
      "\u001b[0;31m---------------------------------------------------------------------------\u001b[0m",
      "\u001b[0;31mKeyboardInterrupt\u001b[0m                         Traceback (most recent call last)",
      "\u001b[0;32m<ipython-input-168-02731def725f>\u001b[0m in \u001b[0;36m<module>\u001b[0;34m()\u001b[0m\n\u001b[0;32m----> 1\u001b[0;31m \u001b[0mdata\u001b[0m \u001b[0;34m=\u001b[0m \u001b[0mBM\u001b[0m\u001b[0;34m.\u001b[0m\u001b[0mgen_data\u001b[0m\u001b[0;34m(\u001b[0m\u001b[0mNchains\u001b[0m\u001b[0;34m=\u001b[0m\u001b[0;36m1\u001b[0m\u001b[0;34m,\u001b[0m\u001b[0mNthermalize\u001b[0m\u001b[0;34m=\u001b[0m\u001b[0;36m0\u001b[0m\u001b[0;34m,\u001b[0m\u001b[0mLchains\u001b[0m\u001b[0;34m=\u001b[0m\u001b[0;36m200000\u001b[0m\u001b[0;34m,\u001b[0m\u001b[0mNstep\u001b[0m\u001b[0;34m=\u001b[0m\u001b[0;36m200\u001b[0m\u001b[0;34m)\u001b[0m\u001b[0;34m\u001b[0m\u001b[0m\n\u001b[0m\u001b[1;32m      2\u001b[0m \u001b[0;31m#data = BM.gen_data(Nchains=1,Nthermalize=0,Lchains=np.max(Num_configs),Nstep=200)\u001b[0m\u001b[0;34m\u001b[0m\u001b[0;34m\u001b[0m\u001b[0m\n\u001b[1;32m      3\u001b[0m \u001b[0;31m#for i in range(len(Num_configs)):\u001b[0m\u001b[0;34m\u001b[0m\u001b[0;34m\u001b[0m\u001b[0m\n\u001b[1;32m      4\u001b[0m \u001b[0;31m#    data.append(BM.gen_data(Nchains=1,Nthermalize=0,Lchains=Num_configs[i],Nstep=200)) # N steps.\u001b[0m\u001b[0;34m\u001b[0m\u001b[0;34m\u001b[0m\u001b[0m\n",
      "\u001b[0;32m/users/harsh/Work/learningDynamics/Jerome_scripts_Original/PGM/bm.pyc\u001b[0m in \u001b[0;36mgen_data\u001b[0;34m(self, Nchains, Lchains, Nthermalize, Nstep, N_PT, config_init, beta, batches, reshape, record_replica, record_acceptance, update_betas, record_swaps)\u001b[0m\n\u001b[1;32m    175\u001b[0m \u001b[0;34m\u001b[0m\u001b[0m\n\u001b[1;32m    176\u001b[0m     \u001b[0;32mdef\u001b[0m \u001b[0mgen_data\u001b[0m\u001b[0;34m(\u001b[0m\u001b[0mself\u001b[0m\u001b[0;34m,\u001b[0m \u001b[0mNchains\u001b[0m \u001b[0;34m=\u001b[0m \u001b[0;36m10\u001b[0m\u001b[0;34m,\u001b[0m \u001b[0mLchains\u001b[0m \u001b[0;34m=\u001b[0m \u001b[0;36m100\u001b[0m\u001b[0;34m,\u001b[0m \u001b[0mNthermalize\u001b[0m \u001b[0;34m=\u001b[0m \u001b[0;36m0\u001b[0m \u001b[0;34m,\u001b[0m\u001b[0mNstep\u001b[0m \u001b[0;34m=\u001b[0m \u001b[0;36m1\u001b[0m\u001b[0;34m,\u001b[0m \u001b[0mN_PT\u001b[0m \u001b[0;34m=\u001b[0m\u001b[0;36m1\u001b[0m\u001b[0;34m,\u001b[0m \u001b[0mconfig_init\u001b[0m \u001b[0;34m=\u001b[0m \u001b[0;34m[\u001b[0m\u001b[0;34m]\u001b[0m\u001b[0;34m,\u001b[0m \u001b[0mbeta\u001b[0m \u001b[0;34m=\u001b[0m \u001b[0;36m1\u001b[0m\u001b[0;34m,\u001b[0m\u001b[0mbatches\u001b[0m \u001b[0;34m=\u001b[0m \u001b[0mNone\u001b[0m\u001b[0;34m,\u001b[0m\u001b[0mreshape\u001b[0m \u001b[0;34m=\u001b[0m \u001b[0mTrue\u001b[0m\u001b[0;34m,\u001b[0m\u001b[0mrecord_replica\u001b[0m \u001b[0;34m=\u001b[0m \u001b[0mFalse\u001b[0m\u001b[0;34m,\u001b[0m \u001b[0mrecord_acceptance\u001b[0m\u001b[0;34m=\u001b[0m\u001b[0mNone\u001b[0m\u001b[0;34m,\u001b[0m \u001b[0mupdate_betas\u001b[0m \u001b[0;34m=\u001b[0m \u001b[0mNone\u001b[0m\u001b[0;34m,\u001b[0m\u001b[0mrecord_swaps\u001b[0m\u001b[0;34m=\u001b[0m\u001b[0mFalse\u001b[0m\u001b[0;34m)\u001b[0m\u001b[0;34m:\u001b[0m\u001b[0;34m\u001b[0m\u001b[0m\n\u001b[0;32m--> 177\u001b[0;31m         \u001b[0;32mreturn\u001b[0m \u001b[0msuper\u001b[0m\u001b[0;34m(\u001b[0m\u001b[0mBM\u001b[0m\u001b[0;34m,\u001b[0m\u001b[0mself\u001b[0m\u001b[0;34m)\u001b[0m\u001b[0;34m.\u001b[0m\u001b[0mgen_data\u001b[0m\u001b[0;34m(\u001b[0m\u001b[0mNchains\u001b[0m \u001b[0;34m=\u001b[0m \u001b[0mNchains\u001b[0m\u001b[0;34m,\u001b[0m\u001b[0mLchains\u001b[0m\u001b[0;34m=\u001b[0m\u001b[0mLchains\u001b[0m\u001b[0;34m,\u001b[0m\u001b[0mNthermalize\u001b[0m\u001b[0;34m=\u001b[0m\u001b[0mNthermalize\u001b[0m\u001b[0;34m,\u001b[0m\u001b[0mNstep\u001b[0m\u001b[0;34m=\u001b[0m\u001b[0mNstep\u001b[0m\u001b[0;34m,\u001b[0m \u001b[0mN_PT\u001b[0m \u001b[0;34m=\u001b[0m \u001b[0mN_PT\u001b[0m\u001b[0;34m,\u001b[0m \u001b[0mconfig_init\u001b[0m\u001b[0;34m=\u001b[0m\u001b[0mconfig_init\u001b[0m\u001b[0;34m,\u001b[0m \u001b[0mbeta\u001b[0m \u001b[0;34m=\u001b[0m\u001b[0mbeta\u001b[0m\u001b[0;34m,\u001b[0m \u001b[0mbatches\u001b[0m \u001b[0;34m=\u001b[0m \u001b[0mbatches\u001b[0m\u001b[0;34m,\u001b[0m\u001b[0mreshape\u001b[0m\u001b[0;34m=\u001b[0m\u001b[0mreshape\u001b[0m\u001b[0;34m,\u001b[0m\u001b[0mrecord_replica\u001b[0m\u001b[0;34m=\u001b[0m\u001b[0mrecord_replica\u001b[0m\u001b[0;34m,\u001b[0m\u001b[0mrecord_acceptance\u001b[0m\u001b[0;34m=\u001b[0m\u001b[0mrecord_acceptance\u001b[0m\u001b[0;34m,\u001b[0m\u001b[0mupdate_betas\u001b[0m\u001b[0;34m=\u001b[0m\u001b[0mupdate_betas\u001b[0m\u001b[0;34m,\u001b[0m\u001b[0mrecord_swaps\u001b[0m\u001b[0;34m=\u001b[0m\u001b[0mrecord_swaps\u001b[0m\u001b[0;34m)\u001b[0m\u001b[0;34m\u001b[0m\u001b[0m\n\u001b[0m\u001b[1;32m    178\u001b[0m \u001b[0;34m\u001b[0m\u001b[0m\n\u001b[1;32m    179\u001b[0m \u001b[0;34m\u001b[0m\u001b[0m\n",
      "\u001b[0;32m/users/harsh/Work/learningDynamics/Jerome_scripts_Original/PGM/pgm.pyc\u001b[0m in \u001b[0;36mgen_data\u001b[0;34m(self, Nchains, Lchains, Nthermalize, Nstep, N_PT, config_init, beta, batches, reshape, record_replica, record_acceptance, update_betas, record_swaps)\u001b[0m\n\u001b[1;32m    151\u001b[0m         \u001b[0;32mfor\u001b[0m \u001b[0mi\u001b[0m \u001b[0;32min\u001b[0m \u001b[0mrange\u001b[0m\u001b[0;34m(\u001b[0m\u001b[0mn_iter\u001b[0m\u001b[0;34m)\u001b[0m\u001b[0;34m:\u001b[0m\u001b[0;34m\u001b[0m\u001b[0m\n\u001b[1;32m    152\u001b[0m             \u001b[0;32mif\u001b[0m \u001b[0mconfig_init\u001b[0m \u001b[0;34m==\u001b[0m \u001b[0;34m[\u001b[0m\u001b[0;34m]\u001b[0m\u001b[0;34m:\u001b[0m\u001b[0;34m\u001b[0m\u001b[0m\n\u001b[0;32m--> 153\u001b[0;31m                 \u001b[0mconfig\u001b[0m \u001b[0;34m=\u001b[0m \u001b[0mself\u001b[0m\u001b[0;34m.\u001b[0m\u001b[0m_gen_data\u001b[0m\u001b[0;34m(\u001b[0m\u001b[0mNthermalize\u001b[0m\u001b[0;34m,\u001b[0m \u001b[0mNdata\u001b[0m\u001b[0;34m,\u001b[0m\u001b[0mNstep\u001b[0m\u001b[0;34m,\u001b[0m \u001b[0mN_PT\u001b[0m \u001b[0;34m=\u001b[0m \u001b[0mN_PT\u001b[0m\u001b[0;34m,\u001b[0m \u001b[0mbatches\u001b[0m \u001b[0;34m=\u001b[0m \u001b[0mbatches\u001b[0m\u001b[0;34m,\u001b[0m \u001b[0mreshape\u001b[0m \u001b[0;34m=\u001b[0m \u001b[0mFalse\u001b[0m\u001b[0;34m,\u001b[0m\u001b[0mbeta\u001b[0m \u001b[0;34m=\u001b[0m \u001b[0mbeta\u001b[0m\u001b[0;34m,\u001b[0m\u001b[0mrecord_replica\u001b[0m \u001b[0;34m=\u001b[0m \u001b[0mrecord_replica\u001b[0m\u001b[0;34m,\u001b[0m \u001b[0mrecord_acceptance\u001b[0m\u001b[0;34m=\u001b[0m\u001b[0mrecord_acceptance\u001b[0m\u001b[0;34m,\u001b[0m\u001b[0mupdate_betas\u001b[0m\u001b[0;34m=\u001b[0m\u001b[0mupdate_betas\u001b[0m\u001b[0;34m,\u001b[0m\u001b[0mrecord_swaps\u001b[0m\u001b[0;34m=\u001b[0m\u001b[0mrecord_swaps\u001b[0m\u001b[0;34m)\u001b[0m\u001b[0;34m\u001b[0m\u001b[0m\n\u001b[0m\u001b[1;32m    154\u001b[0m             \u001b[0;32melse\u001b[0m\u001b[0;34m:\u001b[0m\u001b[0;34m\u001b[0m\u001b[0m\n\u001b[1;32m    155\u001b[0m                 \u001b[0mconfig\u001b[0m \u001b[0;34m=\u001b[0m \u001b[0mself\u001b[0m\u001b[0;34m.\u001b[0m\u001b[0m_gen_data\u001b[0m\u001b[0;34m(\u001b[0m\u001b[0mNthermalize\u001b[0m\u001b[0;34m,\u001b[0m \u001b[0mNdata\u001b[0m\u001b[0;34m,\u001b[0m\u001b[0mNstep\u001b[0m\u001b[0;34m,\u001b[0m \u001b[0mN_PT\u001b[0m \u001b[0;34m=\u001b[0m \u001b[0mN_PT\u001b[0m\u001b[0;34m,\u001b[0m \u001b[0mbatches\u001b[0m \u001b[0;34m=\u001b[0m \u001b[0mbatches\u001b[0m\u001b[0;34m,\u001b[0m \u001b[0mreshape\u001b[0m \u001b[0;34m=\u001b[0m \u001b[0mFalse\u001b[0m\u001b[0;34m,\u001b[0m\u001b[0mbeta\u001b[0m \u001b[0;34m=\u001b[0m \u001b[0mbeta\u001b[0m\u001b[0;34m,\u001b[0m\u001b[0mrecord_replica\u001b[0m \u001b[0;34m=\u001b[0m \u001b[0mrecord_replica\u001b[0m\u001b[0;34m,\u001b[0m \u001b[0mconfig_init\u001b[0m \u001b[0;34m=\u001b[0m \u001b[0mconfig_init\u001b[0m\u001b[0;34m[\u001b[0m\u001b[0mbatches\u001b[0m\u001b[0;34m*\u001b[0m\u001b[0mi\u001b[0m\u001b[0;34m:\u001b[0m\u001b[0mbatches\u001b[0m\u001b[0;34m*\u001b[0m\u001b[0;34m(\u001b[0m\u001b[0mi\u001b[0m\u001b[0;34m+\u001b[0m\u001b[0;36m1\u001b[0m\u001b[0;34m)\u001b[0m\u001b[0;34m]\u001b[0m\u001b[0;34m,\u001b[0m\u001b[0mrecord_acceptance\u001b[0m\u001b[0;34m=\u001b[0m\u001b[0mrecord_acceptance\u001b[0m\u001b[0;34m,\u001b[0m\u001b[0mupdate_betas\u001b[0m\u001b[0;34m=\u001b[0m\u001b[0mupdate_betas\u001b[0m\u001b[0;34m,\u001b[0m\u001b[0mrecord_swaps\u001b[0m\u001b[0;34m=\u001b[0m\u001b[0mrecord_swaps\u001b[0m\u001b[0;34m)\u001b[0m\u001b[0;34m\u001b[0m\u001b[0m\n",
      "\u001b[0;32m/users/harsh/Work/learningDynamics/Jerome_scripts_Original/PGM/pgm.pyc\u001b[0m in \u001b[0;36m_gen_data\u001b[0;34m(self, Nthermalize, Ndata, Nstep, N_PT, batches, reshape, config_init, beta, record_replica, record_acceptance, update_betas, record_swaps)\u001b[0m\n\u001b[1;32m    236\u001b[0m                             \u001b[0mself\u001b[0m\u001b[0;34m.\u001b[0m\u001b[0mupdate_betas\u001b[0m\u001b[0;34m(\u001b[0m\u001b[0mbeta\u001b[0m\u001b[0;34m=\u001b[0m\u001b[0mbeta\u001b[0m\u001b[0;34m)\u001b[0m\u001b[0;34m\u001b[0m\u001b[0m\n\u001b[1;32m    237\u001b[0m                     \u001b[0;32melse\u001b[0m\u001b[0;34m:\u001b[0m\u001b[0;34m\u001b[0m\u001b[0m\n\u001b[0;32m--> 238\u001b[0;31m                         \u001b[0mconfig\u001b[0m \u001b[0;34m=\u001b[0m \u001b[0mself\u001b[0m\u001b[0;34m.\u001b[0m\u001b[0mmarkov_step\u001b[0m\u001b[0;34m(\u001b[0m\u001b[0mconfig\u001b[0m\u001b[0;34m,\u001b[0m \u001b[0mbeta\u001b[0m \u001b[0;34m=\u001b[0m \u001b[0mbeta\u001b[0m\u001b[0;34m)\u001b[0m\u001b[0;34m\u001b[0m\u001b[0m\n\u001b[0m\u001b[1;32m    239\u001b[0m             \u001b[0;32mif\u001b[0m \u001b[0mself\u001b[0m\u001b[0;34m.\u001b[0m\u001b[0mn_layers\u001b[0m \u001b[0;34m==\u001b[0m\u001b[0;36m1\u001b[0m\u001b[0;34m:\u001b[0m\u001b[0;34m\u001b[0m\u001b[0m\n\u001b[1;32m    240\u001b[0m                 \u001b[0mdata\u001b[0m\u001b[0;34m.\u001b[0m\u001b[0mappend\u001b[0m\u001b[0;34m(\u001b[0m \u001b[0mutilities\u001b[0m\u001b[0;34m.\u001b[0m\u001b[0mcopy_config\u001b[0m\u001b[0;34m(\u001b[0m\u001b[0mconfig\u001b[0m\u001b[0;34m,\u001b[0m\u001b[0mN_PT\u001b[0m\u001b[0;34m=\u001b[0m\u001b[0mN_PT\u001b[0m\u001b[0;34m,\u001b[0m\u001b[0mrecord_replica\u001b[0m\u001b[0;34m=\u001b[0m\u001b[0mrecord_replica\u001b[0m\u001b[0;34m)\u001b[0m  \u001b[0;34m)\u001b[0m\u001b[0;34m\u001b[0m\u001b[0m\n",
      "\u001b[0;32m/users/harsh/Work/learningDynamics/Jerome_scripts_Original/PGM/bm.pyc\u001b[0m in \u001b[0;36mmarkov_step\u001b[0;34m(self, (x, fields_eff), beta)\u001b[0m\n\u001b[1;32m    107\u001b[0m \u001b[0;34m\u001b[0m\u001b[0m\n\u001b[1;32m    108\u001b[0m     \u001b[0;32mdef\u001b[0m \u001b[0mmarkov_step\u001b[0m\u001b[0;34m(\u001b[0m\u001b[0mself\u001b[0m\u001b[0;34m,\u001b[0m\u001b[0;34m(\u001b[0m\u001b[0mx\u001b[0m\u001b[0;34m,\u001b[0m\u001b[0mfields_eff\u001b[0m\u001b[0;34m)\u001b[0m\u001b[0;34m,\u001b[0m\u001b[0mbeta\u001b[0m \u001b[0;34m=\u001b[0m\u001b[0;36m1\u001b[0m\u001b[0;34m)\u001b[0m\u001b[0;34m:\u001b[0m\u001b[0;34m\u001b[0m\u001b[0m\n\u001b[0;32m--> 109\u001b[0;31m          \u001b[0;34m(\u001b[0m\u001b[0mx\u001b[0m\u001b[0;34m,\u001b[0m\u001b[0mfields_eff\u001b[0m\u001b[0;34m)\u001b[0m \u001b[0;34m=\u001b[0m \u001b[0mself\u001b[0m\u001b[0;34m.\u001b[0m\u001b[0mlayer\u001b[0m\u001b[0;34m.\u001b[0m\u001b[0msample_from_inputs\u001b[0m\u001b[0;34m(\u001b[0m \u001b[0mNone\u001b[0m\u001b[0;34m,\u001b[0m\u001b[0mprevious\u001b[0m \u001b[0;34m=\u001b[0m \u001b[0;34m(\u001b[0m\u001b[0mx\u001b[0m\u001b[0;34m,\u001b[0m\u001b[0mfields_eff\u001b[0m\u001b[0;34m)\u001b[0m\u001b[0;34m,\u001b[0m \u001b[0mbeta\u001b[0m \u001b[0;34m=\u001b[0m \u001b[0mbeta\u001b[0m\u001b[0;34m)\u001b[0m\u001b[0;34m\u001b[0m\u001b[0m\n\u001b[0m\u001b[1;32m    110\u001b[0m          \u001b[0;32mreturn\u001b[0m \u001b[0;34m(\u001b[0m\u001b[0mx\u001b[0m\u001b[0;34m,\u001b[0m\u001b[0mfields_eff\u001b[0m\u001b[0;34m)\u001b[0m\u001b[0;34m\u001b[0m\u001b[0m\n\u001b[1;32m    111\u001b[0m \u001b[0;34m\u001b[0m\u001b[0m\n",
      "\u001b[0;32m/users/harsh/Work/learningDynamics/Jerome_scripts_Original/PGM/layer.pyc\u001b[0m in \u001b[0;36msample_from_inputs\u001b[0;34m(self, psi, beta, previous)\u001b[0m\n\u001b[1;32m    656\u001b[0m                 \u001b[0mx\u001b[0m\u001b[0;34m,\u001b[0m\u001b[0mfields_eff\u001b[0m\u001b[0;34m=\u001b[0m\u001b[0mcy_utilities\u001b[0m\u001b[0;34m.\u001b[0m\u001b[0mPotts_Gibbs_input_C\u001b[0m\u001b[0;34m(\u001b[0m\u001b[0mx\u001b[0m\u001b[0;34m.\u001b[0m\u001b[0mshape\u001b[0m\u001b[0;34m[\u001b[0m\u001b[0;36m0\u001b[0m\u001b[0;34m]\u001b[0m\u001b[0;34m,\u001b[0m \u001b[0mself\u001b[0m\u001b[0;34m.\u001b[0m\u001b[0mN\u001b[0m\u001b[0;34m,\u001b[0m\u001b[0mself\u001b[0m\u001b[0;34m.\u001b[0m\u001b[0mn_c\u001b[0m\u001b[0;34m,\u001b[0m\u001b[0mbeta\u001b[0m\u001b[0;34m,\u001b[0m\u001b[0mx\u001b[0m\u001b[0;34m,\u001b[0m\u001b[0mfields_eff\u001b[0m\u001b[0;34m,\u001b[0m\u001b[0mpsi\u001b[0m\u001b[0;34m,\u001b[0m \u001b[0mself\u001b[0m\u001b[0;34m.\u001b[0m\u001b[0mfields0\u001b[0m\u001b[0;34m,\u001b[0m \u001b[0mself\u001b[0m\u001b[0;34m.\u001b[0m\u001b[0mcouplings\u001b[0m\u001b[0;34m,\u001b[0m \u001b[0mself\u001b[0m\u001b[0;34m.\u001b[0m\u001b[0mrandom_state\u001b[0m\u001b[0;34m.\u001b[0m\u001b[0mrandint\u001b[0m\u001b[0;34m(\u001b[0m\u001b[0;36m0\u001b[0m\u001b[0;34m,\u001b[0m\u001b[0mhigh\u001b[0m\u001b[0;34m=\u001b[0m\u001b[0mself\u001b[0m\u001b[0;34m.\u001b[0m\u001b[0mN\u001b[0m\u001b[0;34m,\u001b[0m\u001b[0msize\u001b[0m\u001b[0;34m=\u001b[0m\u001b[0;34m[\u001b[0m\u001b[0mx\u001b[0m\u001b[0;34m.\u001b[0m\u001b[0mshape\u001b[0m\u001b[0;34m[\u001b[0m\u001b[0;36m0\u001b[0m\u001b[0;34m]\u001b[0m\u001b[0;34m,\u001b[0m\u001b[0mself\u001b[0m\u001b[0;34m.\u001b[0m\u001b[0mN\u001b[0m\u001b[0;34m]\u001b[0m\u001b[0;34m)\u001b[0m\u001b[0;34m,\u001b[0m \u001b[0mself\u001b[0m\u001b[0;34m.\u001b[0m\u001b[0mrandom_state\u001b[0m\u001b[0;34m.\u001b[0m\u001b[0mrand\u001b[0m\u001b[0;34m(\u001b[0m\u001b[0mx\u001b[0m\u001b[0;34m.\u001b[0m\u001b[0mshape\u001b[0m\u001b[0;34m[\u001b[0m\u001b[0;36m0\u001b[0m\u001b[0;34m]\u001b[0m\u001b[0;34m,\u001b[0m\u001b[0mself\u001b[0m\u001b[0;34m.\u001b[0m\u001b[0mN\u001b[0m\u001b[0;34m)\u001b[0m \u001b[0;34m)\u001b[0m\u001b[0;34m\u001b[0m\u001b[0m\n\u001b[1;32m    657\u001b[0m             \u001b[0;32melse\u001b[0m\u001b[0;34m:\u001b[0m\u001b[0;34m\u001b[0m\u001b[0m\n\u001b[0;32m--> 658\u001b[0;31m                 \u001b[0mx\u001b[0m\u001b[0;34m,\u001b[0m\u001b[0mfields_eff\u001b[0m\u001b[0;34m=\u001b[0m\u001b[0mcy_utilities\u001b[0m\u001b[0;34m.\u001b[0m\u001b[0mPotts_Gibbs_free_C\u001b[0m\u001b[0;34m(\u001b[0m\u001b[0mx\u001b[0m\u001b[0;34m.\u001b[0m\u001b[0mshape\u001b[0m\u001b[0;34m[\u001b[0m\u001b[0;36m0\u001b[0m\u001b[0;34m]\u001b[0m\u001b[0;34m,\u001b[0m \u001b[0mself\u001b[0m\u001b[0;34m.\u001b[0m\u001b[0mN\u001b[0m\u001b[0;34m,\u001b[0m\u001b[0mself\u001b[0m\u001b[0;34m.\u001b[0m\u001b[0mn_c\u001b[0m\u001b[0;34m,\u001b[0m\u001b[0mbeta\u001b[0m\u001b[0;34m,\u001b[0m\u001b[0mx\u001b[0m\u001b[0;34m,\u001b[0m\u001b[0mfields_eff\u001b[0m\u001b[0;34m,\u001b[0m \u001b[0mself\u001b[0m\u001b[0;34m.\u001b[0m\u001b[0mfields0\u001b[0m\u001b[0;34m,\u001b[0m\u001b[0mself\u001b[0m\u001b[0;34m.\u001b[0m\u001b[0mcouplings\u001b[0m\u001b[0;34m,\u001b[0m \u001b[0mself\u001b[0m\u001b[0;34m.\u001b[0m\u001b[0mrandom_state\u001b[0m\u001b[0;34m.\u001b[0m\u001b[0mrandint\u001b[0m\u001b[0;34m(\u001b[0m\u001b[0;36m0\u001b[0m\u001b[0;34m,\u001b[0m\u001b[0mhigh\u001b[0m\u001b[0;34m=\u001b[0m\u001b[0mself\u001b[0m\u001b[0;34m.\u001b[0m\u001b[0mN\u001b[0m\u001b[0;34m,\u001b[0m\u001b[0msize\u001b[0m\u001b[0;34m=\u001b[0m\u001b[0;34m[\u001b[0m\u001b[0mx\u001b[0m\u001b[0;34m.\u001b[0m\u001b[0mshape\u001b[0m\u001b[0;34m[\u001b[0m\u001b[0;36m0\u001b[0m\u001b[0;34m]\u001b[0m\u001b[0;34m,\u001b[0m\u001b[0mself\u001b[0m\u001b[0;34m.\u001b[0m\u001b[0mN\u001b[0m\u001b[0;34m]\u001b[0m\u001b[0;34m)\u001b[0m\u001b[0;34m,\u001b[0m \u001b[0mself\u001b[0m\u001b[0;34m.\u001b[0m\u001b[0mrandom_state\u001b[0m\u001b[0;34m.\u001b[0m\u001b[0mrand\u001b[0m\u001b[0;34m(\u001b[0m\u001b[0mx\u001b[0m\u001b[0;34m.\u001b[0m\u001b[0mshape\u001b[0m\u001b[0;34m[\u001b[0m\u001b[0;36m0\u001b[0m\u001b[0;34m]\u001b[0m\u001b[0;34m,\u001b[0m\u001b[0mself\u001b[0m\u001b[0;34m.\u001b[0m\u001b[0mN\u001b[0m\u001b[0;34m)\u001b[0m \u001b[0;34m)\u001b[0m\u001b[0;34m\u001b[0m\u001b[0m\n\u001b[0m\u001b[1;32m    659\u001b[0m             \u001b[0;32mreturn\u001b[0m \u001b[0;34m(\u001b[0m\u001b[0mx\u001b[0m\u001b[0;34m,\u001b[0m\u001b[0mfields_eff\u001b[0m\u001b[0;34m)\u001b[0m\u001b[0;34m\u001b[0m\u001b[0m\n\u001b[1;32m    660\u001b[0m \u001b[0;34m\u001b[0m\u001b[0m\n",
      "\u001b[0;31mKeyboardInterrupt\u001b[0m: "
     ]
    }
   ],
   "source": [
    "data = BM.gen_data(Nchains=1,Nthermalize=0,Lchains=200000,Nstep=200)\n",
    "#data = BM.gen_data(Nchains=1,Nthermalize=0,Lchains=np.max(Num_configs),Nstep=200)\n",
    "#for i in range(len(Num_configs)):\n",
    "#    data.append(BM.gen_data(Nchains=1,Nthermalize=0,Lchains=Num_configs[i],Nstep=200)) # N steps."
   ]
  },
  {
   "cell_type": "code",
   "execution_count": 3,
   "metadata": {
    "collapsed": true
   },
   "outputs": [],
   "source": [
    "def XY1dCouplings(BM,size=100,beta=1.0,num_states=10,PBC=False):\n",
    "    \n",
    "    # This is only the nearest neighbour interactions XY model on a 1D lattcie\n",
    "    pottsCouplings = np.zeros([num_states,num_states])\n",
    "    \n",
    "    for i in np.arange(0,num_states):\n",
    "        for j in np.arange(0,num_states):\n",
    "            pottsCouplings[i,j] = np.cos((i-j)*2*np.pi/num_states)\n",
    "        \n",
    "    BM.layer.couplings[(np.eye(N=size,k=-1)+np.eye(N=size,k=+1)).astype(bool),:,:] = beta*pottsCouplings\n",
    "    \n",
    "    if PBC is True:\n",
    "        BM.layer.couplings[0,-1] = beta*pottsCouplings\n",
    "        BM.layer.couplings[-1,0] = beta*pottsCouplings\n",
    "    \n",
    "    return BM.layer.couplings"
   ]
  },
  {
   "cell_type": "code",
   "execution_count": 170,
   "metadata": {
    "collapsed": true
   },
   "outputs": [],
   "source": [
    "def XY1dCouplingsMF1(BM,size=100,beta=1.0,num_states=10,PBC=False):\n",
    "    \n",
    "    # This is only the nearest neighbour interactions XY model on a 1D lattcie\n",
    "    pottsCouplings = np.zeros([num_states,num_states])\n",
    "    \n",
    "    pottsCouplings[np.eye(N=num_states,k=0).astype(bool)] = 1\n",
    "    pottsCouplings[(np.eye(N=num_states,k=-1) + np.eye(N=num_states,k=+1)).astype(bool)] = 0.8\n",
    "    \n",
    "    pottsCouplings[0,-1] = 0.8\n",
    "    pottsCouplings[-1,0] = 0.8\n",
    "    \n",
    "        \n",
    "    BM.layer.couplings[(np.eye(N=size,k=-1)+np.eye(N=size,k=+1)).astype(bool),:,:] = beta*pottsCouplings\n",
    "    \n",
    "    if PBC is True:\n",
    "        BM.layer.couplings[0,-1] = beta*pottsCouplings\n",
    "        BM.layer.couplings[-1,0] = beta*pottsCouplings\n",
    "    \n",
    "    return BM.layer.couplings"
   ]
  },
  {
   "cell_type": "code",
   "execution_count": 15,
   "metadata": {
    "collapsed": true
   },
   "outputs": [],
   "source": [
    "def XY2dCouplings(BM,size=20,beta1=1.0,beta2=1.0,num_states=10,PBC=False):\n",
    "    \n",
    "    # This is only the nearest neighbour XY model on a 2D square lattice\n",
    "    # Calculate the KT transition beta\n",
    "        \n",
    "    pottsCouplings = np.zeros([num_states,num_states])\n",
    "    N = size\n",
    "    \n",
    "    for i in np.arange(0,num_states):\n",
    "        for j in np.arange(0,num_states):\n",
    "            pottsCouplings[i,j] = np.cos((i-j)*2*np.pi/num_states)\n",
    "            \n",
    "    BM.layer.couplings[(np.eye(N=size**2,k=1) + np.eye(N=size**2,k=-1)).astype(bool),:,:] =  beta1*pottsCouplings\n",
    "    BM.layer.couplings[(np.eye(N=size**2,k=size) + np.eye(N=size**2,k=-size)).astype(bool),:,:] =  beta2*pottsCouplings\n",
    "    \n",
    "    # Remove the couplings of the left most coloumn to that of the last coloumn in its previous row:\n",
    "    for i in np.arange(0,N*N,N):\n",
    "        BM.layer.couplings[i,i-1] = 0\n",
    "        BM.layer.couplings[i-1,i] = 0\n",
    "    \n",
    "    if PBC is True:\n",
    "        # Add the couplings of the first row to that of the last row and vice versa:\n",
    "        for i in np.arange(0,N):\n",
    "            BM.layer.couplings[i,(size**2)-N+i] = beta2*pottsCouplings\n",
    "            BM.layer.couplings[(size**2)-N+i,i] = beta2*pottsCouplings\n",
    "        # Add the couplings of the left most column to the right most coloumn:\n",
    "            BM.layer.couplings[i,i+N-1] = beta1*pottsCouplings\n",
    "            BM.layer.couplings[i+N-1,i] = beta1*pottsCouplings\n",
    "    \n",
    "    return BM.layer.couplings"
   ]
  },
  {
   "cell_type": "code",
   "execution_count": null,
   "metadata": {
    "scrolled": true
   },
   "outputs": [],
   "source": [
    "RBM = []\n",
    "results = []\n",
    "#data = []\n",
    "weights = np.zeros([len(beta),len(Num_configs),num_hidden,N,BM.n_c])\n",
    "topEVec = np.zeros([len(beta),len(Num_configs),N])\n",
    "overlap = np.zeros([len(beta),len(Num_configs),num_hidden])\n",
    "overlap_full = np.zeros([len(beta),len(Num_configs),num_hidden])\n",
    "topEVec_full = np.zeros([len(beta),N])\n",
    "overlap_proper = np.zeros([len(beta),len(Num_configs),num_hidden,N*BM.n_c])\n",
    "overlap_proper_full = np.zeros([len(beta),len(Num_configs),num_hidden,N*BM.n_c])\n",
    "covMATEVEC = np.zeros([len(beta),len(Num_configs),N*BM.n_c,N*BM.n_c])\n",
    "covMATEVEC_full = np.zeros([len(beta),N*BM.n_c,N*BM.n_c])\n",
    "covMATEVAL = np.zeros([len(beta),len(Num_configs),N*BM.n_c])\n",
    "covMATEVAL_full = np.zeros([len(beta),N*BM.n_c])\n",
    "\n",
    "for j in range(len(beta)):\n",
    "    \n",
    "    BM.layer.couplings = XY1dCouplingsMF1(BM,size = 100,beta=beta[j],num_states=10,PBC=True)\n",
    "    #data.append(BM.gen_data(Nchains=1,Nthermalize=0,Lchains=200000,Nstep=200))\n",
    "    topEVec_full[j],_ = topEV(data[j].T,method='Correlation')\n",
    "    _,covMATEVEC_full[j],covMATEVAL_full[j] = corXY(data[j],10,100)\n",
    "\n",
    "    for i in range(len(Num_configs)):\n",
    "        \n",
    "        #Train the model\n",
    "        RBM.append(rbm.RBM(visible = 'Potts', n_cv=10, n_v=N, n_h = num_hidden, hidden = 'Bernoulli',zero_field = True))\n",
    "        results.append(RBM[i+j].fit(data[j][0:Num_configs[i]],n_iter=20,verbose=0,learning_rate = 0.1,record=['W'],\\\n",
    "                                  record_interval=100,batch_size=100,N_MC= 20, lr_decay=False,batch_norm=False))\n",
    "\n",
    "        topEVec[j,i],_ = topEV(data[j][0:Num_configs[i]].T,method='Correlation')\n",
    "        _,covMATEVEC[j,i],covMATEVAL[j,i] = corXY(data[j][0:Num_configs[i]],10,100)\n",
    "        \n",
    "        for k in range(RBM[i].n_h):\n",
    "            weights[j,i,k]      = np.copy(np.array(results[i+j]['W'])[-1,k,:,:])\n",
    "            overlap[j,i,k]      = abs(np.dot(np.sum(abs(weights[j,i,k]),axis=1),topEVec[j,i]))\n",
    "            overlap_full[j,i,k] = abs(np.dot(np.sum(abs(weights[j,i,k]),axis=1),topEVec_full[j]))\n",
    "            \n",
    "            for l in range(N*BM.n_c):\n",
    "                overlap_proper[j,i,k,l]      = np.sum(np.multiply(weights[j,i,k],np.reshape(covMATEVEC[j,i,:,l],[N,BM.n_c])))\n",
    "                overlap_proper_full[j,i,k,l] = np.sum(np.multiply(weights[j,i,k],np.reshape(covMATEVEC_full[j,:,l],[N,BM.n_c])))"
   ]
  },
  {
   "cell_type": "code",
   "execution_count": null,
   "metadata": {
    "collapsed": true
   },
   "outputs": [],
   "source": [
    "def cosfit(x,peak,phase,freq):\n",
    "    return peak*np.cos(x*freq + phase)\n",
    "\n",
    "popt = np.zeros([len(np.array(results['W'])[:,0,0,0]),RBM.n_h,len(np.array(results['W'])[-1,0,:,0]),3])\n",
    "popc = np.zeros([len(np.array(results['W'])[:,0,0,0]),RBM.n_h,len(np.array(results['W'])[-1,0,:,0]),3,3])\n",
    "\n",
    "for i in np.arange(len(np.array(results['W'])[-1,0,:,0])):\n",
    "    for j in np.arange(len(np.array(results['W'])[:,0,0,0])):\n",
    "        for k in np.arange(RBM.n_h):\n",
    "            try:\n",
    "                popt[j,k,i],popc[j,k,i] = sc.optimize.curve_fit(cosfit,np.arange(10),(np.array(results['W'])[j,k,i,:]),[1,1,2*np.pi/10],bounds=(0,[np.inf,2*np.pi,np.inf]))\n",
    "            except:\n",
    "                pass"
   ]
  },
  {
   "cell_type": "code",
   "execution_count": 77,
   "metadata": {
    "collapsed": true
   },
   "outputs": [],
   "source": [
    "# Top Eignvectors of the C_ij matrix:\n",
    "def topEV(data,method='Covariance'):\n",
    "    if method is 'Covariance':\n",
    "        #Find the covariance matrix:\n",
    "        covMAT = np.cov(data)\n",
    "    elif method is 'Correlation':\n",
    "        covMAT = np.corrcoef(data)\n",
    "    Eval,Evec = np.linalg.eig(covMAT)\n",
    "    return Evec[:,np.argmax(Eval)],np.max(Eval)"
   ]
  },
  {
   "cell_type": "code",
   "execution_count": 128,
   "metadata": {
    "collapsed": true
   },
   "outputs": [],
   "source": [
    "def corXY(data,num_configs,num_sites,method='Correlation'):\n",
    "    \n",
    "    cov_mat = np.zeros([num_configs*num_sites,num_configs*num_sites])\n",
    "    \n",
    "    if method is 'Covariance':\n",
    "        for i1 in np.arange((num_sites)):\n",
    "            for j1 in np.arange((num_configs)):\n",
    "                for i2 in np.arange((num_sites)):\n",
    "                    for j2 in np.arange((num_configs)):\n",
    "                        cov_mat[i1*num_configs+j1, i2*num_configs+j2] = \\\n",
    "                        np.float(np.count_nonzero(np.logical_and(data[:,i1]==j1,data[:,i2]==j2)))/(len(data)) \\\n",
    "                        - np.float(np.count_nonzero(data[:,i1]==j1)*np.count_nonzero(data[:,i2]==j2))/(len(data)**2)\n",
    "\n",
    "    if method is 'Correlation':\n",
    "        \n",
    "        diag_mat = np.zeros(num_configs*num_sites)\n",
    "        \n",
    "        for i1 in np.arange((num_sites)):\n",
    "            for j1 in np.arange((num_configs)):\n",
    "                        diag_mat[i1*num_configs+j1] = \\\n",
    "                        np.float(np.count_nonzero(np.logical_and(data[:,i1]==j1,data[:,i1]==j1)))/(len(data)) \\\n",
    "                        - np.float(np.count_nonzero(data[:,i1]==j1)*np.count_nonzero(data[:,i1]==j1))/(len(data)**2)\n",
    "        \n",
    "        for i1 in np.arange((num_sites)):\n",
    "            for j1 in np.arange((num_configs)):\n",
    "                for i2 in np.arange((num_sites)):\n",
    "                    for j2 in np.arange((num_configs)):\n",
    "                        cov_mat[i1*num_configs+j1, i2*num_configs+j2] = \\\n",
    "                        (np.float(np.count_nonzero(np.logical_and(data[:,i1]==j1,data[:,i2]==j2)))/(len(data)) \\\n",
    "                        - np.float(np.count_nonzero(data[:,i1]==j1)*np.count_nonzero(data[:,i2]==j2))/(len(data)**2)\\\n",
    "                        )/np.sqrt(diag_mat[i1*num_configs+j1]*diag_mat[i2*num_configs+j2])\n",
    "    \n",
    "    Eval,Evec = np.linalg.eig(cov_mat)\n",
    "    \n",
    "    return cov_mat,Evec,Eval"
   ]
  },
  {
   "cell_type": "code",
   "execution_count": null,
   "metadata": {
    "collapsed": true
   },
   "outputs": [],
   "source": [
    "overlap_proper = np.zeros([len(beta),len(Num_configs),num_hidden,N*BM.n_c])\n",
    "overlap_proper_full = np.zeros([len(beta),len(Num_configs),num_hidden,N*BM.n_c])\n",
    "covMATEVEC = np.zeros([len(beta),len(Num_configs),N*BM.n_c,N*BM.n_c])\n",
    "covMATEVEC_full = np.zeros([len(beta),N*BM.n_c,N*BM.n_c])\n",
    "covMATEVAL = np.zeros([len(beta),len(Num_configs),N*BM.n_c])\n",
    "covMATEVAL_full = np.zeros([len(beta),N*BM.n_c])\n",
    "\n",
    "for j in range(len(beta)):\n",
    "    _,covMATEVEC_full[j],covMATEVAL_full[j] = corXY(data,10,100)\n",
    "    \n",
    "    for i in range(len(Num_configs)):\n",
    "        _,covMATEVEC[j,i],covMATEVAL[j,i] = corXY(data[0:Num_configs[i]],10,100)\n",
    "        \n",
    "        for k in range(RBM[i].n_h):\n",
    "            for l in range(N*BM.n_c):\n",
    "                overlap_proper[j,i,k,l]      = np.sum(np.multiply(weights[j,i,k],np.reshape(covMATEVEC[j,i,:,l],[N,BM.n_c])))\n",
    "                overlap_proper_full[j,i,k,l] = np.sum(np.multiply(weights[j,i,k],np.reshape(covMATEVEC_full[j,:,l],[N,BM.n_c])))"
   ]
  },
  {
   "cell_type": "code",
   "execution_count": 137,
   "metadata": {},
   "outputs": [
    {
     "data": {
      "text/plain": [
       "[<matplotlib.lines.Line2D at 0x7fd6b77b0a90>]"
      ]
     },
     "execution_count": 137,
     "metadata": {},
     "output_type": "execute_result"
    },
    {
     "data": {
      "image/png": "[encoded data removed]",
      "text/plain": [
       "<matplotlib.figure.Figure at 0x7fd6bb0d6e50>"
      ]
     },
     "metadata": {},
     "output_type": "display_data"
    }
   ],
   "source": [
    "plt.plot(abs(overlap_proper[0,:,0]),'o')"
   ]
  },
  {
   "cell_type": "code",
   "execution_count": 144,
   "metadata": {},
   "outputs": [
    {
     "data": {
      "text/plain": [
       "[<matplotlib.lines.Line2D at 0x7fd6b0d08110>]"
      ]
     },
     "execution_count": 144,
     "metadata": {},
     "output_type": "execute_result"
    },
    {
     "data": {
      "image/png": "[encoded data removed]",
      "text/plain": [
       "<matplotlib.figure.Figure at 0x7fd6b0d70590>"
      ]
     },
     "metadata": {},
     "output_type": "display_data"
    }
   ],
   "source": [
    "plt.plot(abs(overlap_proper_full[0,:,0]),'o')"
   ]
  },
  {
   "cell_type": "code",
   "execution_count": null,
   "metadata": {
    "collapsed": true
   },
   "outputs": [],
   "source": [
    "_, covEV,covEval = corXY(data,10,100)"
   ]
  },
  {
   "cell_type": "code",
   "execution_count": 160,
   "metadata": {},
   "outputs": [
    {
     "data": {
      "text/plain": [
       "<matplotlib.contour.QuadContourSet at 0x7fd6b04b7950>"
      ]
     },
     "execution_count": 160,
     "metadata": {},
     "output_type": "execute_result"
    },
    {
     "data": {
      "image/png": "[encoded data removed]",
      "text/plain": [
       "<matplotlib.figure.Figure at 0x7fd6b058ebd0>"
      ]
     },
     "metadata": {},
     "output_type": "display_data"
    }
   ],
   "source": [
    "plt.contourf(np.reshape(covEV[:,4],[100,10]))"
   ]
  },
  {
   "cell_type": "code",
   "execution_count": 134,
   "metadata": {},
   "outputs": [
    {
     "data": {
      "text/plain": [
       "<matplotlib.contour.QuadContourSet at 0x7fd6b73ffbd0>"
      ]
     },
     "execution_count": 134,
     "metadata": {},
     "output_type": "execute_result"
    },
    {
     "data": {
      "image/png": "[encoded data removed]",
      "text/plain": [
       "<matplotlib.figure.Figure at 0x7fd6b7ea41d0>"
      ]
     },
     "metadata": {},
     "output_type": "display_data"
    }
   ],
   "source": [
    "plt.contourf(np.reshape(covMATEVEC_full[-1],[100,10]))"
   ]
  },
  {
   "cell_type": "code",
   "execution_count": null,
   "metadata": {},
   "outputs": [
    {
     "name": "stdout",
     "output_type": "stream",
     "text": [
      "Starting epoch 1\n",
      "Starting epoch 2\n",
      "Starting epoch 3\n",
      "Starting epoch 4\n",
      "Starting epoch 5\n",
      "Starting epoch 6\n",
      "Starting epoch 7\n",
      "Starting epoch 8\n",
      "Starting epoch 9\n",
      "Starting epoch 10\n"
     ]
    }
   ],
   "source": [
    "RBM_full = (rbm.RBM(visible = 'Potts', n_cv=10, n_v=N, n_h = num_hidden, hidden = 'Bernoulli',zero_field = True))\n",
    "results_full = (RBM_full.fit(data[0],n_iter=20,verbose=0,learning_rate = 0.1,record=['W'],\\\n",
    "                                  record_interval=100,batch_size=100,N_MC= 20, lr_decay=False,batch_norm=False))"
   ]
  },
  {
   "cell_type": "code",
   "execution_count": 201,
   "metadata": {},
   "outputs": [
    {
     "data": {
      "text/plain": [
       "<matplotlib.colorbar.Colorbar at 0x7fd68398a050>"
      ]
     },
     "execution_count": 201,
     "metadata": {},
     "output_type": "execute_result"
    },
    {
     "data": {
      "image/png": "[encoded data removed]",
      "text/plain": [
       "<matplotlib.figure.Figure at 0x7fd683a4b910>"
      ]
     },
     "metadata": {},
     "output_type": "display_data"
    }
   ],
   "source": [
    "plt.figure(figsize=(10,5))\n",
    "plt.contourf(np.array(results_full['W'])[-1,0,:,:])\n",
    "plt.colorbar()"
   ]
  },
  {
   "cell_type": "code",
   "execution_count": 182,
   "metadata": {},
   "outputs": [
    {
     "data": {
      "text/plain": [
       "[<matplotlib.lines.Line2D at 0x7fd6b00ef0d0>]"
      ]
     },
     "execution_count": 182,
     "metadata": {},
     "output_type": "execute_result"
    },
    {
     "data": {
      "image/png": "[encoded data removed]",
      "text/plain": [
       "<matplotlib.figure.Figure at 0x7fd6b04d9410>"
      ]
     },
     "metadata": {},
     "output_type": "display_data"
    }
   ],
   "source": [
    "plt.plot(covMATEVAL_full[0],'.')"
   ]
  },
  {
   "cell_type": "code",
   "execution_count": 200,
   "metadata": {},
   "outputs": [
    {
     "data": {
      "text/plain": [
       "<matplotlib.contour.QuadContourSet at 0x7fd683a03610>"
      ]
     },
     "execution_count": 200,
     "metadata": {},
     "output_type": "execute_result"
    },
    {
     "data": {
      "image/png": "[encoded data removed]",
      "text/plain": [
       "<matplotlib.figure.Figure at 0x7fd683a5b110>"
      ]
     },
     "metadata": {},
     "output_type": "display_data"
    }
   ],
   "source": [
    "plt.contourf(np.reshape(covMATEVEC_full[0,:,0],[100,10]))"
   ]
  },
  {
   "cell_type": "code",
   "execution_count": 199,
   "metadata": {},
   "outputs": [
    {
     "data": {
      "text/plain": [
       "[<matplotlib.lines.Line2D at 0x7fd683a87fd0>]"
      ]
     },
     "execution_count": 199,
     "metadata": {},
     "output_type": "execute_result"
    },
    {
     "data": {
      "image/png": "[encoded data removed]",
      "text/plain": [
       "<matplotlib.figure.Figure at 0x7fd683abd190>"
      ]
     },
     "metadata": {},
     "output_type": "display_data"
    }
   ],
   "source": [
    "plt.plot(abs(overlap_proper_full[0,:,0,2]),'o')"
   ]
  },
  {
   "cell_type": "code",
   "execution_count": null,
   "metadata": {
    "collapsed": true
   },
   "outputs": [],
   "source": []
  }
 ],
 "metadata": {
  "kernelspec": {
   "display_name": "Python 2",
   "language": "python",
   "name": "python2"
  },
  "language_info": {
   "codemirror_mode": {
    "name": "ipython",
    "version": 2
   },
   "file_extension": ".py",
   "mimetype": "text/x-python",
   "name": "python",
   "nbconvert_exporter": "python",
   "pygments_lexer": "ipython2",
   "version": "2.7.14"
  }
 },
 "nbformat": 4,
 "nbformat_minor": 2
}
