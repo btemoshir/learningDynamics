{
 "cells": [
  {
   "cell_type": "markdown",
   "metadata": {},
   "source": [
    "# Geneate Configurations of 1D XY model and train RBM on that.\n",
    "\n",
    "### Its not easy to generate the samples from XY model - we discretize the angles and use potts model instaed."
   ]
  },
  {
   "cell_type": "code",
   "execution_count": 2,
   "metadata": {
    "collapsed": true
   },
   "outputs": [],
   "source": [
    "import sys\n",
    "import os\n",
    "sys.path.append('Jerome_scripts_Original/PGM/')\n",
    "sys.path.append('selfPackages/')\n",
    "sys.path.append('Jerome_scripts_Original/')\n",
    "sys.path.append('ffmpeg-3.4.2-32bit-static/')\n",
    "\n",
    "import numpy as np\n",
    "import scipy as sc\n",
    "import matplotlib\n",
    "%matplotlib inline\n",
    "import matplotlib.pyplot as plt\n",
    "\n",
    "try:\n",
    "    import rbm\n",
    "    import bm\n",
    "except:\n",
    "    print 'Compiling cy_utilities first'\n",
    "    curr_dir = os.getcwd()\n",
    "    os.chdir('PGM/')\n",
    "    !python setup.py build_ext --inplace\n",
    "    print 'Compilation done'\n",
    "    os.chdir(curr_dir)\n",
    "    \n",
    "import pickle\n",
    "from ising import IsingModel\n",
    "import estimate_correlations_ising\n",
    "from sklearn.utils import shuffle\n",
    "import inlineMovies"
   ]
  },
  {
   "cell_type": "code",
   "execution_count": 86,
   "metadata": {
    "collapsed": true
   },
   "outputs": [],
   "source": [
    "import dill\n",
    "dill.dump_session('./data_bruckner/data/notebookData/32_XYmodel_modified_1D_learningTransition-2')"
   ]
  },
  {
   "cell_type": "code",
   "execution_count": null,
   "metadata": {
    "collapsed": true
   },
   "outputs": [],
   "source": [
    "#import dill\n",
    "#dill.load_session('./data_bruckner/data/notebookData/32_XYmodel_modified_1D_learningTransition-2')"
   ]
  },
  {
   "cell_type": "code",
   "execution_count": 2,
   "metadata": {
    "collapsed": true
   },
   "outputs": [],
   "source": [
    "# Save the data array with the 1d XY model configurations: Expensive to generate over again.\n",
    "#np.save('./data_bruckner/data/notebookData/data_XY1D_100000_beta1.5_size100_states=10',data)\n",
    "data = np.load('./data_bruckner/data/notebookData/data_XY1D_100000_beta1.5_size100_states=10.npy')"
   ]
  },
  {
   "cell_type": "code",
   "execution_count": 178,
   "metadata": {
    "collapsed": true
   },
   "outputs": [],
   "source": [
    "#%%capture capt1\n",
    "#Supress the output of the cell and save it to capt1\n",
    "\n",
    "size = 100\n",
    "N = size\n",
    "#beta = 1.5\n",
    "#Num_configs = [100,300,500,700,800,1000,2000]\n",
    "#Num_configs = [100,300,500,700,800,1000,2000,3000,4000,5000,8000]\n",
    "Num_configs = np.append(np.append(np.arange(100,1000,100),np.arange(1000,5000,500)),np.arange(5000,100000,10000))\n",
    "#Num_configs = [200000]\n",
    "beta = [1.5]\n",
    "num_hidden = 1\n",
    "\n",
    "#Generate spins using Gibbs Sampling MCMC\n",
    "BM = bm.BM(N=N,nature='Potts',n_c=10)\n",
    "\n",
    "#Define Couplings\n",
    "BM.layer.couplings = XY1dCouplingsMF2(BM,size = 100,beta=beta,num_states=10,PBC=True)"
   ]
  },
  {
   "cell_type": "code",
   "execution_count": 62,
   "metadata": {},
   "outputs": [
    {
     "name": "stdout",
     "output_type": "stream",
     "text": [
      "[1.5]\n"
     ]
    }
   ],
   "source": [
    "print beta"
   ]
  },
  {
   "cell_type": "code",
   "execution_count": 155,
   "metadata": {},
   "outputs": [
    {
     "name": "stdout",
     "output_type": "stream",
     "text": [
      "[  100   150   200   250   300   350   400   450   500   550   600   650\n",
      "   700   750   800   850   900   950  1000  1100  1200  1300  1400  1500\n",
      "  1600  1700  1800  1900  2000  2100  2200  2300  2400  2500  2600  2700\n",
      "  2800  2900  3000  3100  3200  3300  3400  3500  3600  3700  3800  3900\n",
      "  4000  4100  4200  4300  4400  4500  4600  4700  4800  4900  5000  5100\n",
      "  5200  5300  5400  5500  5600  5700  5800  5900  6000  6100  6200  6300\n",
      "  6400  6500  6600  6700  6800  6900  7000  7100  7200  7300  7400  7500\n",
      "  7600  7700  7800  7900  8000  8100  8200  8300  8400  8500  8600  8700\n",
      "  8800  8900  9000  9100  9200  9300  9400  9500  9600  9700  9800  9900\n",
      " 10000 10100 10200 10300 10400 10500 10600 10700 10800 10900 11000 11100\n",
      " 11200 11300 11400 11500 11600 11700 11800 11900 12000 12100 12200 12300\n",
      " 12400 12500 12600 12700 12800 12900 13000 13100 13200 13300 13400 13500\n",
      " 13600 13700 13800 13900 14000 14100 14200 14300 14400 14500 14600 14700\n",
      " 14800 14900 15000 15100 15200 15300 15400 15500 15600 15700 15800 15900\n",
      " 16000 16100 16200 16300 16400 16500 16600 16700 16800 16900 17000 17100\n",
      " 17200 17300 17400 17500 17600 17700 17800 17900 18000 18100 18200 18300\n",
      " 18400 18500 18600 18700 18800 18900 19000 19100 19200 19300 19400 19500\n",
      " 19600 19700 19800 19900]\n"
     ]
    }
   ],
   "source": [
    "print Num_configs"
   ]
  },
  {
   "cell_type": "code",
   "execution_count": 159,
   "metadata": {
    "scrolled": true
   },
   "outputs": [
    {
     "ename": "KeyboardInterrupt",
     "evalue": "",
     "output_type": "error",
     "traceback": [
      "\u001b[0;31m---------------------------------------------------------------------------\u001b[0m",
      "\u001b[0;31mKeyboardInterrupt\u001b[0m                         Traceback (most recent call last)",
      "\u001b[0;32m<ipython-input-159-9268291da62a>\u001b[0m in \u001b[0;36m<module>\u001b[0;34m()\u001b[0m\n\u001b[0;32m----> 1\u001b[0;31m \u001b[0mdata\u001b[0m \u001b[0;34m=\u001b[0m \u001b[0mBM\u001b[0m\u001b[0;34m.\u001b[0m\u001b[0mgen_data\u001b[0m\u001b[0;34m(\u001b[0m\u001b[0mNchains\u001b[0m\u001b[0;34m=\u001b[0m\u001b[0;36m1\u001b[0m\u001b[0;34m,\u001b[0m\u001b[0mNthermalize\u001b[0m\u001b[0;34m=\u001b[0m\u001b[0;36m0\u001b[0m\u001b[0;34m,\u001b[0m\u001b[0mLchains\u001b[0m\u001b[0;34m=\u001b[0m\u001b[0;36m200000\u001b[0m\u001b[0;34m,\u001b[0m\u001b[0mNstep\u001b[0m\u001b[0;34m=\u001b[0m\u001b[0;36m200\u001b[0m\u001b[0;34m)\u001b[0m\u001b[0;34m\u001b[0m\u001b[0m\n\u001b[0m\u001b[1;32m      2\u001b[0m \u001b[0;31m#for i in range(len(Num_configs)):\u001b[0m\u001b[0;34m\u001b[0m\u001b[0;34m\u001b[0m\u001b[0m\n\u001b[1;32m      3\u001b[0m \u001b[0;31m#    data.append(BM.gen_data(Nchains=1,Nthermalize=0,Lchains=Num_configs[i],Nstep=200)) # N steps.\u001b[0m\u001b[0;34m\u001b[0m\u001b[0;34m\u001b[0m\u001b[0m\n",
      "\u001b[0;32m/users/harsh/Work/learningDynamics/Jerome_scripts_Original/PGM/bm.pyc\u001b[0m in \u001b[0;36mgen_data\u001b[0;34m(self, Nchains, Lchains, Nthermalize, Nstep, N_PT, config_init, beta, batches, reshape, record_replica, record_acceptance, update_betas, record_swaps)\u001b[0m\n\u001b[1;32m    175\u001b[0m \u001b[0;34m\u001b[0m\u001b[0m\n\u001b[1;32m    176\u001b[0m     \u001b[0;32mdef\u001b[0m \u001b[0mgen_data\u001b[0m\u001b[0;34m(\u001b[0m\u001b[0mself\u001b[0m\u001b[0;34m,\u001b[0m \u001b[0mNchains\u001b[0m \u001b[0;34m=\u001b[0m \u001b[0;36m10\u001b[0m\u001b[0;34m,\u001b[0m \u001b[0mLchains\u001b[0m \u001b[0;34m=\u001b[0m \u001b[0;36m100\u001b[0m\u001b[0;34m,\u001b[0m \u001b[0mNthermalize\u001b[0m \u001b[0;34m=\u001b[0m \u001b[0;36m0\u001b[0m \u001b[0;34m,\u001b[0m\u001b[0mNstep\u001b[0m \u001b[0;34m=\u001b[0m \u001b[0;36m1\u001b[0m\u001b[0;34m,\u001b[0m \u001b[0mN_PT\u001b[0m \u001b[0;34m=\u001b[0m\u001b[0;36m1\u001b[0m\u001b[0;34m,\u001b[0m \u001b[0mconfig_init\u001b[0m \u001b[0;34m=\u001b[0m \u001b[0;34m[\u001b[0m\u001b[0;34m]\u001b[0m\u001b[0;34m,\u001b[0m \u001b[0mbeta\u001b[0m \u001b[0;34m=\u001b[0m \u001b[0;36m1\u001b[0m\u001b[0;34m,\u001b[0m\u001b[0mbatches\u001b[0m \u001b[0;34m=\u001b[0m \u001b[0mNone\u001b[0m\u001b[0;34m,\u001b[0m\u001b[0mreshape\u001b[0m \u001b[0;34m=\u001b[0m \u001b[0mTrue\u001b[0m\u001b[0;34m,\u001b[0m\u001b[0mrecord_replica\u001b[0m \u001b[0;34m=\u001b[0m \u001b[0mFalse\u001b[0m\u001b[0;34m,\u001b[0m \u001b[0mrecord_acceptance\u001b[0m\u001b[0;34m=\u001b[0m\u001b[0mNone\u001b[0m\u001b[0;34m,\u001b[0m \u001b[0mupdate_betas\u001b[0m \u001b[0;34m=\u001b[0m \u001b[0mNone\u001b[0m\u001b[0;34m,\u001b[0m\u001b[0mrecord_swaps\u001b[0m\u001b[0;34m=\u001b[0m\u001b[0mFalse\u001b[0m\u001b[0;34m)\u001b[0m\u001b[0;34m:\u001b[0m\u001b[0;34m\u001b[0m\u001b[0m\n\u001b[0;32m--> 177\u001b[0;31m         \u001b[0;32mreturn\u001b[0m \u001b[0msuper\u001b[0m\u001b[0;34m(\u001b[0m\u001b[0mBM\u001b[0m\u001b[0;34m,\u001b[0m\u001b[0mself\u001b[0m\u001b[0;34m)\u001b[0m\u001b[0;34m.\u001b[0m\u001b[0mgen_data\u001b[0m\u001b[0;34m(\u001b[0m\u001b[0mNchains\u001b[0m \u001b[0;34m=\u001b[0m \u001b[0mNchains\u001b[0m\u001b[0;34m,\u001b[0m\u001b[0mLchains\u001b[0m\u001b[0;34m=\u001b[0m\u001b[0mLchains\u001b[0m\u001b[0;34m,\u001b[0m\u001b[0mNthermalize\u001b[0m\u001b[0;34m=\u001b[0m\u001b[0mNthermalize\u001b[0m\u001b[0;34m,\u001b[0m\u001b[0mNstep\u001b[0m\u001b[0;34m=\u001b[0m\u001b[0mNstep\u001b[0m\u001b[0;34m,\u001b[0m \u001b[0mN_PT\u001b[0m \u001b[0;34m=\u001b[0m \u001b[0mN_PT\u001b[0m\u001b[0;34m,\u001b[0m \u001b[0mconfig_init\u001b[0m\u001b[0;34m=\u001b[0m\u001b[0mconfig_init\u001b[0m\u001b[0;34m,\u001b[0m \u001b[0mbeta\u001b[0m \u001b[0;34m=\u001b[0m\u001b[0mbeta\u001b[0m\u001b[0;34m,\u001b[0m \u001b[0mbatches\u001b[0m \u001b[0;34m=\u001b[0m \u001b[0mbatches\u001b[0m\u001b[0;34m,\u001b[0m\u001b[0mreshape\u001b[0m\u001b[0;34m=\u001b[0m\u001b[0mreshape\u001b[0m\u001b[0;34m,\u001b[0m\u001b[0mrecord_replica\u001b[0m\u001b[0;34m=\u001b[0m\u001b[0mrecord_replica\u001b[0m\u001b[0;34m,\u001b[0m\u001b[0mrecord_acceptance\u001b[0m\u001b[0;34m=\u001b[0m\u001b[0mrecord_acceptance\u001b[0m\u001b[0;34m,\u001b[0m\u001b[0mupdate_betas\u001b[0m\u001b[0;34m=\u001b[0m\u001b[0mupdate_betas\u001b[0m\u001b[0;34m,\u001b[0m\u001b[0mrecord_swaps\u001b[0m\u001b[0;34m=\u001b[0m\u001b[0mrecord_swaps\u001b[0m\u001b[0;34m)\u001b[0m\u001b[0;34m\u001b[0m\u001b[0m\n\u001b[0m\u001b[1;32m    178\u001b[0m \u001b[0;34m\u001b[0m\u001b[0m\n\u001b[1;32m    179\u001b[0m \u001b[0;34m\u001b[0m\u001b[0m\n",
      "\u001b[0;32m/users/harsh/Work/learningDynamics/Jerome_scripts_Original/PGM/pgm.pyc\u001b[0m in \u001b[0;36mgen_data\u001b[0;34m(self, Nchains, Lchains, Nthermalize, Nstep, N_PT, config_init, beta, batches, reshape, record_replica, record_acceptance, update_betas, record_swaps)\u001b[0m\n\u001b[1;32m    151\u001b[0m         \u001b[0;32mfor\u001b[0m \u001b[0mi\u001b[0m \u001b[0;32min\u001b[0m \u001b[0mrange\u001b[0m\u001b[0;34m(\u001b[0m\u001b[0mn_iter\u001b[0m\u001b[0;34m)\u001b[0m\u001b[0;34m:\u001b[0m\u001b[0;34m\u001b[0m\u001b[0m\n\u001b[1;32m    152\u001b[0m             \u001b[0;32mif\u001b[0m \u001b[0mconfig_init\u001b[0m \u001b[0;34m==\u001b[0m \u001b[0;34m[\u001b[0m\u001b[0;34m]\u001b[0m\u001b[0;34m:\u001b[0m\u001b[0;34m\u001b[0m\u001b[0m\n\u001b[0;32m--> 153\u001b[0;31m                 \u001b[0mconfig\u001b[0m \u001b[0;34m=\u001b[0m \u001b[0mself\u001b[0m\u001b[0;34m.\u001b[0m\u001b[0m_gen_data\u001b[0m\u001b[0;34m(\u001b[0m\u001b[0mNthermalize\u001b[0m\u001b[0;34m,\u001b[0m \u001b[0mNdata\u001b[0m\u001b[0;34m,\u001b[0m\u001b[0mNstep\u001b[0m\u001b[0;34m,\u001b[0m \u001b[0mN_PT\u001b[0m \u001b[0;34m=\u001b[0m \u001b[0mN_PT\u001b[0m\u001b[0;34m,\u001b[0m \u001b[0mbatches\u001b[0m \u001b[0;34m=\u001b[0m \u001b[0mbatches\u001b[0m\u001b[0;34m,\u001b[0m \u001b[0mreshape\u001b[0m \u001b[0;34m=\u001b[0m \u001b[0mFalse\u001b[0m\u001b[0;34m,\u001b[0m\u001b[0mbeta\u001b[0m \u001b[0;34m=\u001b[0m \u001b[0mbeta\u001b[0m\u001b[0;34m,\u001b[0m\u001b[0mrecord_replica\u001b[0m \u001b[0;34m=\u001b[0m \u001b[0mrecord_replica\u001b[0m\u001b[0;34m,\u001b[0m \u001b[0mrecord_acceptance\u001b[0m\u001b[0;34m=\u001b[0m\u001b[0mrecord_acceptance\u001b[0m\u001b[0;34m,\u001b[0m\u001b[0mupdate_betas\u001b[0m\u001b[0;34m=\u001b[0m\u001b[0mupdate_betas\u001b[0m\u001b[0;34m,\u001b[0m\u001b[0mrecord_swaps\u001b[0m\u001b[0;34m=\u001b[0m\u001b[0mrecord_swaps\u001b[0m\u001b[0;34m)\u001b[0m\u001b[0;34m\u001b[0m\u001b[0m\n\u001b[0m\u001b[1;32m    154\u001b[0m             \u001b[0;32melse\u001b[0m\u001b[0;34m:\u001b[0m\u001b[0;34m\u001b[0m\u001b[0m\n\u001b[1;32m    155\u001b[0m                 \u001b[0mconfig\u001b[0m \u001b[0;34m=\u001b[0m \u001b[0mself\u001b[0m\u001b[0;34m.\u001b[0m\u001b[0m_gen_data\u001b[0m\u001b[0;34m(\u001b[0m\u001b[0mNthermalize\u001b[0m\u001b[0;34m,\u001b[0m \u001b[0mNdata\u001b[0m\u001b[0;34m,\u001b[0m\u001b[0mNstep\u001b[0m\u001b[0;34m,\u001b[0m \u001b[0mN_PT\u001b[0m \u001b[0;34m=\u001b[0m \u001b[0mN_PT\u001b[0m\u001b[0;34m,\u001b[0m \u001b[0mbatches\u001b[0m \u001b[0;34m=\u001b[0m \u001b[0mbatches\u001b[0m\u001b[0;34m,\u001b[0m \u001b[0mreshape\u001b[0m \u001b[0;34m=\u001b[0m \u001b[0mFalse\u001b[0m\u001b[0;34m,\u001b[0m\u001b[0mbeta\u001b[0m \u001b[0;34m=\u001b[0m \u001b[0mbeta\u001b[0m\u001b[0;34m,\u001b[0m\u001b[0mrecord_replica\u001b[0m \u001b[0;34m=\u001b[0m \u001b[0mrecord_replica\u001b[0m\u001b[0;34m,\u001b[0m \u001b[0mconfig_init\u001b[0m \u001b[0;34m=\u001b[0m \u001b[0mconfig_init\u001b[0m\u001b[0;34m[\u001b[0m\u001b[0mbatches\u001b[0m\u001b[0;34m*\u001b[0m\u001b[0mi\u001b[0m\u001b[0;34m:\u001b[0m\u001b[0mbatches\u001b[0m\u001b[0;34m*\u001b[0m\u001b[0;34m(\u001b[0m\u001b[0mi\u001b[0m\u001b[0;34m+\u001b[0m\u001b[0;36m1\u001b[0m\u001b[0;34m)\u001b[0m\u001b[0;34m]\u001b[0m\u001b[0;34m,\u001b[0m\u001b[0mrecord_acceptance\u001b[0m\u001b[0;34m=\u001b[0m\u001b[0mrecord_acceptance\u001b[0m\u001b[0;34m,\u001b[0m\u001b[0mupdate_betas\u001b[0m\u001b[0;34m=\u001b[0m\u001b[0mupdate_betas\u001b[0m\u001b[0;34m,\u001b[0m\u001b[0mrecord_swaps\u001b[0m\u001b[0;34m=\u001b[0m\u001b[0mrecord_swaps\u001b[0m\u001b[0;34m)\u001b[0m\u001b[0;34m\u001b[0m\u001b[0m\n",
      "\u001b[0;32m/users/harsh/Work/learningDynamics/Jerome_scripts_Original/PGM/pgm.pyc\u001b[0m in \u001b[0;36m_gen_data\u001b[0;34m(self, Nthermalize, Ndata, Nstep, N_PT, batches, reshape, config_init, beta, record_replica, record_acceptance, update_betas, record_swaps)\u001b[0m\n\u001b[1;32m    236\u001b[0m                             \u001b[0mself\u001b[0m\u001b[0;34m.\u001b[0m\u001b[0mupdate_betas\u001b[0m\u001b[0;34m(\u001b[0m\u001b[0mbeta\u001b[0m\u001b[0;34m=\u001b[0m\u001b[0mbeta\u001b[0m\u001b[0;34m)\u001b[0m\u001b[0;34m\u001b[0m\u001b[0m\n\u001b[1;32m    237\u001b[0m                     \u001b[0;32melse\u001b[0m\u001b[0;34m:\u001b[0m\u001b[0;34m\u001b[0m\u001b[0m\n\u001b[0;32m--> 238\u001b[0;31m                         \u001b[0mconfig\u001b[0m \u001b[0;34m=\u001b[0m \u001b[0mself\u001b[0m\u001b[0;34m.\u001b[0m\u001b[0mmarkov_step\u001b[0m\u001b[0;34m(\u001b[0m\u001b[0mconfig\u001b[0m\u001b[0;34m,\u001b[0m \u001b[0mbeta\u001b[0m \u001b[0;34m=\u001b[0m \u001b[0mbeta\u001b[0m\u001b[0;34m)\u001b[0m\u001b[0;34m\u001b[0m\u001b[0m\n\u001b[0m\u001b[1;32m    239\u001b[0m             \u001b[0;32mif\u001b[0m \u001b[0mself\u001b[0m\u001b[0;34m.\u001b[0m\u001b[0mn_layers\u001b[0m \u001b[0;34m==\u001b[0m\u001b[0;36m1\u001b[0m\u001b[0;34m:\u001b[0m\u001b[0;34m\u001b[0m\u001b[0m\n\u001b[1;32m    240\u001b[0m                 \u001b[0mdata\u001b[0m\u001b[0;34m.\u001b[0m\u001b[0mappend\u001b[0m\u001b[0;34m(\u001b[0m \u001b[0mutilities\u001b[0m\u001b[0;34m.\u001b[0m\u001b[0mcopy_config\u001b[0m\u001b[0;34m(\u001b[0m\u001b[0mconfig\u001b[0m\u001b[0;34m,\u001b[0m\u001b[0mN_PT\u001b[0m\u001b[0;34m=\u001b[0m\u001b[0mN_PT\u001b[0m\u001b[0;34m,\u001b[0m\u001b[0mrecord_replica\u001b[0m\u001b[0;34m=\u001b[0m\u001b[0mrecord_replica\u001b[0m\u001b[0;34m)\u001b[0m  \u001b[0;34m)\u001b[0m\u001b[0;34m\u001b[0m\u001b[0m\n",
      "\u001b[0;32m/users/harsh/Work/learningDynamics/Jerome_scripts_Original/PGM/bm.pyc\u001b[0m in \u001b[0;36mmarkov_step\u001b[0;34m(self, (x, fields_eff), beta)\u001b[0m\n\u001b[1;32m    107\u001b[0m \u001b[0;34m\u001b[0m\u001b[0m\n\u001b[1;32m    108\u001b[0m     \u001b[0;32mdef\u001b[0m \u001b[0mmarkov_step\u001b[0m\u001b[0;34m(\u001b[0m\u001b[0mself\u001b[0m\u001b[0;34m,\u001b[0m\u001b[0;34m(\u001b[0m\u001b[0mx\u001b[0m\u001b[0;34m,\u001b[0m\u001b[0mfields_eff\u001b[0m\u001b[0;34m)\u001b[0m\u001b[0;34m,\u001b[0m\u001b[0mbeta\u001b[0m \u001b[0;34m=\u001b[0m\u001b[0;36m1\u001b[0m\u001b[0;34m)\u001b[0m\u001b[0;34m:\u001b[0m\u001b[0;34m\u001b[0m\u001b[0m\n\u001b[0;32m--> 109\u001b[0;31m          \u001b[0;34m(\u001b[0m\u001b[0mx\u001b[0m\u001b[0;34m,\u001b[0m\u001b[0mfields_eff\u001b[0m\u001b[0;34m)\u001b[0m \u001b[0;34m=\u001b[0m \u001b[0mself\u001b[0m\u001b[0;34m.\u001b[0m\u001b[0mlayer\u001b[0m\u001b[0;34m.\u001b[0m\u001b[0msample_from_inputs\u001b[0m\u001b[0;34m(\u001b[0m \u001b[0mNone\u001b[0m\u001b[0;34m,\u001b[0m\u001b[0mprevious\u001b[0m \u001b[0;34m=\u001b[0m \u001b[0;34m(\u001b[0m\u001b[0mx\u001b[0m\u001b[0;34m,\u001b[0m\u001b[0mfields_eff\u001b[0m\u001b[0;34m)\u001b[0m\u001b[0;34m,\u001b[0m \u001b[0mbeta\u001b[0m \u001b[0;34m=\u001b[0m \u001b[0mbeta\u001b[0m\u001b[0;34m)\u001b[0m\u001b[0;34m\u001b[0m\u001b[0m\n\u001b[0m\u001b[1;32m    110\u001b[0m          \u001b[0;32mreturn\u001b[0m \u001b[0;34m(\u001b[0m\u001b[0mx\u001b[0m\u001b[0;34m,\u001b[0m\u001b[0mfields_eff\u001b[0m\u001b[0;34m)\u001b[0m\u001b[0;34m\u001b[0m\u001b[0m\n\u001b[1;32m    111\u001b[0m \u001b[0;34m\u001b[0m\u001b[0m\n",
      "\u001b[0;32m/users/harsh/Work/learningDynamics/Jerome_scripts_Original/PGM/layer.pyc\u001b[0m in \u001b[0;36msample_from_inputs\u001b[0;34m(self, psi, beta, previous)\u001b[0m\n\u001b[1;32m    656\u001b[0m                 \u001b[0mx\u001b[0m\u001b[0;34m,\u001b[0m\u001b[0mfields_eff\u001b[0m\u001b[0;34m=\u001b[0m\u001b[0mcy_utilities\u001b[0m\u001b[0;34m.\u001b[0m\u001b[0mPotts_Gibbs_input_C\u001b[0m\u001b[0;34m(\u001b[0m\u001b[0mx\u001b[0m\u001b[0;34m.\u001b[0m\u001b[0mshape\u001b[0m\u001b[0;34m[\u001b[0m\u001b[0;36m0\u001b[0m\u001b[0;34m]\u001b[0m\u001b[0;34m,\u001b[0m \u001b[0mself\u001b[0m\u001b[0;34m.\u001b[0m\u001b[0mN\u001b[0m\u001b[0;34m,\u001b[0m\u001b[0mself\u001b[0m\u001b[0;34m.\u001b[0m\u001b[0mn_c\u001b[0m\u001b[0;34m,\u001b[0m\u001b[0mbeta\u001b[0m\u001b[0;34m,\u001b[0m\u001b[0mx\u001b[0m\u001b[0;34m,\u001b[0m\u001b[0mfields_eff\u001b[0m\u001b[0;34m,\u001b[0m\u001b[0mpsi\u001b[0m\u001b[0;34m,\u001b[0m \u001b[0mself\u001b[0m\u001b[0;34m.\u001b[0m\u001b[0mfields0\u001b[0m\u001b[0;34m,\u001b[0m \u001b[0mself\u001b[0m\u001b[0;34m.\u001b[0m\u001b[0mcouplings\u001b[0m\u001b[0;34m,\u001b[0m \u001b[0mself\u001b[0m\u001b[0;34m.\u001b[0m\u001b[0mrandom_state\u001b[0m\u001b[0;34m.\u001b[0m\u001b[0mrandint\u001b[0m\u001b[0;34m(\u001b[0m\u001b[0;36m0\u001b[0m\u001b[0;34m,\u001b[0m\u001b[0mhigh\u001b[0m\u001b[0;34m=\u001b[0m\u001b[0mself\u001b[0m\u001b[0;34m.\u001b[0m\u001b[0mN\u001b[0m\u001b[0;34m,\u001b[0m\u001b[0msize\u001b[0m\u001b[0;34m=\u001b[0m\u001b[0;34m[\u001b[0m\u001b[0mx\u001b[0m\u001b[0;34m.\u001b[0m\u001b[0mshape\u001b[0m\u001b[0;34m[\u001b[0m\u001b[0;36m0\u001b[0m\u001b[0;34m]\u001b[0m\u001b[0;34m,\u001b[0m\u001b[0mself\u001b[0m\u001b[0;34m.\u001b[0m\u001b[0mN\u001b[0m\u001b[0;34m]\u001b[0m\u001b[0;34m)\u001b[0m\u001b[0;34m,\u001b[0m \u001b[0mself\u001b[0m\u001b[0;34m.\u001b[0m\u001b[0mrandom_state\u001b[0m\u001b[0;34m.\u001b[0m\u001b[0mrand\u001b[0m\u001b[0;34m(\u001b[0m\u001b[0mx\u001b[0m\u001b[0;34m.\u001b[0m\u001b[0mshape\u001b[0m\u001b[0;34m[\u001b[0m\u001b[0;36m0\u001b[0m\u001b[0;34m]\u001b[0m\u001b[0;34m,\u001b[0m\u001b[0mself\u001b[0m\u001b[0;34m.\u001b[0m\u001b[0mN\u001b[0m\u001b[0;34m)\u001b[0m \u001b[0;34m)\u001b[0m\u001b[0;34m\u001b[0m\u001b[0m\n\u001b[1;32m    657\u001b[0m             \u001b[0;32melse\u001b[0m\u001b[0;34m:\u001b[0m\u001b[0;34m\u001b[0m\u001b[0m\n\u001b[0;32m--> 658\u001b[0;31m                 \u001b[0mx\u001b[0m\u001b[0;34m,\u001b[0m\u001b[0mfields_eff\u001b[0m\u001b[0;34m=\u001b[0m\u001b[0mcy_utilities\u001b[0m\u001b[0;34m.\u001b[0m\u001b[0mPotts_Gibbs_free_C\u001b[0m\u001b[0;34m(\u001b[0m\u001b[0mx\u001b[0m\u001b[0;34m.\u001b[0m\u001b[0mshape\u001b[0m\u001b[0;34m[\u001b[0m\u001b[0;36m0\u001b[0m\u001b[0;34m]\u001b[0m\u001b[0;34m,\u001b[0m \u001b[0mself\u001b[0m\u001b[0;34m.\u001b[0m\u001b[0mN\u001b[0m\u001b[0;34m,\u001b[0m\u001b[0mself\u001b[0m\u001b[0;34m.\u001b[0m\u001b[0mn_c\u001b[0m\u001b[0;34m,\u001b[0m\u001b[0mbeta\u001b[0m\u001b[0;34m,\u001b[0m\u001b[0mx\u001b[0m\u001b[0;34m,\u001b[0m\u001b[0mfields_eff\u001b[0m\u001b[0;34m,\u001b[0m \u001b[0mself\u001b[0m\u001b[0;34m.\u001b[0m\u001b[0mfields0\u001b[0m\u001b[0;34m,\u001b[0m\u001b[0mself\u001b[0m\u001b[0;34m.\u001b[0m\u001b[0mcouplings\u001b[0m\u001b[0;34m,\u001b[0m \u001b[0mself\u001b[0m\u001b[0;34m.\u001b[0m\u001b[0mrandom_state\u001b[0m\u001b[0;34m.\u001b[0m\u001b[0mrandint\u001b[0m\u001b[0;34m(\u001b[0m\u001b[0;36m0\u001b[0m\u001b[0;34m,\u001b[0m\u001b[0mhigh\u001b[0m\u001b[0;34m=\u001b[0m\u001b[0mself\u001b[0m\u001b[0;34m.\u001b[0m\u001b[0mN\u001b[0m\u001b[0;34m,\u001b[0m\u001b[0msize\u001b[0m\u001b[0;34m=\u001b[0m\u001b[0;34m[\u001b[0m\u001b[0mx\u001b[0m\u001b[0;34m.\u001b[0m\u001b[0mshape\u001b[0m\u001b[0;34m[\u001b[0m\u001b[0;36m0\u001b[0m\u001b[0;34m]\u001b[0m\u001b[0;34m,\u001b[0m\u001b[0mself\u001b[0m\u001b[0;34m.\u001b[0m\u001b[0mN\u001b[0m\u001b[0;34m]\u001b[0m\u001b[0;34m)\u001b[0m\u001b[0;34m,\u001b[0m \u001b[0mself\u001b[0m\u001b[0;34m.\u001b[0m\u001b[0mrandom_state\u001b[0m\u001b[0;34m.\u001b[0m\u001b[0mrand\u001b[0m\u001b[0;34m(\u001b[0m\u001b[0mx\u001b[0m\u001b[0;34m.\u001b[0m\u001b[0mshape\u001b[0m\u001b[0;34m[\u001b[0m\u001b[0;36m0\u001b[0m\u001b[0;34m]\u001b[0m\u001b[0;34m,\u001b[0m\u001b[0mself\u001b[0m\u001b[0;34m.\u001b[0m\u001b[0mN\u001b[0m\u001b[0;34m)\u001b[0m \u001b[0;34m)\u001b[0m\u001b[0;34m\u001b[0m\u001b[0m\n\u001b[0m\u001b[1;32m    659\u001b[0m             \u001b[0;32mreturn\u001b[0m \u001b[0;34m(\u001b[0m\u001b[0mx\u001b[0m\u001b[0;34m,\u001b[0m\u001b[0mfields_eff\u001b[0m\u001b[0;34m)\u001b[0m\u001b[0;34m\u001b[0m\u001b[0m\n\u001b[1;32m    660\u001b[0m \u001b[0;34m\u001b[0m\u001b[0m\n",
      "\u001b[0;31mKeyboardInterrupt\u001b[0m: "
     ]
    }
   ],
   "source": [
    "data = BM.gen_data(Nchains=1,Nthermalize=0,Lchains=200000,Nstep=200)\n",
    "#for i in range(len(Num_configs)):\n",
    "#    data.append(BM.gen_data(Nchains=1,Nthermalize=0,Lchains=Num_configs[i],Nstep=200)) # N steps."
   ]
  },
  {
   "cell_type": "code",
   "execution_count": 3,
   "metadata": {
    "collapsed": true
   },
   "outputs": [],
   "source": [
    "def XY1dCouplings(BM,size=100,beta=1.0,num_states=10,PBC=False):\n",
    "    \n",
    "    # This is only the nearest neighbour interactions XY model on a 1D lattcie\n",
    "    pottsCouplings = np.zeros([num_states,num_states])\n",
    "    \n",
    "    for i in np.arange(0,num_states):\n",
    "        for j in np.arange(0,num_states):\n",
    "            pottsCouplings[i,j] = np.cos((i-j)*2*np.pi/num_states)\n",
    "        \n",
    "    BM.layer.couplings[(np.eye(N=size,k=-1)+np.eye(N=size,k=+1)).astype(bool),:,:] = beta*pottsCouplings\n",
    "    \n",
    "    if PBC is True:\n",
    "        BM.layer.couplings[0,-1] = beta*pottsCouplings\n",
    "        BM.layer.couplings[-1,0] = beta*pottsCouplings\n",
    "    \n",
    "    return BM.layer.couplings"
   ]
  },
  {
   "cell_type": "code",
   "execution_count": null,
   "metadata": {
    "collapsed": true
   },
   "outputs": [],
   "source": [
    "def XY1dCouplingsMF1(BM,size=100,beta=1.0,num_states=10,PBC=False):\n",
    "    \n",
    "    # This is only the nearest neighbour interactions XY model on a 1D lattcie\n",
    "    pottsCouplings = np.zeros([num_states,num_states])\n",
    "    \n",
    "    pottsCouplings[0,0] = 1\n",
    "    pottsCouplings[num_states-1,num_states-1] = 1\n",
    "    \n",
    "    for i in np.arange(1,num_states-1):\n",
    "        pottsCouplings[i,i] = 1\n",
    "        pottsCouplings[i,i-1] = 0.2\n",
    "        \n",
    "    BM.layer.couplings[(np.eye(N=size,k=-1)+np.eye(N=size,k=+1)).astype(bool),:,:] = beta*pottsCouplings\n",
    "    \n",
    "    if PBC is True:\n",
    "        BM.layer.couplings[0,-1] = beta*pottsCouplings\n",
    "        BM.layer.couplings[-1,0] = beta*pottsCouplings\n",
    "    \n",
    "    return BM.layer.couplings"
   ]
  },
  {
   "cell_type": "code",
   "execution_count": 162,
   "metadata": {
    "collapsed": true
   },
   "outputs": [],
   "source": [
    "def XY1dCouplingsMF2(BM,size=100,beta=1.0,num_states=10,PBC=False):\n",
    "    \n",
    "    # This is only the nearest neighbour interactions XY model on a 1D lattcie\n",
    "    pottsCouplings = np.zeros([num_states,num_states])\n",
    "    \n",
    "    pottsCouplings[np.eye(N=num_states,k=0).astype(bool)] = 1.\n",
    "    pottsCouplings[(np.eye(N=num_states,k=-1) + np.eye(N=num_states,k=+1)).astype(bool)] = 0.8\n",
    "    \n",
    "    pottsCouplings[0,-1] = 0.8\n",
    "    pottsCouplings[-1,0] = 0.8\n",
    "        \n",
    "    for i in range(size):\n",
    "        for j in range(size):\n",
    "            BM.layer.couplings[i,j] = pottsCouplings*beta*np.cos(np.float(i-j)*2*np.pi/size) + 1.\n",
    "    \n",
    "    BM.layer.couplings[np.eye(N).astype(bool)] = 0\n",
    "    \n",
    "    if PBC is True:\n",
    "        BM.layer.couplings[0,-1] = pottsCouplings*beta*np.cos((1.0)*2*np.pi/size) + 1.\n",
    "        BM.layer.couplings[-1,0] = pottsCouplings*beta*np.cos((1.0)*2*np.pi/size) + 1.\n",
    "\n",
    "    return BM.layer.couplings"
   ]
  },
  {
   "cell_type": "code",
   "execution_count": 15,
   "metadata": {
    "collapsed": true
   },
   "outputs": [],
   "source": [
    "def XY2dCouplings(BM,size=20,beta1=1.0,beta2=1.0,num_states=10,PBC=False):\n",
    "    \n",
    "    # This is only the nearest neighbour XY model on a 2D square lattice\n",
    "    # Calculate the KT transition beta\n",
    "        \n",
    "    pottsCouplings = np.zeros([num_states,num_states])\n",
    "    N = size\n",
    "    \n",
    "    for i in np.arange(0,num_states):\n",
    "        for j in np.arange(0,num_states):\n",
    "            pottsCouplings[i,j] = np.cos((i-j)*2*np.pi/num_states)\n",
    "            \n",
    "    BM.layer.couplings[(np.eye(N=size**2,k=1) + np.eye(N=size**2,k=-1)).astype(bool),:,:] =  beta1*pottsCouplings\n",
    "    BM.layer.couplings[(np.eye(N=size**2,k=size) + np.eye(N=size**2,k=-size)).astype(bool),:,:] =  beta2*pottsCouplings\n",
    "    \n",
    "    # Remove the couplings of the left most coloumn to that of the last coloumn in its previous row:\n",
    "    for i in np.arange(0,N*N,N):\n",
    "        BM.layer.couplings[i,i-1] = 0\n",
    "        BM.layer.couplings[i-1,i] = 0\n",
    "    \n",
    "    if PBC is True:\n",
    "        # Add the couplings of the first row to that of the last row and vice versa:\n",
    "        for i in np.arange(0,N):\n",
    "            BM.layer.couplings[i,(size**2)-N+i] = beta2*pottsCouplings\n",
    "            BM.layer.couplings[(size**2)-N+i,i] = beta2*pottsCouplings\n",
    "        # Add the couplings of the left most column to the right most coloumn:\n",
    "            BM.layer.couplings[i,i+N-1] = beta1*pottsCouplings\n",
    "            BM.layer.couplings[i+N-1,i] = beta1*pottsCouplings\n",
    "    \n",
    "    return BM.layer.couplings"
   ]
  },
  {
   "cell_type": "code",
   "execution_count": null,
   "metadata": {
    "collapsed": true,
    "scrolled": true
   },
   "outputs": [],
   "source": [
    "RBM = []\n",
    "results = []\n",
    "#data = []\n",
    "weights = np.zeros([len(beta),len(Num_configs),num_hidden,N,BM.n_c])\n",
    "topEVec = np.zeros([len(beta),len(Num_configs),N])\n",
    "overlap = np.zeros([len(beta),len(Num_configs),num_hidden])\n",
    "overlap_full = np.zeros([len(beta),len(Num_configs),num_hidden])\n",
    "topEVec_full = np.zeros([len(beta),N])\n",
    "overlap_proper = np.zeros([len(beta),len(Num_configs),num_hidden,N*BM.n_c])\n",
    "overlap_proper_full = np.zeros([len(beta),len(Num_configs),num_hidden,N*BM.n_c])\n",
    "covMATEVEC = np.zeros([len(beta),len(Num_configs),N*BM.n_c,N*BM.n_c])\n",
    "covMATEVEC_full = np.zeros([len(beta),N*BM.n_c,N*BM.n_c])\n",
    "covMATEVAL = np.zeros([len(beta),len(Num_configs),N*BM.n_c])\n",
    "covMATEVAL_full = np.zeros([len(beta),N*BM.n_c])\n",
    "\n",
    "for j in range(len(beta)):\n",
    "    \n",
    "    BM.layer.couplings = XY1dCouplingsMF2(BM,size = 100,beta=beta[j],num_states=10,PBC=True)\n",
    "    #data.append(BM.gen_data(Nchains=1,Nthermalize=0,Lchains=200000,Nstep=200))\n",
    "    topEVec_full[j],_ = topEV(data[j].T,method='Correlation')\n",
    "    _,covMATEVEC_full[j],covMATEVAL_full[j] = corXY(data[j],10,100)\n",
    "\n",
    "    for i in range(len(Num_configs)):\n",
    "        \n",
    "        #Train the model\n",
    "        RBM.append(rbm.RBM(visible = 'Potts', n_cv=10, n_v=N, n_h = num_hidden, hidden = 'Bernoulli',zero_field = True))\n",
    "        results.append(RBM[i+j].fit(data[j][0:Num_configs[i]],n_iter=20,verbose=0,learning_rate = 0.1,record=['W'],\\\n",
    "                                  record_interval=100,batch_size=100,N_MC= 20, lr_decay=False,batch_norm=False))\n",
    "\n",
    "        topEVec[j,i],_ = topEV(data[j][0:Num_configs[i]].T,method='Correlation')\n",
    "        _,covMATEVEC[j,i],covMATEVAL[j,i] = corXY(data[j][0:Num_configs[i]],10,100)\n",
    "        \n",
    "        for k in range(RBM[i].n_h):\n",
    "            weights[j,i,k]      = np.copy(np.array(results[i+j]['W'])[-1,k,:,:])\n",
    "            overlap[j,i,k]      = abs(np.dot(np.sum(abs(weights[j,i,k]),axis=1),topEVec[j,i]))\n",
    "            overlap_full[j,i,k] = abs(np.dot(np.sum(abs(weights[j,i,k]),axis=1),topEVec_full[j]))\n",
    "            \n",
    "            for l in range(N*BM.n_c):\n",
    "                overlap_proper[j,i,k,l]      = np.sum(np.multiply(weights[j,i,k],np.reshape(covMATEVEC[j,i,:,l],[N,BM.n_c])))\n",
    "                overlap_proper_full[j,i,k,l] = np.sum(np.multiply(weights[j,i,k],np.reshape(covMATEVEC_full[j,:,l],[N,BM.n_c])))"
   ]
  },
  {
   "cell_type": "code",
   "execution_count": null,
   "metadata": {
    "collapsed": true
   },
   "outputs": [],
   "source": [
    "def cosfit(x,peak,phase,freq):\n",
    "    return peak*np.cos(x*freq + phase)\n",
    "\n",
    "popt = np.zeros([len(np.array(results['W'])[:,0,0,0]),RBM.n_h,len(np.array(results['W'])[-1,0,:,0]),3])\n",
    "popc = np.zeros([len(np.array(results['W'])[:,0,0,0]),RBM.n_h,len(np.array(results['W'])[-1,0,:,0]),3,3])\n",
    "\n",
    "for i in np.arange(len(np.array(results['W'])[-1,0,:,0])):\n",
    "    for j in np.arange(len(np.array(results['W'])[:,0,0,0])):\n",
    "        for k in np.arange(RBM.n_h):\n",
    "            try:\n",
    "                popt[j,k,i],popc[j,k,i] = sc.optimize.curve_fit(cosfit,np.arange(10),(np.array(results['W'])[j,k,i,:]),[1,1,2*np.pi/10],bounds=(0,[np.inf,2*np.pi,np.inf]))\n",
    "            except:\n",
    "                pass"
   ]
  },
  {
   "cell_type": "code",
   "execution_count": 66,
   "metadata": {
    "collapsed": true
   },
   "outputs": [],
   "source": [
    "# Top Eignvectors of the C_ij matrix:\n",
    "def topEV(data,method='Covariance'):\n",
    "    if method is 'Covariance':\n",
    "        #Find the covariance matrix:\n",
    "        covMAT = np.cov(data)\n",
    "    elif method is 'Correlation':\n",
    "        covMAT = np.corrcoef(data)\n",
    "    Eval,Evec = np.linalg.eig(covMAT)\n",
    "    return Evec[:,np.argmax(Eval)],np.max(Eval)"
   ]
  },
  {
   "cell_type": "code",
   "execution_count": 96,
   "metadata": {
    "collapsed": true
   },
   "outputs": [],
   "source": [
    "def corXY(data,num_configs,num_sites,method='Correlation'):\n",
    "    \n",
    "    cov_mat = np.zeros([num_configs*num_sites,num_configs*num_sites])\n",
    "    \n",
    "    if method is 'Covariance':\n",
    "        for i1 in np.arange((num_sites)):\n",
    "            for j1 in np.arange((num_configs)):\n",
    "                for i2 in np.arange((num_sites)):\n",
    "                    for j2 in np.arange((num_configs)):\n",
    "                        cov_mat[i1*num_configs+j1, i2*num_configs+j2] = \\\n",
    "                        np.float(np.count_nonzero(np.logical_and(data[:,i1]==j1,data[:,i2]==j2)))/(len(data)) \\\n",
    "                        - np.float(np.count_nonzero(data[:,i1]==j1)*np.count_nonzero(data[:,i2]==j2))/(len(data)**2)\n",
    "\n",
    "    if method is 'Correlation':\n",
    "        \n",
    "        diag_mat = np.zeros(num_configs*num_sites)\n",
    "        \n",
    "        for i1 in np.arange((num_sites)):\n",
    "            for j1 in np.arange((num_configs)):\n",
    "                        diag_mat[i1*num_configs+j1] = \\\n",
    "                        np.float(np.count_nonzero(np.logical_and(data[:,i1]==j1,data[:,i1]==j1)))/(len(data)) \\\n",
    "                        - np.float(np.count_nonzero(data[:,i1]==j1)*np.count_nonzero(data[:,i1]==j1))/(len(data)**2)\n",
    "        \n",
    "        for i1 in np.arange((num_sites)):\n",
    "            for j1 in np.arange((num_configs)):\n",
    "                for i2 in np.arange((num_sites)):\n",
    "                    for j2 in np.arange((num_configs)):\n",
    "                        cov_mat[i1*num_configs+j1, i2*num_configs+j2] = \\\n",
    "                        (np.float(np.count_nonzero(np.logical_and(data[:,i1]==j1,data[:,i2]==j2)))/(len(data)) \\\n",
    "                        - np.float(np.count_nonzero(data[:,i1]==j1)*np.count_nonzero(data[:,i2]==j2))/(len(data)**2)\\\n",
    "                        )/np.sqrt(diag_mat[i1*num_configs+j1]*diag_mat[i2*num_configs+j2])\n",
    "                        \n",
    "                        if np.isnan(cov_mat[i1*num_configs+j1, i2*num_configs+j2]) or np.isinf(cov_mat[i1*num_configs+j1, i2*num_configs+j2]):\n",
    "                            cov_mat[i1*num_configs+j1, i2*num_configs+j2] = 1\n",
    "                        \n",
    "    Eval,Evec = np.linalg.eig(cov_mat)\n",
    "    \n",
    "    return cov_mat,Evec,Eval"
   ]
  },
  {
   "cell_type": "code",
   "execution_count": null,
   "metadata": {},
   "outputs": [
    {
     "name": "stderr",
     "output_type": "stream",
     "text": [
      "/users/harsh/anaconda2/lib/python2.7/site-packages/ipykernel_launcher.py:9: ComplexWarning: Casting complex values to real discards the imaginary part\n",
      "  if __name__ == '__main__':\n",
      "/users/harsh/anaconda2/lib/python2.7/site-packages/ipykernel_launcher.py:24: RuntimeWarning: invalid value encountered in double_scalars\n",
      "/users/harsh/anaconda2/lib/python2.7/site-packages/ipykernel_launcher.py:12: ComplexWarning: Casting complex values to real discards the imaginary part\n",
      "  if sys.path[0] == '':\n"
     ]
    }
   ],
   "source": [
    "overlap_proper = np.zeros([len(beta),len(Num_configs),num_hidden,N*BM.n_c])\n",
    "overlap_proper_full = np.zeros([len(beta),len(Num_configs),num_hidden,N*BM.n_c])\n",
    "covMATEVEC = np.zeros([len(beta),len(Num_configs),N*BM.n_c,N*BM.n_c])\n",
    "covMATEVEC_full = np.zeros([len(beta),N*BM.n_c,N*BM.n_c])\n",
    "covMATEVAL = np.zeros([len(beta),len(Num_configs),N*BM.n_c])\n",
    "covMATEVAL_full = np.zeros([len(beta),N*BM.n_c])\n",
    "\n",
    "for j in range(len(beta)):\n",
    "    _,covMATEVEC_full[j],covMATEVAL_full[j] = corXY(data[j],10,100)\n",
    "    \n",
    "    for i in range(len(Num_configs)):\n",
    "        _,covMATEVEC[j,i],covMATEVAL[j,i] = corXY(data[j][0:Num_configs[i]],10,100)\n",
    "        \n",
    "        for k in range(RBM[i].n_h):\n",
    "            for l in range(N*BM.n_c):\n",
    "                overlap_proper[j,i,k,l]      = np.sum(np.multiply(weights[j,i,k],np.reshape(covMATEVEC[j,i,:,l],[N,BM.n_c])))\n",
    "                overlap_proper_full[j,i,k,l] = np.sum(np.multiply(weights[j,i,k],np.reshape(covMATEVEC_full[j,:,l],[N,BM.n_c])))"
   ]
  },
  {
   "cell_type": "code",
   "execution_count": 130,
   "metadata": {},
   "outputs": [
    {
     "data": {
      "text/plain": [
       "[<matplotlib.lines.Line2D at 0x7f84ad4fb210>]"
      ]
     },
     "execution_count": 130,
     "metadata": {},
     "output_type": "execute_result"
    },
    {
     "data": {
      "image/png": "[encoded data removed]",
      "text/plain": [
       "<matplotlib.figure.Figure at 0x7f84ad52c910>"
      ]
     },
     "metadata": {},
     "output_type": "display_data"
    }
   ],
   "source": [
    "plt.plot(overlap_proper[0,:,0])"
   ]
  },
  {
   "cell_type": "code",
   "execution_count": 131,
   "metadata": {},
   "outputs": [
    {
     "data": {
      "text/plain": [
       "[<matplotlib.lines.Line2D at 0x7f84ad474690>]"
      ]
     },
     "execution_count": 131,
     "metadata": {},
     "output_type": "execute_result"
    },
    {
     "data": {
      "image/png": "[encoded data removed]",
      "text/plain": [
       "<matplotlib.figure.Figure at 0x7f84ad54ca10>"
      ]
     },
     "metadata": {},
     "output_type": "display_data"
    }
   ],
   "source": [
    "plt.plot(overlap_proper_full[0,:,0])"
   ]
  },
  {
   "cell_type": "code",
   "execution_count": 97,
   "metadata": {
    "collapsed": true
   },
   "outputs": [],
   "source": [
    "_,covEV,covEval = corXY(data[0],10,100)"
   ]
  },
  {
   "cell_type": "code",
   "execution_count": 154,
   "metadata": {},
   "outputs": [
    {
     "data": {
      "text/plain": [
       "9200"
      ]
     },
     "execution_count": 154,
     "metadata": {},
     "output_type": "execute_result"
    }
   ],
   "source": [
    "len(data[0][0:Num_configs[100]])"
   ]
  },
  {
   "cell_type": "code",
   "execution_count": 106,
   "metadata": {},
   "outputs": [
    {
     "data": {
      "text/plain": [
       "<matplotlib.collections.PathCollection at 0x7f84b1657a90>"
      ]
     },
     "execution_count": 106,
     "metadata": {},
     "output_type": "execute_result"
    },
    {
     "data": {
      "image/png": "[encoded data removed]",
      "text/plain": [
       "<matplotlib.figure.Figure at 0x7f84adee6fd0>"
      ]
     },
     "metadata": {},
     "output_type": "display_data"
    }
   ],
   "source": [
    "plt.scatter(range(len(covEval)),covEval)"
   ]
  },
  {
   "cell_type": "code",
   "execution_count": 143,
   "metadata": {},
   "outputs": [
    {
     "data": {
      "text/plain": [
       "<matplotlib.contour.QuadContourSet at 0x7f84acdc37d0>"
      ]
     },
     "execution_count": 143,
     "metadata": {},
     "output_type": "execute_result"
    },
    {
     "data": {
      "image/png": "[encoded data removed]",
      "text/plain": [
       "<matplotlib.figure.Figure at 0x7f84ace84fd0>"
      ]
     },
     "metadata": {},
     "output_type": "display_data"
    }
   ],
   "source": [
    "plt.contourf(np.reshape(covEV[:,0],[100,10]))"
   ]
  },
  {
   "cell_type": "code",
   "execution_count": 176,
   "metadata": {},
   "outputs": [
    {
     "name": "stdout",
     "output_type": "stream",
     "text": [
      "Starting epoch 1\n",
      "Starting epoch 2\n",
      "Starting epoch 3\n",
      "Starting epoch 4\n",
      "Starting epoch 5\n",
      "Starting epoch 6\n",
      "Starting epoch 7\n",
      "Starting epoch 8\n",
      "Starting epoch 9\n",
      "Starting epoch 10\n",
      "Starting epoch 11\n",
      "Starting epoch 12\n",
      "Starting epoch 13\n",
      "Starting epoch 14\n",
      "Starting epoch 15\n",
      "Starting epoch 16\n",
      "Starting epoch 17\n",
      "Starting epoch 18\n",
      "Starting epoch 19\n",
      "Starting epoch 20\n"
     ]
    }
   ],
   "source": [
    "RBM_full = (rbm.RBM(visible = 'Potts', n_cv=10, n_v=N, n_h = num_hidden, hidden = 'Bernoulli',zero_field = True))\n",
    "results_full = (RBM_full.fit(data[0],n_iter=20,verbose=0,learning_rate = 0.1,record=['W'],\\\n",
    "                                  record_interval=100,batch_size=100,N_MC= 20, lr_decay=False,batch_norm=False))"
   ]
  },
  {
   "cell_type": "code",
   "execution_count": 215,
   "metadata": {},
   "outputs": [
    {
     "data": {
      "text/plain": [
       "<matplotlib.colorbar.Colorbar at 0x7f8488d7b810>"
      ]
     },
     "execution_count": 215,
     "metadata": {},
     "output_type": "execute_result"
    },
    {
     "data": {
      "image/png": "[encoded data removed]",
      "text/plain": [
       "<matplotlib.figure.Figure at 0x7f8488ec2790>"
      ]
     },
     "metadata": {},
     "output_type": "display_data"
    }
   ],
   "source": [
    "plt.figure(figsize=(10,5))\n",
    "plt.contourf(np.array(results_full['W'])[-1,0,:,:])\n",
    "plt.colorbar()"
   ]
  },
  {
   "cell_type": "code",
   "execution_count": 180,
   "metadata": {},
   "outputs": [
    {
     "data": {
      "text/plain": [
       "[<matplotlib.lines.Line2D at 0x7f84ac7d6050>]"
      ]
     },
     "execution_count": 180,
     "metadata": {},
     "output_type": "execute_result"
    },
    {
     "data": {
      "image/png": "[encoded data removed]",
      "text/plain": [
       "<matplotlib.figure.Figure at 0x7f84ac860810>"
      ]
     },
     "metadata": {},
     "output_type": "display_data"
    }
   ],
   "source": [
    "plt.plot(covMATEVAL_full[0],'.')"
   ]
  },
  {
   "cell_type": "code",
   "execution_count": 183,
   "metadata": {},
   "outputs": [
    {
     "data": {
      "text/plain": [
       "<matplotlib.contour.QuadContourSet at 0x7f84ac64df90>"
      ]
     },
     "execution_count": 183,
     "metadata": {},
     "output_type": "execute_result"
    },
    {
     "data": {
      "image/png": "[encoded data removed]",
      "text/plain": [
       "<matplotlib.figure.Figure at 0x7f84ac81c210>"
      ]
     },
     "metadata": {},
     "output_type": "display_data"
    }
   ],
   "source": [
    "plt.contourf(np.reshape(covMATEVEC_full[0,:,0],[100,10]))"
   ]
  },
  {
   "cell_type": "code",
   "execution_count": 189,
   "metadata": {},
   "outputs": [
    {
     "data": {
      "text/plain": [
       "[<matplotlib.lines.Line2D at 0x7f84ac34a250>]"
      ]
     },
     "execution_count": 189,
     "metadata": {},
     "output_type": "execute_result"
    },
    {
     "data": {
      "image/png": "[encoded data removed]",
      "text/plain": [
       "<matplotlib.figure.Figure at 0x7f84ac417f50>"
      ]
     },
     "metadata": {},
     "output_type": "display_data"
    }
   ],
   "source": [
    "plt.plot(abs(overlap_proper_full[0,:,0,1]),'o')"
   ]
  },
  {
   "cell_type": "code",
   "execution_count": 214,
   "metadata": {},
   "outputs": [
    {
     "data": {
      "text/plain": [
       "<matplotlib.contour.QuadContourSet at 0x7f8488e8a2d0>"
      ]
     },
     "execution_count": 214,
     "metadata": {},
     "output_type": "execute_result"
    },
    {
     "data": {
      "image/png": "[encoded data removed]",
      "text/plain": [
       "<matplotlib.figure.Figure at 0x7f8488f1d210>"
      ]
     },
     "metadata": {},
     "output_type": "display_data"
    }
   ],
   "source": [
    "plt.contourf(np.reshape(weights[0,20,0],[100,10]))"
   ]
  },
  {
   "cell_type": "code",
   "execution_count": 203,
   "metadata": {},
   "outputs": [
    {
     "data": {
      "text/plain": [
       "array([  100,   200,   300,   400,   500,   600,   700,   800,   900,\n",
       "        1000,  1500,  2000,  2500,  3000,  3500,  4000,  4500,  5000,\n",
       "       15000, 25000, 35000, 45000, 55000, 65000, 75000, 85000, 95000])"
      ]
     },
     "execution_count": 203,
     "metadata": {},
     "output_type": "execute_result"
    }
   ],
   "source": [
    "Num_configs"
   ]
  },
  {
   "cell_type": "code",
   "execution_count": 225,
   "metadata": {},
   "outputs": [
    {
     "data": {
      "text/plain": [
       "[<matplotlib.lines.Line2D at 0x7f8488964410>]"
      ]
     },
     "execution_count": 225,
     "metadata": {},
     "output_type": "execute_result"
    },
    {
     "data": {
      "image/png": "[encoded data removed]",
      "text/plain": [
       "<matplotlib.figure.Figure at 0x7f8488995510>"
      ]
     },
     "metadata": {},
     "output_type": "display_data"
    }
   ],
   "source": [
    "plt.plot(covMATEVAL[0,:,0],'o')"
   ]
  },
  {
   "cell_type": "code",
   "execution_count": null,
   "metadata": {
    "collapsed": true
   },
   "outputs": [],
   "source": []
  }
 ],
 "metadata": {
  "kernelspec": {
   "display_name": "Python 2",
   "language": "python",
   "name": "python2"
  },
  "language_info": {
   "codemirror_mode": {
    "name": "ipython",
    "version": 2
   },
   "file_extension": ".py",
   "mimetype": "text/x-python",
   "name": "python",
   "nbconvert_exporter": "python",
   "pygments_lexer": "ipython2",
   "version": "2.7.14"
  }
 },
 "nbformat": 4,
 "nbformat_minor": 2
}
