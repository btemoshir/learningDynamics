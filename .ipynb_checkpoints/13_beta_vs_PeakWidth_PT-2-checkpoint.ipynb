{
 "cells": [
  {
   "cell_type": "markdown",
   "metadata": {},
   "source": [
    "# Train on differnet beta values and check if there is a phase transition.\n",
    "# Here we use different number of training examples - similar effect should be seen."
   ]
  },
  {
   "cell_type": "code",
   "execution_count": 1,
   "metadata": {
    "collapsed": true
   },
   "outputs": [],
   "source": [
    "import sys\n",
    "import os\n",
    "sys.path.append('Jerome_scripts_Original/PGM/')\n",
    "sys.path.append('selfPackages/')\n",
    "sys.path.append('Jerome_scripts_Original/')\n",
    "\n",
    "import numpy as np\n",
    "import scipy as sc\n",
    "import matplotlib\n",
    "%matplotlib inline\n",
    "import matplotlib.pyplot as plt\n",
    "\n",
    "try:\n",
    "    import rbm\n",
    "    import bm\n",
    "except:\n",
    "    print 'Compiling cy_utilities first'\n",
    "    curr_dir = os.getcwd()\n",
    "    os.chdir('PGM/')\n",
    "    !python setup.py build_ext --inplace\n",
    "    print 'Compilation done'\n",
    "    os.chdir(curr_dir)\n",
    "    \n",
    "import pickle\n",
    "from ising import IsingModel\n",
    "import estimate_correlations_ising\n",
    "from sklearn.utils import shuffle\n",
    "import inlineMovies"
   ]
  },
  {
   "cell_type": "code",
   "execution_count": 19,
   "metadata": {
    "collapsed": true
   },
   "outputs": [],
   "source": [
    "import dill\n",
    "dill.dump_session('./data_bruckner/data/notebookData/13_beta_vs_PeakWidth_PT-2.db')"
   ]
  },
  {
   "cell_type": "code",
   "execution_count": null,
   "metadata": {
    "collapsed": true
   },
   "outputs": [],
   "source": [
    "import dill\n",
    "dill.load_session('./data_bruckner/data/notebookData/13_beta_vs_PeakWidth_PT-2.db')"
   ]
  },
  {
   "cell_type": "code",
   "execution_count": 2,
   "metadata": {
    "collapsed": true
   },
   "outputs": [],
   "source": [
    "def beta_from_corrLength(corrLen):\n",
    "    beta = np.tan((np.exp(-1./corrLen)))\n",
    "    return beta"
   ]
  },
  {
   "cell_type": "code",
   "execution_count": 13,
   "metadata": {},
   "outputs": [
    {
     "name": "stdout",
     "output_type": "stream",
     "text": [
      "[  1.00000000e-05   1.00000000e-04   1.00000000e-03   1.00000000e-02\n",
      "   1.00000000e-01   2.50000000e-01   5.00000000e-01   7.50000000e-01\n",
      "   1.00000000e+00   1.10000000e+00]\n"
     ]
    }
   ],
   "source": [
    "#corrLengths = np.array([0.1,0.5,1.,5,10.,20.,50,100])\n",
    "#corrLengths = np.linspace(0.01,20,10)\n",
    "#beta = np.linspace(0.00001,1.2,10)\n",
    "beta_r = np.array([10**-5,10**-4,10**-3,10**-2,10**-1,0.25,0.5,0.75,10**0,1.1])\n",
    "print beta_r"
   ]
  },
  {
   "cell_type": "code",
   "execution_count": 33,
   "metadata": {},
   "outputs": [
    {
     "name": "stdout",
     "output_type": "stream",
     "text": [
      "[  2.00000000e+01   2.20000000e+01   2.60000000e+01   3.00000000e+01\n",
      "   3.60000000e+01   4.50000000e+01   6.00000000e+01   8.90000000e+01\n",
      "   1.77000000e+02   1.00000000e+03   2.37200000e+03   5.62400000e+03\n",
      "   1.00000000e+04   1.33360000e+04   3.16230000e+04]\n"
     ]
    }
   ],
   "source": [
    "#Defining Parameters\n",
    "#Num_configs = np.ceil(10000*0.1/beta_r)\n",
    "\n",
    "#Num_configs = Num_configs[3:]\n",
    "\n",
    "Num_configs = np.sort(np.append(np.ceil(10**(np.linspace(3,4.5,5))),np.unique(np.round(100./(np.linspace(0.01,5,10))))))\n",
    "\n",
    "N = np.zeros(len(Num_configs)) + 100\n",
    "Nstep = np.zeros(len(Num_configs)) + 200\n",
    "print Num_configs\n",
    "\n",
    "beta = np.zeros(len(Num_configs)) + 0.2\n",
    "\n",
    "#Change the array type to int array from float array\n",
    "N = N.astype(int)\n",
    "Nstep = Nstep.astype(int)\n",
    "Num_configs = Num_configs.astype(int)"
   ]
  },
  {
   "cell_type": "code",
   "execution_count": null,
   "metadata": {
    "collapsed": true
   },
   "outputs": [],
   "source": [
    "%%capture captX\n",
    "\n",
    "Xdata_big    = []\n",
    "Xresults_big = []\n",
    "\n",
    "XBM      = []\n",
    "Xdata    = []\n",
    "Xresults = []\n",
    "XRBM     = []\n",
    "\n",
    "Num_reps = 10\n",
    "\n",
    "for j in range(Num_reps):\n",
    "    \n",
    "    Xdata_big.append(Xdata)\n",
    "    Xresults_big.append(Xresults)\n",
    "    \n",
    "    XBM      = []\n",
    "    Xdata    = []\n",
    "    Xresults = []\n",
    "    XRBM     = []\n",
    "    \n",
    "    for i in np.arange(len(beta)):\n",
    "        #Generate spins using Gibbs Sampling MCMC\n",
    "        XBM.append(bm.BM(N=N[i],nature='Spin'))\n",
    "\n",
    "        #Define Couplings\n",
    "        XBM[i].layer.couplings =  beta[i]*(np.eye(N=N[i],k=1) + np.eye(N=N[i],k=-1) )\n",
    "        XBM[i].layer.couplings[0,-1] += beta[i]\n",
    "        XBM[i].layer.couplings[-1,0] += beta[i]\n",
    "\n",
    "        #Generating the ising model data\n",
    "        Xdata.append(XBM[i].gen_data(Nchains=1,Nthermalize=0,Lchains=Num_configs[i],Nstep=Nstep[i])) # N steps.\n",
    "\n",
    "        #Train the model\n",
    "        XRBM.append(rbm.RBM(visible = 'Spin', n_v=N[i], n_h = 1, hidden = 'Spin',zero_field = True))\n",
    "        Xresults.append(XRBM[i].fit(Xdata[i],n_iter=250,verbose=0,learning_rate = 0.001,record=['W'],record_interval=100,batch_size=10,N_MC= 20, lr_decay=False,batch_norm=False))"
   ]
  },
  {
   "cell_type": "code",
   "execution_count": null,
   "metadata": {
    "collapsed": true
   },
   "outputs": [],
   "source": [
    "# Top Eignvectors of the C_ij matrix:\n",
    "def topEV(data):\n",
    "    #Find the covariance matrix:\n",
    "    covMAT = np.cov(data)\n",
    "    Eval,Evec = np.linalg.eig(covMAT)\n",
    "    return Evec(:,argmax(Eval))"
   ]
  },
  {
   "cell_type": "code",
   "execution_count": 23,
   "metadata": {},
   "outputs": [],
   "source": [
    "weights_sum = np.zeros(len(beta))\n",
    "for i in np.arange(len(beta)):\n",
    "        weights_sum[i] = np.sum(np.array(Xresults[i]['W'])[-1,0,:])"
   ]
  },
  {
   "cell_type": "code",
   "execution_count": 29,
   "metadata": {},
   "outputs": [
    {
     "data": {
      "text/plain": [
       "<matplotlib.collections.PathCollection at 0x7fd2c3323cd0>"
      ]
     },
     "execution_count": 29,
     "metadata": {},
     "output_type": "execute_result"
    },
    {
     "data": {
      "image/png": "[encoded data removed]",
      "text/plain": [
       "<matplotlib.figure.Figure at 0x7fd2c2e2f710>"
      ]
     },
     "metadata": {},
     "output_type": "display_data"
    }
   ],
   "source": [
    "plt.scatter(float(N[0])/Num_configs,abs(weights_sum))"
   ]
  },
  {
   "cell_type": "code",
   "execution_count": null,
   "metadata": {
    "collapsed": true
   },
   "outputs": [],
   "source": []
  }
 ],
 "metadata": {
  "kernelspec": {
   "display_name": "Python 2",
   "language": "python",
   "name": "python2"
  },
  "language_info": {
   "codemirror_mode": {
    "name": "ipython",
    "version": 2
   },
   "file_extension": ".py",
   "mimetype": "text/x-python",
   "name": "python",
   "nbconvert_exporter": "python",
   "pygments_lexer": "ipython2",
   "version": "2.7.14"
  }
 },
 "nbformat": 4,
 "nbformat_minor": 2
}
