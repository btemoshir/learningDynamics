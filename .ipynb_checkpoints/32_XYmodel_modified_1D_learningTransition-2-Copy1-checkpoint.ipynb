{
 "cells": [
  {
   "cell_type": "markdown",
   "metadata": {},
   "source": [
    "# Geneate Configurations of 1D XY model and train RBM on that.\n",
    "\n",
    "### Its not easy to generate the samples from XY model - we discretize the angles and use potts model instaed."
   ]
  },
  {
   "cell_type": "code",
   "execution_count": 2,
   "metadata": {
    "collapsed": true
   },
   "outputs": [],
   "source": [
    "import sys\n",
    "import os\n",
    "sys.path.append('Jerome_scripts_Original/PGM/')\n",
    "sys.path.append('selfPackages/')\n",
    "sys.path.append('Jerome_scripts_Original/')\n",
    "sys.path.append('ffmpeg-3.4.2-32bit-static/')\n",
    "\n",
    "import numpy as np\n",
    "import scipy as sc\n",
    "import matplotlib\n",
    "%matplotlib inline\n",
    "import matplotlib.pyplot as plt\n",
    "\n",
    "try:\n",
    "    import rbm\n",
    "    import bm\n",
    "except:\n",
    "    print 'Compiling cy_utilities first'\n",
    "    curr_dir = os.getcwd()\n",
    "    os.chdir('PGM/')\n",
    "    !python setup.py build_ext --inplace\n",
    "    print 'Compilation done'\n",
    "    os.chdir(curr_dir)\n",
    "    \n",
    "import pickle\n",
    "from ising import IsingModel\n",
    "import estimate_correlations_ising\n",
    "from sklearn.utils import shuffle\n",
    "import inlineMovies"
   ]
  },
  {
   "cell_type": "code",
   "execution_count": 47,
   "metadata": {
    "collapsed": true
   },
   "outputs": [],
   "source": [
    "#import dill\n",
    "#dill.dump_session('./data_bruckner/data/notebookData/32_XYmodel_modified_1D_learningTransition-2')"
   ]
  },
  {
   "cell_type": "code",
   "execution_count": null,
   "metadata": {
    "collapsed": true
   },
   "outputs": [],
   "source": [
    "#import dill\n",
    "#dill.load_session('./data_bruckner/data/notebookData/32_XYmodel_modified_1D_learningTransition-2')"
   ]
  },
  {
   "cell_type": "code",
   "execution_count": 2,
   "metadata": {
    "collapsed": true
   },
   "outputs": [],
   "source": [
    "# Save the data array with the 1d XY model configurations: Expensive to generate over again.\n",
    "#np.save('./data_bruckner/data/notebookData/data_XY1D_100000_beta1.5_size100_states=10',data)\n",
    "data = np.load('./data_bruckner/data/notebookData/data_XY1D_100000_beta1.5_size100_states=10.npy')"
   ]
  },
  {
   "cell_type": "code",
   "execution_count": null,
   "metadata": {
    "collapsed": true
   },
   "outputs": [],
   "source": [
    "#%%capture capt1\n",
    "#Supress the output of the cell and save it to capt1\n",
    "\n",
    "size = 100\n",
    "N = size\n",
    "#beta = 1.5\n",
    "#Num_configs = [100,300,500,700,800,1000,2000]\n",
    "#Num_configs = [100,300,500,700,800,1000,2000,3000,4000,5000,8000]\n",
    "Num_configs = np.append(np.append(np.arange(100,1000,100),np.arange(1000,5000,500)),np.arange(5000,100000,10000))\n",
    "beta = [1.5]\n",
    "num_hidden = 1\n",
    "\n",
    "#Generate spins using Gibbs Sampling MCMC\n",
    "BM = bm.BM(N=N,nature='Potts',n_c=10)\n",
    "\n",
    "#Define Couplings\n",
    "BM.layer.couplings = XY1dCouplingsMF2(BM,size = 100,beta=beta,num_states=10,PBC=True)"
   ]
  },
  {
   "cell_type": "code",
   "execution_count": 62,
   "metadata": {},
   "outputs": [
    {
     "name": "stdout",
     "output_type": "stream",
     "text": [
      "[1.5]\n"
     ]
    }
   ],
   "source": [
    "print beta"
   ]
  },
  {
   "cell_type": "code",
   "execution_count": null,
   "metadata": {
    "collapsed": true
   },
   "outputs": [],
   "source": [
    "data = BM.gen_data(Nchains=1,Nthermalize=0,Lchains=100000,Nstep=200)\n",
    "#for i in range(len(Num_configs)):\n",
    "#    data.append(BM.gen_data(Nchains=1,Nthermalize=0,Lchains=Num_configs[i],Nstep=200)) # N steps."
   ]
  },
  {
   "cell_type": "code",
   "execution_count": 3,
   "metadata": {
    "collapsed": true
   },
   "outputs": [],
   "source": [
    "def XY1dCouplings(BM,size=100,beta=1.0,num_states=10,PBC=False):\n",
    "    \n",
    "    # This is only the nearest neighbour interactions XY model on a 1D lattcie\n",
    "    pottsCouplings = np.zeros([num_states,num_states])\n",
    "    \n",
    "    for i in np.arange(0,num_states):\n",
    "        for j in np.arange(0,num_states):\n",
    "            pottsCouplings[i,j] = np.cos((i-j)*2*np.pi/num_states)\n",
    "        \n",
    "    BM.layer.couplings[(np.eye(N=size,k=-1)+np.eye(N=size,k=+1)).astype(bool),:,:] = beta*pottsCouplings\n",
    "    \n",
    "    if PBC is True:\n",
    "        BM.layer.couplings[0,-1] = beta*pottsCouplings\n",
    "        BM.layer.couplings[-1,0] = beta*pottsCouplings\n",
    "    \n",
    "    return BM.layer.couplings"
   ]
  },
  {
   "cell_type": "code",
   "execution_count": 17,
   "metadata": {
    "collapsed": true
   },
   "outputs": [],
   "source": [
    "def XY1dCouplingsMF1(BM,size=100,beta=1.0,num_states=10,PBC=False):\n",
    "    \n",
    "    # This is only the nearest neighbour interactions XY model on a 1D lattcie\n",
    "    pottsCouplings = np.zeros([num_states,num_states])\n",
    "    \n",
    "    pottsCouplings[0,0] = 1\n",
    "    pottsCouplings[num_states-1,num_states-1] = 1\n",
    "    \n",
    "    for i in np.arange(1,num_states-1):\n",
    "        pottsCouplings[i,i] = 1\n",
    "        pottsCouplings[i,i-1] = 0.2\n",
    "        \n",
    "    BM.layer.couplings[(np.eye(N=size,k=-1)+np.eye(N=size,k=+1)).astype(bool),:,:] = beta*pottsCouplings\n",
    "    \n",
    "    if PBC is True:\n",
    "        BM.layer.couplings[0,-1] = beta*pottsCouplings\n",
    "        BM.layer.couplings[-1,0] = beta*pottsCouplings\n",
    "    \n",
    "    return BM.layer.couplings"
   ]
  },
  {
   "cell_type": "code",
   "execution_count": 63,
   "metadata": {
    "collapsed": true
   },
   "outputs": [],
   "source": [
    "def XY1dCouplingsMF2(BM,size=100,beta=1.0,num_states=10,PBC=False):\n",
    "    \n",
    "    # This is only the nearest neighbour interactions XY model on a 1D lattcie\n",
    "    pottsCouplings = np.zeros([num_states,num_states])\n",
    "    \n",
    "    pottsCouplings[0,0] = 1\n",
    "    pottsCouplings[num_states-1,num_states-1] = 1\n",
    "    \n",
    "    for i in np.arange(1,num_states-1):\n",
    "        pottsCouplings[i,i] = 1\n",
    "        pottsCouplings[i,i-1] = 0.8\n",
    "        \n",
    "    for i in range(size):\n",
    "        for j in range(size):\n",
    "            BM.layer.couplings[i,j] = pottsCouplings*beta*np.cos(np.float(i-j)*2*np.pi/size)\n",
    "    \n",
    "    BM.layer.couplings[np.eye(N).astype(bool)] = 0\n",
    "    \n",
    "    if PBC is True:\n",
    "        BM.layer.couplings[0,-1] = pottsCouplings*beta*np.cos((1.0)*2*np.pi/size)\n",
    "        BM.layer.couplings[-1,0] = pottsCouplings*beta*np.cos((1.0)*2*np.pi/size)\n",
    "\n",
    "    return BM.layer.couplings"
   ]
  },
  {
   "cell_type": "code",
   "execution_count": 15,
   "metadata": {
    "collapsed": true
   },
   "outputs": [],
   "source": [
    "def XY2dCouplings(BM,size=20,beta1=1.0,beta2=1.0,num_states=10,PBC=False):\n",
    "    \n",
    "    # This is only the nearest neighbour XY model on a 2D square lattice\n",
    "    # Calculate the KT transition beta\n",
    "        \n",
    "    pottsCouplings = np.zeros([num_states,num_states])\n",
    "    N = size\n",
    "    \n",
    "    for i in np.arange(0,num_states):\n",
    "        for j in np.arange(0,num_states):\n",
    "            pottsCouplings[i,j] = np.cos((i-j)*2*np.pi/num_states)\n",
    "            \n",
    "    BM.layer.couplings[(np.eye(N=size**2,k=1) + np.eye(N=size**2,k=-1)).astype(bool),:,:] =  beta1*pottsCouplings\n",
    "    BM.layer.couplings[(np.eye(N=size**2,k=size) + np.eye(N=size**2,k=-size)).astype(bool),:,:] =  beta2*pottsCouplings\n",
    "    \n",
    "    # Remove the couplings of the left most coloumn to that of the last coloumn in its previous row:\n",
    "    for i in np.arange(0,N*N,N):\n",
    "        BM.layer.couplings[i,i-1] = 0\n",
    "        BM.layer.couplings[i-1,i] = 0\n",
    "    \n",
    "    if PBC is True:\n",
    "        # Add the couplings of the first row to that of the last row and vice versa:\n",
    "        for i in np.arange(0,N):\n",
    "            BM.layer.couplings[i,(size**2)-N+i] = beta2*pottsCouplings\n",
    "            BM.layer.couplings[(size**2)-N+i,i] = beta2*pottsCouplings\n",
    "        # Add the couplings of the left most column to the right most coloumn:\n",
    "            BM.layer.couplings[i,i+N-1] = beta1*pottsCouplings\n",
    "            BM.layer.couplings[i+N-1,i] = beta1*pottsCouplings\n",
    "    \n",
    "    return BM.layer.couplings"
   ]
  },
  {
   "cell_type": "code",
   "execution_count": null,
   "metadata": {
    "scrolled": true
   },
   "outputs": [],
   "source": [
    "RBM = []\n",
    "results = []\n",
    "data = []\n",
    "weights = np.zeros([len(beta),len(Num_configs),num_hidden,N,BM.n_c])\n",
    "topEVec = np.zeros([len(beta),len(Num_configs),N])\n",
    "overlap = np.zeros([len(beta),len(Num_configs),num_hidden])\n",
    "overlap_full = np.zeros([len(beta),len(Num_configs),num_hidden])\n",
    "topEVec_full = np.zeros([len(beta),N])\n",
    "overlap_proper = np.zeros([len(beta),len(Num_configs),num_hidden])\n",
    "overlap_proper_full = np.zeros([len(beta),len(Num_configs),num_hidden])\n",
    "covMATEVEC = np.zeros([len(beta),len(Num_configs),N*BM.n_c])\n",
    "covMATEVEC_full = np.zeros([len(beta),N*BM.n_c])\n",
    "\n",
    "for j in range(len(beta)):\n",
    "    \n",
    "    BM.layer.couplings = XY1dCouplingsMF2(BM,size = 100,beta=beta[j],num_states=10,PBC=True)\n",
    "    data.append(BM.gen_data(Nchains=1,Nthermalize=0,Lchains=np.max(Num_configs),Nstep=200))\n",
    "    topEVec_full[j],_ = topEV(data[j].T,method='Correlation')\n",
    "    _,covMATEVEC_full[j] = corXY(data[j],10,100)\n",
    "\n",
    "    for i in range(len(Num_configs)):\n",
    "        \n",
    "        #Train the model\n",
    "        RBM.append(rbm.RBM(visible = 'Potts', n_cv=10, n_v=N, n_h = num_hidden, hidden = 'Bernoulli',zero_field = True))\n",
    "        results.append(RBM[i+j].fit(data[j][0:Num_configs[i]],n_iter=20,verbose=0,learning_rate = 0.1,record=['W'],\\\n",
    "                                  record_interval=100,batch_size=100,N_MC= 20, lr_decay=False,batch_norm=False))\n",
    "\n",
    "        topEVec[j,i],_ = topEV(data[j][0:Num_configs[i]].T,method='Correlation')\n",
    "        _,covMATEVEC[j,i] = corXY(data[j][0:Num_configs[i]],BM.n_c,N)\n",
    "\n",
    "        for k in range(RBM[i].n_h):\n",
    "            weights[j,i,k]      = np.copy(np.array(results[i+j]['W'])[-1,k,:,:])\n",
    "            overlap[j,i,k]      = abs(np.dot(np.sum(abs(weights[j,i,k]),axis=1),topEVec[j,i]))\n",
    "            overlap_full[j,i,k] = abs(np.dot(np.sum(abs(weights[j,i,k]),axis=1),topEVec_full[j]))\n",
    "            \n",
    "            overlap_proper[j,i,k]      = np.sum(np.multiply(weights[j,i,k],np.reshape(covMATEVEC[j,i],[N,BM.n_c])))\n",
    "            overlap_proper_full[j,i,k] = np.sum(np.multiply(weights[j,i,k],np.reshape(covMATEVEC_full[j],[N,BM.n_c])))"
   ]
  },
  {
   "cell_type": "code",
   "execution_count": null,
   "metadata": {
    "collapsed": true
   },
   "outputs": [],
   "source": [
    "def cosfit(x,peak,phase,freq):\n",
    "    return peak*np.cos(x*freq + phase)\n",
    "\n",
    "popt = np.zeros([len(np.array(results['W'])[:,0,0,0]),RBM.n_h,len(np.array(results['W'])[-1,0,:,0]),3])\n",
    "popc = np.zeros([len(np.array(results['W'])[:,0,0,0]),RBM.n_h,len(np.array(results['W'])[-1,0,:,0]),3,3])\n",
    "\n",
    "for i in np.arange(len(np.array(results['W'])[-1,0,:,0])):\n",
    "    for j in np.arange(len(np.array(results['W'])[:,0,0,0])):\n",
    "        for k in np.arange(RBM.n_h):\n",
    "            try:\n",
    "                popt[j,k,i],popc[j,k,i] = sc.optimize.curve_fit(cosfit,np.arange(10),(np.array(results['W'])[j,k,i,:]),[1,1,2*np.pi/10],bounds=(0,[np.inf,2*np.pi,np.inf]))\n",
    "            except:\n",
    "                pass"
   ]
  },
  {
   "cell_type": "code",
   "execution_count": 41,
   "metadata": {
    "collapsed": true
   },
   "outputs": [],
   "source": [
    "# Top Eignvectors of the C_ij matrix:\n",
    "def topEV(data,method='Covariance'):\n",
    "    if method is 'Covariance':\n",
    "        #Find the covariance matrix:\n",
    "        covMAT = np.cov(data)\n",
    "    elif method is 'Correlation':\n",
    "        covMAT = np.corrcoef(data)\n",
    "    Eval,Evec = np.linalg.eig(covMAT)\n",
    "    return Evec[:,np.argmax(Eval)],np.max(Eval)"
   ]
  },
  {
   "cell_type": "code",
   "execution_count": null,
   "metadata": {
    "collapsed": true
   },
   "outputs": [],
   "source": [
    "def corXY(data,num_configs,num_sites,method='Correlation'):\n",
    "    \n",
    "    cov_mat = np.zeros([num_configs*num_sites,num_configs*num_sites])\n",
    "    \n",
    "    if method is 'Covariance':\n",
    "        for i1 in np.arange((num_sites)):\n",
    "            for j1 in np.arange((num_configs)):\n",
    "                for i2 in np.arange((num_sites)):\n",
    "                    for j2 in np.arange((num_configs)):\n",
    "                        cov_mat[i1*num_configs+j1, i2*num_configs+j2] = \\\n",
    "                        np.float(np.count_nonzero(np.logical_and(data[:,i1]==j1,data[:,i2]==j2)))/(len(data)) \\\n",
    "                        - np.float(np.count_nonzero(data[:,i1]==j1)*np.count_nonzero(data[:,i2]==j2))/(len(data)**2)\n",
    "\n",
    "    if method is 'Correlation':\n",
    "        \n",
    "        diag_mat = np.zeros(num_configs*num_sites)\n",
    "        \n",
    "        for i1 in np.arange((num_sites)):\n",
    "            for j1 in np.arange((num_configs)):\n",
    "                        diag_mat[i1*num_configs+j1] = \\\n",
    "                        np.float(np.count_nonzero(np.logical_and(data[:,i1]==j1,data[:,i1]==j1)))/(len(data)) \\\n",
    "                        - np.float(np.count_nonzero(data[:,i1]==j1)*np.count_nonzero(data[:,i1]==j1))/(len(data)**2)\n",
    "        \n",
    "        for i1 in np.arange((num_sites)):\n",
    "            for j1 in np.arange((num_configs)):\n",
    "                for i2 in np.arange((num_sites)):\n",
    "                    for j2 in np.arange((num_configs)):\n",
    "                        cov_mat[i1*num_configs+j1, i2*num_configs+j2] = \\\n",
    "                        (np.float(np.count_nonzero(np.logical_and(data[:,i1]==j1,data[:,i2]==j2)))/(len(data)) \\\n",
    "                        - np.float(np.count_nonzero(data[:,i1]==j1)*np.count_nonzero(data[:,i2]==j2))/(len(data)**2)\\\n",
    "                        )/np.sqrt(diag_mat[i1*num_configs+j1]*diag_mat[i2*num_configs+j2])\n",
    "    \n",
    "    Eval,Evec = np.linalg.eig(cov_mat)\n",
    "    \n",
    "    return cov_mat,Evec[:,np.argmax(Eval)]"
   ]
  },
  {
   "cell_type": "code",
   "execution_count": null,
   "metadata": {},
   "outputs": [
    {
     "name": "stderr",
     "output_type": "stream",
     "text": [
      "/users/harsh/anaconda2/lib/python2.7/site-packages/ipykernel_launcher.py:8: ComplexWarning: Casting complex values to real discards the imaginary part\n",
      "  \n",
      "/users/harsh/anaconda2/lib/python2.7/site-packages/ipykernel_launcher.py:12: ComplexWarning: Casting complex values to real discards the imaginary part\n",
      "  if sys.path[0] == '':\n"
     ]
    }
   ],
   "source": [
    "overlap_proper = np.zeros([len(beta),len(Num_configs),num_hidden])\n",
    "overlap_proper_full = np.zeros([len(beta),len(Num_configs),num_hidden])\n",
    "covMATEVEC = np.zeros([len(beta),len(Num_configs),N*BM.n_c])\n",
    "covMATEVEC_full = np.zeros([len(beta),N*BM.n_c])\n",
    "\n",
    "for j in range(len(beta)):\n",
    "    \n",
    "    _,covMATEVEC_full[j] = corXY(data[j],10,100)\n",
    "    \n",
    "    for i in range(len(Num_configs)):\n",
    "\n",
    "        _,covMATEVEC[j,i] = corXY(data[j][0:Num_configs[i]],10,100)\n",
    "\n",
    "        for k in range(RBM[i].n_h):\n",
    "            overlap_proper[j,i,k]      = np.sum(np.multiply(weights[j,i,k],np.reshape(covMATEVEC[j,i],[N,BM.n_c])))\n",
    "            overlap_proper_full[j,i,k] = np.sum(np.multiply(weights[j,i,k],np.reshape(covMATEVEC_full[j],[N,BM.n_c])))"
   ]
  },
  {
   "cell_type": "code",
   "execution_count": null,
   "metadata": {
    "collapsed": true
   },
   "outputs": [],
   "source": [
    "plt.contourf(overlap_proper[:,:,0])"
   ]
  },
  {
   "cell_type": "code",
   "execution_count": 57,
   "metadata": {},
   "outputs": [
    {
     "ename": "NameError",
     "evalue": "name 'overlap_proper_full' is not defined",
     "output_type": "error",
     "traceback": [
      "\u001b[0;31m---------------------------------------------------------------------------\u001b[0m",
      "\u001b[0;31mNameError\u001b[0m                                 Traceback (most recent call last)",
      "\u001b[0;32m<ipython-input-57-7bbbd8d46fea>\u001b[0m in \u001b[0;36m<module>\u001b[0;34m()\u001b[0m\n\u001b[0;32m----> 1\u001b[0;31m \u001b[0mplt\u001b[0m\u001b[0;34m.\u001b[0m\u001b[0mcontourf\u001b[0m\u001b[0;34m(\u001b[0m\u001b[0moverlap_proper_full\u001b[0m\u001b[0;34m[\u001b[0m\u001b[0;34m:\u001b[0m\u001b[0;34m,\u001b[0m\u001b[0;34m:\u001b[0m\u001b[0;34m,\u001b[0m\u001b[0;36m0\u001b[0m\u001b[0;34m]\u001b[0m\u001b[0;34m)\u001b[0m\u001b[0;34m\u001b[0m\u001b[0m\n\u001b[0m",
      "\u001b[0;31mNameError\u001b[0m: name 'overlap_proper_full' is not defined"
     ]
    }
   ],
   "source": [
    "plt.contourf(overlap_proper_full[:,:,0])"
   ]
  },
  {
   "cell_type": "code",
   "execution_count": 58,
   "metadata": {},
   "outputs": [
    {
     "name": "stderr",
     "output_type": "stream",
     "text": [
      "/users/harsh/anaconda2/lib/python2.7/site-packages/ipykernel_launcher.py:24: RuntimeWarning: invalid value encountered in double_scalars\n"
     ]
    },
    {
     "ename": "LinAlgError",
     "evalue": "Array must not contain infs or NaNs",
     "output_type": "error",
     "traceback": [
      "\u001b[0;31m---------------------------------------------------------------------------\u001b[0m",
      "\u001b[0;31mLinAlgError\u001b[0m                               Traceback (most recent call last)",
      "\u001b[0;32m<ipython-input-58-3a7438231605>\u001b[0m in \u001b[0;36m<module>\u001b[0;34m()\u001b[0m\n\u001b[0;32m----> 1\u001b[0;31m \u001b[0m_\u001b[0m\u001b[0;34m,\u001b[0m\u001b[0mcovEV\u001b[0m \u001b[0;34m=\u001b[0m \u001b[0mcorXY\u001b[0m\u001b[0;34m(\u001b[0m\u001b[0mdata\u001b[0m\u001b[0;34m,\u001b[0m\u001b[0;36m10\u001b[0m\u001b[0;34m,\u001b[0m\u001b[0;36m100\u001b[0m\u001b[0;34m)\u001b[0m\u001b[0;34m\u001b[0m\u001b[0m\n\u001b[0m",
      "\u001b[0;32m<ipython-input-46-f10d93e69cd0>\u001b[0m in \u001b[0;36mcorXY\u001b[0;34m(data, num_configs, num_sites, method)\u001b[0m\n\u001b[1;32m     24\u001b[0m                         \u001b[0mcov_mat\u001b[0m\u001b[0;34m[\u001b[0m\u001b[0mi1\u001b[0m\u001b[0;34m*\u001b[0m\u001b[0mnum_configs\u001b[0m\u001b[0;34m+\u001b[0m\u001b[0mj1\u001b[0m\u001b[0;34m,\u001b[0m \u001b[0mi2\u001b[0m\u001b[0;34m*\u001b[0m\u001b[0mnum_configs\u001b[0m\u001b[0;34m+\u001b[0m\u001b[0mj2\u001b[0m\u001b[0;34m]\u001b[0m \u001b[0;34m=\u001b[0m                         \u001b[0;34m(\u001b[0m\u001b[0mnp\u001b[0m\u001b[0;34m.\u001b[0m\u001b[0mfloat\u001b[0m\u001b[0;34m(\u001b[0m\u001b[0mnp\u001b[0m\u001b[0;34m.\u001b[0m\u001b[0mcount_nonzero\u001b[0m\u001b[0;34m(\u001b[0m\u001b[0mnp\u001b[0m\u001b[0;34m.\u001b[0m\u001b[0mlogical_and\u001b[0m\u001b[0;34m(\u001b[0m\u001b[0mdata\u001b[0m\u001b[0;34m[\u001b[0m\u001b[0;34m:\u001b[0m\u001b[0;34m,\u001b[0m\u001b[0mi1\u001b[0m\u001b[0;34m]\u001b[0m\u001b[0;34m==\u001b[0m\u001b[0mj1\u001b[0m\u001b[0;34m,\u001b[0m\u001b[0mdata\u001b[0m\u001b[0;34m[\u001b[0m\u001b[0;34m:\u001b[0m\u001b[0;34m,\u001b[0m\u001b[0mi2\u001b[0m\u001b[0;34m]\u001b[0m\u001b[0;34m==\u001b[0m\u001b[0mj2\u001b[0m\u001b[0;34m)\u001b[0m\u001b[0;34m)\u001b[0m\u001b[0;34m)\u001b[0m\u001b[0;34m/\u001b[0m\u001b[0;34m(\u001b[0m\u001b[0mlen\u001b[0m\u001b[0;34m(\u001b[0m\u001b[0mdata\u001b[0m\u001b[0;34m)\u001b[0m\u001b[0;34m)\u001b[0m                         \u001b[0;34m-\u001b[0m \u001b[0mnp\u001b[0m\u001b[0;34m.\u001b[0m\u001b[0mfloat\u001b[0m\u001b[0;34m(\u001b[0m\u001b[0mnp\u001b[0m\u001b[0;34m.\u001b[0m\u001b[0mcount_nonzero\u001b[0m\u001b[0;34m(\u001b[0m\u001b[0mdata\u001b[0m\u001b[0;34m[\u001b[0m\u001b[0;34m:\u001b[0m\u001b[0;34m,\u001b[0m\u001b[0mi1\u001b[0m\u001b[0;34m]\u001b[0m\u001b[0;34m==\u001b[0m\u001b[0mj1\u001b[0m\u001b[0;34m)\u001b[0m\u001b[0;34m*\u001b[0m\u001b[0mnp\u001b[0m\u001b[0;34m.\u001b[0m\u001b[0mcount_nonzero\u001b[0m\u001b[0;34m(\u001b[0m\u001b[0mdata\u001b[0m\u001b[0;34m[\u001b[0m\u001b[0;34m:\u001b[0m\u001b[0;34m,\u001b[0m\u001b[0mi2\u001b[0m\u001b[0;34m]\u001b[0m\u001b[0;34m==\u001b[0m\u001b[0mj2\u001b[0m\u001b[0;34m)\u001b[0m\u001b[0;34m)\u001b[0m\u001b[0;34m/\u001b[0m\u001b[0;34m(\u001b[0m\u001b[0mlen\u001b[0m\u001b[0;34m(\u001b[0m\u001b[0mdata\u001b[0m\u001b[0;34m)\u001b[0m\u001b[0;34m**\u001b[0m\u001b[0;36m2\u001b[0m\u001b[0;34m)\u001b[0m                        \u001b[0;34m)\u001b[0m\u001b[0;34m/\u001b[0m\u001b[0mnp\u001b[0m\u001b[0;34m.\u001b[0m\u001b[0msqrt\u001b[0m\u001b[0;34m(\u001b[0m\u001b[0mdiag_mat\u001b[0m\u001b[0;34m[\u001b[0m\u001b[0mi1\u001b[0m\u001b[0;34m*\u001b[0m\u001b[0mnum_configs\u001b[0m\u001b[0;34m+\u001b[0m\u001b[0mj1\u001b[0m\u001b[0;34m]\u001b[0m\u001b[0;34m*\u001b[0m\u001b[0mdiag_mat\u001b[0m\u001b[0;34m[\u001b[0m\u001b[0mi2\u001b[0m\u001b[0;34m*\u001b[0m\u001b[0mnum_configs\u001b[0m\u001b[0;34m+\u001b[0m\u001b[0mj2\u001b[0m\u001b[0;34m]\u001b[0m\u001b[0;34m)\u001b[0m\u001b[0;34m\u001b[0m\u001b[0m\n\u001b[1;32m     25\u001b[0m \u001b[0;34m\u001b[0m\u001b[0m\n\u001b[0;32m---> 26\u001b[0;31m     \u001b[0mEval\u001b[0m\u001b[0;34m,\u001b[0m\u001b[0mEvec\u001b[0m \u001b[0;34m=\u001b[0m \u001b[0mnp\u001b[0m\u001b[0;34m.\u001b[0m\u001b[0mlinalg\u001b[0m\u001b[0;34m.\u001b[0m\u001b[0meig\u001b[0m\u001b[0;34m(\u001b[0m\u001b[0mcov_mat\u001b[0m\u001b[0;34m)\u001b[0m\u001b[0;34m\u001b[0m\u001b[0m\n\u001b[0m\u001b[1;32m     27\u001b[0m \u001b[0;34m\u001b[0m\u001b[0m\n\u001b[1;32m     28\u001b[0m     \u001b[0;32mreturn\u001b[0m \u001b[0mcov_mat\u001b[0m\u001b[0;34m,\u001b[0m\u001b[0mEvec\u001b[0m\u001b[0;34m[\u001b[0m\u001b[0;34m:\u001b[0m\u001b[0;34m,\u001b[0m\u001b[0mnp\u001b[0m\u001b[0;34m.\u001b[0m\u001b[0margmax\u001b[0m\u001b[0;34m(\u001b[0m\u001b[0mEval\u001b[0m\u001b[0;34m)\u001b[0m\u001b[0;34m]\u001b[0m\u001b[0;34m\u001b[0m\u001b[0m\n",
      "\u001b[0;32m/users/harsh/anaconda2/lib/python2.7/site-packages/numpy/linalg/linalg.pyc\u001b[0m in \u001b[0;36meig\u001b[0;34m(a)\u001b[0m\n\u001b[1;32m   1126\u001b[0m     \u001b[0m_assertRankAtLeast2\u001b[0m\u001b[0;34m(\u001b[0m\u001b[0ma\u001b[0m\u001b[0;34m)\u001b[0m\u001b[0;34m\u001b[0m\u001b[0m\n\u001b[1;32m   1127\u001b[0m     \u001b[0m_assertNdSquareness\u001b[0m\u001b[0;34m(\u001b[0m\u001b[0ma\u001b[0m\u001b[0;34m)\u001b[0m\u001b[0;34m\u001b[0m\u001b[0m\n\u001b[0;32m-> 1128\u001b[0;31m     \u001b[0m_assertFinite\u001b[0m\u001b[0;34m(\u001b[0m\u001b[0ma\u001b[0m\u001b[0;34m)\u001b[0m\u001b[0;34m\u001b[0m\u001b[0m\n\u001b[0m\u001b[1;32m   1129\u001b[0m     \u001b[0mt\u001b[0m\u001b[0;34m,\u001b[0m \u001b[0mresult_t\u001b[0m \u001b[0;34m=\u001b[0m \u001b[0m_commonType\u001b[0m\u001b[0;34m(\u001b[0m\u001b[0ma\u001b[0m\u001b[0;34m)\u001b[0m\u001b[0;34m\u001b[0m\u001b[0m\n\u001b[1;32m   1130\u001b[0m \u001b[0;34m\u001b[0m\u001b[0m\n",
      "\u001b[0;32m/users/harsh/anaconda2/lib/python2.7/site-packages/numpy/linalg/linalg.pyc\u001b[0m in \u001b[0;36m_assertFinite\u001b[0;34m(*arrays)\u001b[0m\n\u001b[1;32m    215\u001b[0m     \u001b[0;32mfor\u001b[0m \u001b[0ma\u001b[0m \u001b[0;32min\u001b[0m \u001b[0marrays\u001b[0m\u001b[0;34m:\u001b[0m\u001b[0;34m\u001b[0m\u001b[0m\n\u001b[1;32m    216\u001b[0m         \u001b[0;32mif\u001b[0m \u001b[0;32mnot\u001b[0m \u001b[0;34m(\u001b[0m\u001b[0misfinite\u001b[0m\u001b[0;34m(\u001b[0m\u001b[0ma\u001b[0m\u001b[0;34m)\u001b[0m\u001b[0;34m.\u001b[0m\u001b[0mall\u001b[0m\u001b[0;34m(\u001b[0m\u001b[0;34m)\u001b[0m\u001b[0;34m)\u001b[0m\u001b[0;34m:\u001b[0m\u001b[0;34m\u001b[0m\u001b[0m\n\u001b[0;32m--> 217\u001b[0;31m             \u001b[0;32mraise\u001b[0m \u001b[0mLinAlgError\u001b[0m\u001b[0;34m(\u001b[0m\u001b[0;34m\"Array must not contain infs or NaNs\"\u001b[0m\u001b[0;34m)\u001b[0m\u001b[0;34m\u001b[0m\u001b[0m\n\u001b[0m\u001b[1;32m    218\u001b[0m \u001b[0;34m\u001b[0m\u001b[0m\n\u001b[1;32m    219\u001b[0m \u001b[0;32mdef\u001b[0m \u001b[0m_isEmpty2d\u001b[0m\u001b[0;34m(\u001b[0m\u001b[0marr\u001b[0m\u001b[0;34m)\u001b[0m\u001b[0;34m:\u001b[0m\u001b[0;34m\u001b[0m\u001b[0m\n",
      "\u001b[0;31mLinAlgError\u001b[0m: Array must not contain infs or NaNs"
     ]
    }
   ],
   "source": [
    "_,covEV = corXY(data,10,100)"
   ]
  },
  {
   "cell_type": "code",
   "execution_count": 59,
   "metadata": {},
   "outputs": [
    {
     "ename": "NameError",
     "evalue": "name 'covEV' is not defined",
     "output_type": "error",
     "traceback": [
      "\u001b[0;31m---------------------------------------------------------------------------\u001b[0m",
      "\u001b[0;31mNameError\u001b[0m                                 Traceback (most recent call last)",
      "\u001b[0;32m<ipython-input-59-66fea90a3245>\u001b[0m in \u001b[0;36m<module>\u001b[0;34m()\u001b[0m\n\u001b[0;32m----> 1\u001b[0;31m \u001b[0mplt\u001b[0m\u001b[0;34m.\u001b[0m\u001b[0mcontourf\u001b[0m\u001b[0;34m(\u001b[0m\u001b[0mnp\u001b[0m\u001b[0;34m.\u001b[0m\u001b[0mreshape\u001b[0m\u001b[0;34m(\u001b[0m\u001b[0mcovEV\u001b[0m\u001b[0;34m,\u001b[0m\u001b[0;34m[\u001b[0m\u001b[0;36m100\u001b[0m\u001b[0;34m,\u001b[0m\u001b[0;36m10\u001b[0m\u001b[0;34m]\u001b[0m\u001b[0;34m)\u001b[0m\u001b[0;34m)\u001b[0m\u001b[0;34m\u001b[0m\u001b[0m\n\u001b[0m",
      "\u001b[0;31mNameError\u001b[0m: name 'covEV' is not defined"
     ]
    }
   ],
   "source": [
    "plt.contourf(np.reshape(covEV,[100,10]))"
   ]
  },
  {
   "cell_type": "code",
   "execution_count": 61,
   "metadata": {},
   "outputs": [
    {
     "name": "stdout",
     "output_type": "stream",
     "text": [
      "100000\n"
     ]
    }
   ],
   "source": []
  },
  {
   "cell_type": "code",
   "execution_count": null,
   "metadata": {
    "collapsed": true
   },
   "outputs": [],
   "source": []
  }
 ],
 "metadata": {
  "kernelspec": {
   "display_name": "Python 2",
   "language": "python",
   "name": "python2"
  },
  "language_info": {
   "codemirror_mode": {
    "name": "ipython",
    "version": 2
   },
   "file_extension": ".py",
   "mimetype": "text/x-python",
   "name": "python",
   "nbconvert_exporter": "python",
   "pygments_lexer": "ipython2",
   "version": "2.7.14"
  }
 },
 "nbformat": 4,
 "nbformat_minor": 2
}
