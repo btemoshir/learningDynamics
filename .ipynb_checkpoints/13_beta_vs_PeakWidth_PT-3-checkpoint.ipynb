{
 "cells": [
  {
   "cell_type": "markdown",
   "metadata": {},
   "source": [
    "## The training set is too small and hence too noisy, decrease the number of visible units?"
   ]
  },
  {
   "cell_type": "code",
   "execution_count": 1,
   "metadata": {
    "collapsed": true
   },
   "outputs": [],
   "source": [
    "import sys\n",
    "import os\n",
    "sys.path.append('Jerome_scripts_Original/PGM/')\n",
    "sys.path.append('selfPackages/')\n",
    "sys.path.append('Jerome_scripts_Original/')\n",
    "\n",
    "import numpy as np\n",
    "import scipy as sc\n",
    "import matplotlib\n",
    "%matplotlib inline\n",
    "import matplotlib.pyplot as plt\n",
    "\n",
    "try:\n",
    "    import rbm\n",
    "    import bm\n",
    "except:\n",
    "    print 'Compiling cy_utilities first'\n",
    "    curr_dir = os.getcwd()\n",
    "    os.chdir('PGM/')\n",
    "    !python setup.py build_ext --inplace\n",
    "    print 'Compilation done'\n",
    "    os.chdir(curr_dir)\n",
    "    \n",
    "import pickle\n",
    "from ising import IsingModel\n",
    "import estimate_correlations_ising\n",
    "from sklearn.utils import shuffle\n",
    "import inlineMovies"
   ]
  },
  {
   "cell_type": "code",
   "execution_count": 65,
   "metadata": {
    "collapsed": true
   },
   "outputs": [],
   "source": [
    "import dill\n",
    "dill.dump_session('./data_bruckner/data/notebookData/13_beta_vs_PeakWidth_PT-3.db')"
   ]
  },
  {
   "cell_type": "code",
   "execution_count": null,
   "metadata": {
    "collapsed": true
   },
   "outputs": [],
   "source": [
    "import dill\n",
    "dill.load_session('./data_bruckner/data/notebookData/13_beta_vs_PeakWidth_PT-3.db')"
   ]
  },
  {
   "cell_type": "code",
   "execution_count": 2,
   "metadata": {
    "collapsed": true
   },
   "outputs": [],
   "source": [
    "def beta_from_corrLength(corrLen):\n",
    "    beta = np.tan((np.exp(-1./corrLen)))\n",
    "    return beta"
   ]
  },
  {
   "cell_type": "code",
   "execution_count": 3,
   "metadata": {},
   "outputs": [
    {
     "name": "stdout",
     "output_type": "stream",
     "text": [
      "[  1.00000000e-05   1.00000000e-04   1.00000000e-03   1.00000000e-02\n",
      "   1.00000000e-01   2.50000000e-01   5.00000000e-01   7.50000000e-01\n",
      "   1.00000000e+00   1.10000000e+00]\n"
     ]
    }
   ],
   "source": [
    "#corrLengths = np.array([0.1,0.5,1.,5,10.,20.,50,100])\n",
    "#corrLengths = np.linspace(0.01,20,10)\n",
    "#beta = np.linspace(0.00001,1.2,10)\n",
    "beta_r = np.array([10**-5,10**-4,10**-3,10**-2,10**-1,0.25,0.5,0.75,10**0,1.1])\n",
    "print beta_r"
   ]
  },
  {
   "cell_type": "code",
   "execution_count": 6,
   "metadata": {},
   "outputs": [
    {
     "name": "stdout",
     "output_type": "stream",
     "text": [
      "[  2.00000000e+01   2.20000000e+01   2.60000000e+01   3.00000000e+01\n",
      "   3.60000000e+01   4.50000000e+01   6.00000000e+01   8.90000000e+01\n",
      "   1.77000000e+02   1.00000000e+03   3.16300000e+03   1.00000000e+04\n",
      "   1.00000000e+04   3.16230000e+04   1.00000000e+05]\n"
     ]
    }
   ],
   "source": [
    "#Defining Parameters\n",
    "#Num_configs = np.ceil(10000*0.1/beta_r)\n",
    "\n",
    "#Num_configs = Num_configs[3:]\n",
    "\n",
    "Num_configs = np.sort(np.append(np.ceil(10**(np.linspace(3,5,5))),np.unique(np.round(100./(np.linspace(0.01,5,10))))))\n",
    "\n",
    "N = np.zeros(len(Num_configs)) + 20\n",
    "Nstep = np.zeros(len(Num_configs)) + 200\n",
    "print Num_configs\n",
    "\n",
    "beta = np.zeros(len(Num_configs)) + 0.2\n",
    "\n",
    "#Change the array type to int array from float array\n",
    "N = N.astype(int)\n",
    "Nstep = Nstep.astype(int)\n",
    "Num_configs = Num_configs.astype(int)"
   ]
  },
  {
   "cell_type": "code",
   "execution_count": null,
   "metadata": {
    "collapsed": true
   },
   "outputs": [],
   "source": [
    "%%capture captX\n",
    "\n",
    "Xdata_big    = []\n",
    "Xresults_big = []\n",
    "\n",
    "XBM      = []\n",
    "Xdata    = []\n",
    "Xresults = []\n",
    "XRBM     = []\n",
    "\n",
    "Num_reps = 1\n",
    "\n",
    "for j in range(Num_reps):\n",
    "    \n",
    "    Xdata_big.append(Xdata)\n",
    "    Xresults_big.append(Xresults)\n",
    "    \n",
    "    XBM      = []\n",
    "    Xdata    = []\n",
    "    Xresults = []\n",
    "    XRBM     = []\n",
    "    \n",
    "    for i in np.arange(len(beta)):\n",
    "        #Generate spins using Gibbs Sampling MCMC\n",
    "        XBM.append(bm.BM(N=N[i],nature='Spin'))\n",
    "\n",
    "        #Define Couplings\n",
    "        XBM[i].layer.couplings =  beta[i]*(np.eye(N=N[i],k=1) + np.eye(N=N[i],k=-1) )\n",
    "        XBM[i].layer.couplings[0,-1] += beta[i]\n",
    "        XBM[i].layer.couplings[-1,0] += beta[i]\n",
    "\n",
    "        #Generating the ising model data\n",
    "        Xdata.append(XBM[i].gen_data(Nchains=1,Nthermalize=0,Lchains=Num_configs[i],Nstep=Nstep[i])) # N steps.\n",
    "\n",
    "        #Train the model\n",
    "        XRBM.append(rbm.RBM(visible = 'Spin', n_v=N[i], n_h = 1, hidden = 'Spin',zero_field = True))\n",
    "        Xresults.append(XRBM[i].fit(Xdata[i],n_iter=250,verbose=0,learning_rate = 0.001,record=['W'],record_interval=100,batch_size=10,N_MC= 20, lr_decay=False,batch_norm=False))"
   ]
  },
  {
   "cell_type": "code",
   "execution_count": 39,
   "metadata": {
    "collapsed": true
   },
   "outputs": [],
   "source": [
    "#del Xdata_big[0]\n",
    "#del Xresults_big[0]\n",
    "#Xdata_big.append(Xdata)\n",
    "#Xresults_big.append(Xresults)"
   ]
  },
  {
   "cell_type": "code",
   "execution_count": 8,
   "metadata": {
    "collapsed": true
   },
   "outputs": [],
   "source": [
    "weights_sum = np.zeros(len(beta))\n",
    "for i in np.arange(len(beta)):\n",
    "        weights_sum[i] = np.sum(np.array(Xresults[i]['W'])[-1,0,:])"
   ]
  },
  {
   "cell_type": "code",
   "execution_count": 43,
   "metadata": {
    "collapsed": true
   },
   "outputs": [],
   "source": [
    "weights_sum_big = np.zeros([Num_reps,len(beta)])\n",
    "for j in range(Num_reps):    \n",
    "    for i in np.arange(len(beta)):\n",
    "        weights_sum_big[j,i] = np.sum(np.array(Xresults_big[j][i]['W'])[-1,0,:])"
   ]
  },
  {
   "cell_type": "markdown",
   "metadata": {},
   "source": [
    "## Sum of Weights as order parameter?"
   ]
  },
  {
   "cell_type": "code",
   "execution_count": 19,
   "metadata": {},
   "outputs": [
    {
     "data": {
      "text/plain": [
       "Text(0.5,1,u'\"Sum of Weights\" order parameter with beta = 0.2')"
      ]
     },
     "execution_count": 19,
     "metadata": {},
     "output_type": "execute_result"
    },
    {
     "data": {
      "image/png": "[encoded data removed]",
      "text/plain": [
       "<matplotlib.figure.Figure at 0x7f4933d94b90>"
      ]
     },
     "metadata": {},
     "output_type": "display_data"
    }
   ],
   "source": [
    "plt.figure(figsize=(10,5))\n",
    "#plt.errorbar(float(N[0])/Num_configs,np.mean(abs(weights_sum_big),axis=0),\\\n",
    "#             yerr=np.std(abs(weights_sum_big),axis=0),xlolims=0,fmt='o',ecolor='g')\n",
    "plt.scatter((float(N[0])/Num_configs),abs(weights_sum))\n",
    "#plt.xscale('log')\n",
    "plt.xlabel('N/S on linear scale')\n",
    "plt.ylabel('Absolute value of Sum of Weights')\n",
    "plt.title('\"Sum of Weights\" order parameter with beta = 0.2')"
   ]
  },
  {
   "cell_type": "code",
   "execution_count": 24,
   "metadata": {},
   "outputs": [
    {
     "data": {
      "text/plain": [
       "Text(0.5,1,u'\"Sum of Weights\" order parameter with beta = 0.2')"
      ]
     },
     "execution_count": 24,
     "metadata": {},
     "output_type": "execute_result"
    },
    {
     "data": {
      "image/png": "[encoded data removed]",
      "text/plain": [
       "<matplotlib.figure.Figure at 0x7f493398ed50>"
      ]
     },
     "metadata": {},
     "output_type": "display_data"
    }
   ],
   "source": [
    "plt.figure(figsize=(10,5))\n",
    "#plt.errorbar(float(N[0])/Num_configs,np.mean(abs(weights_sum_big),axis=0),\\\n",
    "#             yerr=np.std(abs(weights_sum_big),axis=0),xlolims=0,fmt='o',ecolor='g')\n",
    "plt.scatter((float(N[0])/Num_configs),abs(weights_sum))\n",
    "plt.xscale('log')\n",
    "plt.xlim(0.001,1)\n",
    "plt.xlabel('N/S on log scale')\n",
    "plt.ylabel('Absolute value of Sum of Weights')\n",
    "plt.title('\"Sum of Weights\" order parameter with beta = 0.2')"
   ]
  },
  {
   "cell_type": "markdown",
   "metadata": {},
   "source": [
    "## Calculate Overlap(dot product) of the weights with the top Eigenvector - is that the order parameter?"
   ]
  },
  {
   "cell_type": "code",
   "execution_count": 25,
   "metadata": {
    "collapsed": true
   },
   "outputs": [],
   "source": [
    "# Top Eignvectors of the C_ij matrix:\n",
    "def topEV(data,method='Covariance'):\n",
    "    if method is 'Covariance':\n",
    "        #Find the covariance matrix:\n",
    "        covMAT = np.cov(data)\n",
    "    elif method is 'Correlation':\n",
    "        covMAT = np.corrcoef(data)\n",
    "    Eval,Evec = np.linalg.eig(covMAT)\n",
    "    return Evec[:,np.argmax(Eval)],np.max(Eval)"
   ]
  },
  {
   "cell_type": "code",
   "execution_count": 53,
   "metadata": {},
   "outputs": [
    {
     "name": "stderr",
     "output_type": "stream",
     "text": [
      "/users/harsh/anaconda2/lib/python2.7/site-packages/ipykernel_launcher.py:7: ComplexWarning: Casting complex values to real discards the imaginary part\n",
      "  import sys\n"
     ]
    }
   ],
   "source": [
    "weights_overlap = np.zeros([Num_reps,len(beta)])\n",
    "mat_topEval_corr = np.zeros([Num_reps,len(beta)])\n",
    "mat_topEV_corr = np.zeros([Num_reps,len(beta),N[0]])\n",
    "\n",
    "for j in range(Num_reps):    \n",
    "    for i in np.arange(len(beta)):\n",
    "        mat_topEV_corr[j,i,:],mat_topEval_corr[j,i] = topEV(Xdata_big[j][i].T,method='Correlation')\n",
    "        weights_overlap[j,i] = np.dot(mat_topEV_corr[j,i,:],(np.array(Xresults_big[j][i]['W'])[-1,0,:]))"
   ]
  },
  {
   "cell_type": "code",
   "execution_count": 26,
   "metadata": {
    "collapsed": true
   },
   "outputs": [],
   "source": [
    "weights_overlap = np.zeros([len(beta)])\n",
    "mat_topEval_corr = np.zeros([len(beta)])\n",
    "mat_topEV_corr = np.zeros([len(beta),N[0]])\n",
    "\n",
    "for i in np.arange(len(beta)):\n",
    "    mat_topEV_corr[i,:],mat_topEval_corr[i] = topEV(Xdata[i].T,method='Correlation')\n",
    "    weights_overlap[i] = np.dot(mat_topEV_corr[i,:],(np.array(Xresults[i]['W'])[-1,0,:]))"
   ]
  },
  {
   "cell_type": "code",
   "execution_count": 30,
   "metadata": {},
   "outputs": [
    {
     "data": {
      "text/plain": [
       "Text(0.5,1,u'\"Overlap of Top Eignevector with Weights\" order parameter with beta = 0.2')"
      ]
     },
     "execution_count": 30,
     "metadata": {},
     "output_type": "execute_result"
    },
    {
     "data": {
      "image/png": "[encoded data removed]",
      "text/plain": [
       "<matplotlib.figure.Figure at 0x7f4932a4e510>"
      ]
     },
     "metadata": {},
     "output_type": "display_data"
    }
   ],
   "source": [
    "plt.figure(figsize=(10,5))\n",
    "#plt.errorbar((float(N[0])/Num_configs),(np.mean(abs(weights_overlap),axis=0)),yerr=np.std(abs(weights_overlap),axis=0),xlolims=0,fmt='o',ecolor='g')\n",
    "plt.scatter((float(N[0])/Num_configs),abs(weights_overlap))\n",
    "#plt.xscale('log')\n",
    "plt.xlabel('N/S on linear scale')\n",
    "plt.ylabel('Absolute value of Overlap of Top Eignevector with Weights')\n",
    "plt.title('\"Overlap of Top Eignevector with Weights\" order parameter with beta = 0.2')"
   ]
  },
  {
   "cell_type": "code",
   "execution_count": 32,
   "metadata": {},
   "outputs": [
    {
     "data": {
      "text/plain": [
       "Text(0.5,1,u'\"Overlap of Top Eignevector with Weights\" order parameter with beta = 0.2')"
      ]
     },
     "execution_count": 32,
     "metadata": {},
     "output_type": "execute_result"
    },
    {
     "data": {
      "image/png": "[encoded data removed]",
      "text/plain": [
       "<matplotlib.figure.Figure at 0x7f49327fed90>"
      ]
     },
     "metadata": {},
     "output_type": "display_data"
    }
   ],
   "source": [
    "plt.figure(figsize=(10,5))\n",
    "#plt.errorbar((float(N[0])/Num_configs),(np.mean(abs(weights_overlap),axis=0)),yerr=np.std(abs(weights_overlap),axis=0),xlolims=0,fmt='o',ecolor='g')\n",
    "plt.scatter((float(N[0])/Num_configs),abs(weights_overlap))\n",
    "plt.xscale('log')\n",
    "plt.xlim(0.001,1)\n",
    "plt.xlabel('N/S on log scale')\n",
    "plt.ylabel('Absolute value of Overlap of Top Eignevector with Weights')\n",
    "plt.title('\"Overlap of Top Eignevector with Weights\" order parameter with beta = 0.2')"
   ]
  },
  {
   "cell_type": "code",
   "execution_count": null,
   "metadata": {
    "collapsed": true
   },
   "outputs": [],
   "source": []
  },
  {
   "cell_type": "code",
   "execution_count": null,
   "metadata": {
    "collapsed": true
   },
   "outputs": [],
   "source": []
  }
 ],
 "metadata": {
  "kernelspec": {
   "display_name": "Python 2",
   "language": "python",
   "name": "python2"
  },
  "language_info": {
   "codemirror_mode": {
    "name": "ipython",
    "version": 2
   },
   "file_extension": ".py",
   "mimetype": "text/x-python",
   "name": "python",
   "nbconvert_exporter": "python",
   "pygments_lexer": "ipython2",
   "version": "2.7.14"
  }
 },
 "nbformat": 4,
 "nbformat_minor": 2
}
