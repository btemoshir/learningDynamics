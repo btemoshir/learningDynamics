{
 "cells": [
  {
   "cell_type": "code",
   "execution_count": 1,
   "metadata": {
    "collapsed": true
   },
   "outputs": [],
   "source": [
    "import sys\n",
    "import os\n",
    "sys.path.append('Jerome_scripts_Original/PGM/')\n",
    "sys.path.append('selfPackages/')\n",
    "sys.path.append('Jerome_scripts_Original/')\n",
    "\n",
    "import numpy as np\n",
    "import scipy as sc\n",
    "import matplotlib\n",
    "%matplotlib inline\n",
    "import matplotlib.pyplot as plt\n",
    "\n",
    "try:\n",
    "    import rbm\n",
    "    import bm\n",
    "except:\n",
    "    print 'Compiling cy_utilities first'\n",
    "    curr_dir = os.getcwd()\n",
    "    os.chdir('PGM/')\n",
    "    !python setup.py build_ext --inplace\n",
    "    print 'Compilation done'\n",
    "    os.chdir(curr_dir)\n",
    "    \n",
    "import pickle\n",
    "from ising import IsingModel\n",
    "import estimate_correlations_ising\n",
    "from sklearn.utils import shuffle\n",
    "import inlineMovies"
   ]
  },
  {
   "cell_type": "code",
   "execution_count": 51,
   "metadata": {
    "collapsed": true
   },
   "outputs": [],
   "source": [
    "import dill\n",
    "dill.dump_session('./data_bruckner/data/notebookData/6_width_vs_CorrLength_vs_SystemSize-2')"
   ]
  },
  {
   "cell_type": "code",
   "execution_count": 3,
   "metadata": {
    "collapsed": true
   },
   "outputs": [],
   "source": [
    "import dill\n",
    "dill.load_session('./data_bruckner/data/notebookData/6_width_vs_CorrLength_vs_SystemSize-2')"
   ]
  },
  {
   "cell_type": "code",
   "execution_count": 2,
   "metadata": {
    "collapsed": true
   },
   "outputs": [],
   "source": [
    "def beta_from_corrLength(corrLen):\n",
    "    beta = np.tan((np.exp(-1./corrLen)))\n",
    "    return beta"
   ]
  },
  {
   "cell_type": "code",
   "execution_count": 3,
   "metadata": {},
   "outputs": [
    {
     "name": "stdout",
     "output_type": "stream",
     "text": [
      "[ 0.79277524  0.91459105  1.00246242  1.06899036  1.12117036  1.16322041\n",
      "  1.19784354  1.22685533  1.25152201  1.27275433]\n",
      "[  2.5          3.33333333   4.16666667   5.           5.83333333\n",
      "   6.66666667   7.5          8.33333333   9.16666667  10.        ]\n"
     ]
    }
   ],
   "source": [
    "#corrLengths = np.array([0.1,0.5,1.,5,10.,20.,50,100])\n",
    "corrLengths = np.linspace(2.5,10,10)\n",
    "#corrLengths = np.array([1,1.5,2,2.5,3])\n",
    "beta = beta_from_corrLength(corrLengths)\n",
    "print beta\n",
    "print corrLengths"
   ]
  },
  {
   "cell_type": "code",
   "execution_count": 4,
   "metadata": {},
   "outputs": [
    {
     "name": "stdout",
     "output_type": "stream",
     "text": [
      "[  40.   44.   49.   56.   64.   74.   88.  108.  140.  194.]\n"
     ]
    }
   ],
   "source": [
    "#Defining Parameters\n",
    "Num_configs = 10000\n",
    "Nstep       = beta*1000/1.5 #The number of Markov Chain steps for no correlation in the input data. This number was dec\n",
    "                            # by checking the numebr of steps required for highest beta value which is 1000, which we scale further down.\n",
    "#N           = corrLengths*30 #The 30 factor was obtained by previous simulations where the system performed well with this sytems size\n",
    "\n",
    "#N = np.linspace(45,315,10)\n",
    "\n",
    "N = -np.ceil((max(corrLengths))/np.log(np.linspace(0.78,0.95,10)))\n",
    "\n",
    "print N\n",
    "\n",
    "#for i in np.arange(len(N)):\n",
    "   # N[i] = np.int(max(30,np.int(N[i]))) # We fix the minimum number of spins to 30\n",
    "\n",
    "#Change the array type to int array from float array\n",
    "N = N.astype(int)\n",
    "Nstep = Nstep.astype(int)"
   ]
  },
  {
   "cell_type": "code",
   "execution_count": 5,
   "metadata": {},
   "outputs": [
    {
     "name": "stdout",
     "output_type": "stream",
     "text": [
      "10.0619267602\n",
      "40.2477070408\n",
      "48.7393143656\n",
      "194.957257462\n"
     ]
    }
   ],
   "source": [
    "print -2.5/np.log(0.78)\n",
    "print -10/np.log(0.78)\n",
    "print -2.5/np.log(0.95)\n",
    "print -10/np.log(0.95)"
   ]
  },
  {
   "cell_type": "code",
   "execution_count": null,
   "metadata": {
    "collapsed": true
   },
   "outputs": [],
   "source": [
    "%%capture captX\n",
    "\n",
    "Xdata_big    = []\n",
    "Xresults_big = []\n",
    "\n",
    "Xdata_mid    = []\n",
    "Xresults_mid = []\n",
    "\n",
    "XBM      = []\n",
    "Xdata    = []\n",
    "Xresults = []\n",
    "XRBM     = []\n",
    "\n",
    "Num_reps = 5\n",
    "\n",
    "for k in range(Num_reps):\n",
    "    \n",
    "    Xdata_big.append(Xdata_mid)\n",
    "    Xresults_big.append(Xresults_mid)\n",
    "    \n",
    "    Xdata_mid = []\n",
    "    Xresults_mid = []\n",
    "    \n",
    "    for j in np.arange(len(N)):\n",
    "        \n",
    "        Xdata_mid.append(Xdata)\n",
    "        Xresults_mid.append(Xresults)\n",
    "\n",
    "        XBM      = []\n",
    "        Xdata    = []\n",
    "        Xresults = []\n",
    "        XRBM     = []\n",
    "        \n",
    "        for i in np.arange(len(beta)):\n",
    "            #Generate spins using Gibbs Sampling MCMC\n",
    "            XBM.append(bm.BM(N=N[j],nature='Spin'))\n",
    "\n",
    "            #Define Couplings\n",
    "            XBM[i].layer.couplings =  beta[i]*(np.eye(N=N[j],k=1) + np.eye(N=N[j],k=-1) )\n",
    "            XBM[i].layer.couplings[0,-1] += beta[i]\n",
    "            XBM[i].layer.couplings[-1,0] += beta[i]\n",
    "\n",
    "            #Generating the ising model data\n",
    "            Xdata.append(XBM[i].gen_data(Nchains=1,Nthermalize=0,Lchains=Num_configs,Nstep=Nstep[i])) # N steps.\n",
    "\n",
    "            #Train the model\n",
    "            XRBM.append(rbm.RBM(visible = 'Spin', n_v=N[j], n_h = 1, hidden = 'Spin',zero_field = True))\n",
    "            Xresults.append(XRBM[i].fit(Xdata[i],n_iter=250,verbose=0,learning_rate = 0.001,record=['W'],record_interval=100,batch_size=10,N_MC= 20, lr_decay=False,batch_norm=False))\n",
    "            \n",
    "    #del Xdata_mid[0]\n",
    "    #del Xresults_mid[0]\n",
    "\n",
    "#del Xdata_big[0]\n",
    "#del Xresults_big[0]"
   ]
  },
  {
   "cell_type": "code",
   "execution_count": 15,
   "metadata": {
    "collapsed": true
   },
   "outputs": [],
   "source": [
    "#del Xresults_big[0]\n",
    "#del Xdata_big[0]\n",
    "#Xresults_big.append(Xresults_mid)\n",
    "#Xdata_big.append(Xdata_mid)"
   ]
  },
  {
   "cell_type": "code",
   "execution_count": 39,
   "metadata": {},
   "outputs": [
    {
     "name": "stdout",
     "output_type": "stream",
     "text": [
      "10\n"
     ]
    }
   ],
   "source": [
    "print len(Xresults_big[0][0])"
   ]
  },
  {
   "cell_type": "code",
   "execution_count": 54,
   "metadata": {
    "collapsed": true
   },
   "outputs": [],
   "source": [
    "#Calculating the average peak Width and the STDV in the width\n",
    "import peakWidth\n",
    "\n",
    "corrLen_over_N = []\n",
    "PW_over_corrLen = []\n",
    "PW_over_corrLen_error = []\n",
    "\n",
    "t1 = np.zeros(Num_reps)\n",
    "PW_avg = np.zeros((len(N),len(beta))) \n",
    "PW_std = np.zeros((len(N),len(beta)))\n",
    "\n",
    "for j in range(len(N)):\n",
    "    for i in range(len(beta)):\n",
    "        for k in range(1,Num_reps):\n",
    "            t1[k] = np.array(peakWidth.peakWidth(np.array(Xresults_big[k][j][i]['W'])[-1,0,:],plot=False))\n",
    "        PW_avg[j,i] = np.mean(t1[1:])\n",
    "        PW_std[j,i] = np.std(t1[1:])\n",
    "        corrLen_over_N.append(corrLengths[i]/N[j])\n",
    "        PW_over_corrLen.append(PW_avg[j,i]/corrLengths[i])\n",
    "        PW_over_corrLen_error.append(PW_std[j,i]/corrLengths[i])"
   ]
  },
  {
   "cell_type": "code",
   "execution_count": 55,
   "metadata": {},
   "outputs": [
    {
     "data": {
      "text/plain": [
       "<Container object of 3 artists>"
      ]
     },
     "execution_count": 55,
     "metadata": {},
     "output_type": "execute_result"
    },
    {
     "data": {
      "image/png": "[encoded data removed]",
      "text/plain": [
       "<matplotlib.figure.Figure at 0x7f34a8ce0c90>"
      ]
     },
     "metadata": {},
     "output_type": "display_data"
    }
   ],
   "source": [
    "plt.errorbar(np.exp(-np.array(corrLen_over_N)),np.array(PW_over_corrLen),yerr=np.array(PW_over_corrLen_error),fmt='.',ecolor='g')"
   ]
  },
  {
   "cell_type": "code",
   "execution_count": 56,
   "metadata": {},
   "outputs": [
    {
     "data": {
      "text/plain": [
       "<matplotlib.collections.PathCollection at 0x7f34a8a92810>"
      ]
     },
     "execution_count": 56,
     "metadata": {},
     "output_type": "execute_result"
    },
    {
     "data": {
      "image/png": "[encoded data removed]",
      "text/plain": [
       "<matplotlib.figure.Figure at 0x7f34a8ab6ad0>"
      ]
     },
     "metadata": {},
     "output_type": "display_data"
    }
   ],
   "source": [
    "plt.figure\n",
    "plt.scatter(np.exp(-np.array(corrLen_over_N)),np.array(PW_over_corrLen))"
   ]
  },
  {
   "cell_type": "code",
   "execution_count": 59,
   "metadata": {},
   "outputs": [
    {
     "data": {
      "text/plain": [
       "<matplotlib.collections.PathCollection at 0x7f34a8956e10>"
      ]
     },
     "execution_count": 59,
     "metadata": {},
     "output_type": "execute_result"
    },
    {
     "data": {
      "image/png": "[encoded data removed]",
      "text/plain": [
       "<matplotlib.figure.Figure at 0x7f34a898d690>"
      ]
     },
     "metadata": {},
     "output_type": "display_data"
    }
   ],
   "source": [
    "plt.scatter(np.array(PW_over_corrLen),np.exp(-np.array(corrLen_over_N)))"
   ]
  },
  {
   "cell_type": "markdown",
   "metadata": {
    "collapsed": true
   },
   "source": [
    "## Instead of peak Width - what about the absolute value of the sum of weights?"
   ]
  },
  {
   "cell_type": "code",
   "execution_count": 60,
   "metadata": {
    "collapsed": true
   },
   "outputs": [],
   "source": [
    "sum_weights_over_corrLen = []\n",
    "sum_weights_over_corrLen_error = []\n",
    "\n",
    "t1 = np.zeros(Num_reps)\n",
    "sum_weights_avg = np.zeros((len(N),len(beta))) \n",
    "sum_weights_std = np.zeros((len(N),len(beta)))\n",
    "\n",
    "for j in range(len(N)):\n",
    "    for i in range(len(beta)):\n",
    "        for k in range(1,Num_reps):\n",
    "            t1[k] = abs(np.sum(np.array(Xresults_big[k][j][i]['W'])[-1,0,:]))\n",
    "        sum_weights_avg[j,i] = np.mean(t1[1:])\n",
    "        sum_weights_std[j,i] = np.std(t1[1:])\n",
    "        sum_weights_over_corrLen.append(sum_weights_avg[j,i]/corrLengths[i])\n",
    "        sum_weights_over_corrLen_error.append(sum_weights_std[j,i]/corrLengths[i])"
   ]
  },
  {
   "cell_type": "code",
   "execution_count": null,
   "metadata": {
    "collapsed": true
   },
   "outputs": [],
   "source": [
    "plt.errorbar(np.exp(-np.array(corrLen_over_N)),np.array(sum_weights_over_corrLen),yerr=np.array(sum_weights_over_corrLen_error),fmt='.',ecolor='g')"
   ]
  },
  {
   "cell_type": "code",
   "execution_count": null,
   "metadata": {
    "collapsed": true
   },
   "outputs": [],
   "source": []
  }
 ],
 "metadata": {
  "kernelspec": {
   "display_name": "Python 2",
   "language": "python",
   "name": "python2"
  },
  "language_info": {
   "codemirror_mode": {
    "name": "ipython",
    "version": 2
   },
   "file_extension": ".py",
   "mimetype": "text/x-python",
   "name": "python",
   "nbconvert_exporter": "python",
   "pygments_lexer": "ipython2",
   "version": "2.7.14"
  }
 },
 "nbformat": 4,
 "nbformat_minor": 2
}
