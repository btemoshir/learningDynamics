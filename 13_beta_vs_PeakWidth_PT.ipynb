{
 "cells": [
  {
   "cell_type": "markdown",
   "metadata": {},
   "source": [
    "# Train on differnet beta values and check if there is a phase transition."
   ]
  },
  {
   "cell_type": "code",
   "execution_count": 1,
   "metadata": {
    "collapsed": true
   },
   "outputs": [],
   "source": [
    "import sys\n",
    "import os\n",
    "sys.path.append('Jerome_scripts_Original/PGM/')\n",
    "sys.path.append('selfPackages/')\n",
    "sys.path.append('Jerome_scripts_Original/')\n",
    "\n",
    "import numpy as np\n",
    "import scipy as sc\n",
    "import matplotlib\n",
    "%matplotlib inline\n",
    "import matplotlib.pyplot as plt\n",
    "\n",
    "try:\n",
    "    import rbm\n",
    "    import bm\n",
    "except:\n",
    "    print 'Compiling cy_utilities first'\n",
    "    curr_dir = os.getcwd()\n",
    "    os.chdir('PGM/')\n",
    "    !python setup.py build_ext --inplace\n",
    "    print 'Compilation done'\n",
    "    os.chdir(curr_dir)\n",
    "    \n",
    "import pickle\n",
    "from ising import IsingModel\n",
    "import estimate_correlations_ising\n",
    "from sklearn.utils import shuffle\n",
    "import inlineMovies"
   ]
  },
  {
   "cell_type": "code",
   "execution_count": 113,
   "metadata": {
    "collapsed": true
   },
   "outputs": [],
   "source": [
    "#import dill\n",
    "#dill.dump_session('./data_bruckner/data/notebookData/13_beta_vs_PeakWidth_PT.db')"
   ]
  },
  {
   "cell_type": "code",
   "execution_count": null,
   "metadata": {
    "collapsed": true
   },
   "outputs": [],
   "source": [
    "#import dill\n",
    "#dill.load_session('./data_bruckner/data/notebookData/13_beta_vs_PeakWidth_PT.db')"
   ]
  },
  {
   "cell_type": "code",
   "execution_count": 4,
   "metadata": {
    "collapsed": true
   },
   "outputs": [],
   "source": [
    "def beta_from_corrLength(corrLen):\n",
    "    beta = np.tan((np.exp(-1./corrLen)))\n",
    "    return beta"
   ]
  },
  {
   "cell_type": "code",
   "execution_count": 5,
   "metadata": {},
   "outputs": [
    {
     "name": "stdout",
     "output_type": "stream",
     "text": [
      "[  1.00000000e-05   1.00000000e-04   1.00000000e-03   1.00000000e-02\n",
      "   1.00000000e-01   2.50000000e-01   5.00000000e-01   7.50000000e-01\n",
      "   1.00000000e+00   1.10000000e+00]\n"
     ]
    },
    {
     "ename": "NameError",
     "evalue": "name 'corrLengths' is not defined",
     "output_type": "error",
     "traceback": [
      "\u001b[0;31m---------------------------------------------------------------------------\u001b[0m",
      "\u001b[0;31mNameError\u001b[0m                                 Traceback (most recent call last)",
      "\u001b[0;32m<ipython-input-5-cf23118b2311>\u001b[0m in \u001b[0;36m<module>\u001b[0;34m()\u001b[0m\n\u001b[1;32m      4\u001b[0m \u001b[0mbeta\u001b[0m \u001b[0;34m=\u001b[0m \u001b[0mnp\u001b[0m\u001b[0;34m.\u001b[0m\u001b[0marray\u001b[0m\u001b[0;34m(\u001b[0m\u001b[0;34m[\u001b[0m\u001b[0;36m10\u001b[0m\u001b[0;34m**\u001b[0m\u001b[0;34m-\u001b[0m\u001b[0;36m5\u001b[0m\u001b[0;34m,\u001b[0m\u001b[0;36m10\u001b[0m\u001b[0;34m**\u001b[0m\u001b[0;34m-\u001b[0m\u001b[0;36m4\u001b[0m\u001b[0;34m,\u001b[0m\u001b[0;36m10\u001b[0m\u001b[0;34m**\u001b[0m\u001b[0;34m-\u001b[0m\u001b[0;36m3\u001b[0m\u001b[0;34m,\u001b[0m\u001b[0;36m10\u001b[0m\u001b[0;34m**\u001b[0m\u001b[0;34m-\u001b[0m\u001b[0;36m2\u001b[0m\u001b[0;34m,\u001b[0m\u001b[0;36m10\u001b[0m\u001b[0;34m**\u001b[0m\u001b[0;34m-\u001b[0m\u001b[0;36m1\u001b[0m\u001b[0;34m,\u001b[0m\u001b[0;36m0.25\u001b[0m\u001b[0;34m,\u001b[0m\u001b[0;36m0.5\u001b[0m\u001b[0;34m,\u001b[0m\u001b[0;36m0.75\u001b[0m\u001b[0;34m,\u001b[0m\u001b[0;36m10\u001b[0m\u001b[0;34m**\u001b[0m\u001b[0;36m0\u001b[0m\u001b[0;34m,\u001b[0m\u001b[0;36m1.1\u001b[0m\u001b[0;34m]\u001b[0m\u001b[0;34m)\u001b[0m\u001b[0;34m\u001b[0m\u001b[0m\n\u001b[1;32m      5\u001b[0m \u001b[0;32mprint\u001b[0m \u001b[0mbeta\u001b[0m\u001b[0;34m\u001b[0m\u001b[0m\n\u001b[0;32m----> 6\u001b[0;31m \u001b[0;32mprint\u001b[0m \u001b[0mcorrLengths\u001b[0m\u001b[0;34m\u001b[0m\u001b[0m\n\u001b[0m",
      "\u001b[0;31mNameError\u001b[0m: name 'corrLengths' is not defined"
     ]
    }
   ],
   "source": [
    "#corrLengths = np.array([0.1,0.5,1.,5,10.,20.,50,100])\n",
    "#corrLengths = np.linspace(0.01,20,10)\n",
    "#beta = np.linspace(0.00001,1.2,10)\n",
    "beta = np.array([10**-5,10**-4,10**-3,10**-2,10**-1,0.25,0.5,0.75,10**0,1.1])\n",
    "print beta\n",
    "print corrLengths"
   ]
  },
  {
   "cell_type": "code",
   "execution_count": 6,
   "metadata": {},
   "outputs": [
    {
     "name": "stdout",
     "output_type": "stream",
     "text": [
      "[ 100.  100.  100.  100.  100.  100.  100.  100.  100.  100.]\n"
     ]
    }
   ],
   "source": [
    "#Defining Parameters\n",
    "Num_configs = 10000\n",
    "#Nstep       = beta*1000/1.5 #The number of Markov Chain steps for no correlation in the input data. This number was dec\n",
    "                            # by checking the numebr of steps required for highest beta value which is 1000, which we scale further down.\n",
    "N = np.zeros(len(beta)) + 100\n",
    "Nstep = np.zeros(len(beta)) + 200\n",
    "print N\n",
    "\n",
    "#Change the array type to int array from float array\n",
    "N = N.astype(int)\n",
    "Nstep = Nstep.astype(int)"
   ]
  },
  {
   "cell_type": "code",
   "execution_count": null,
   "metadata": {
    "collapsed": true
   },
   "outputs": [],
   "source": [
    "%%capture captX\n",
    "\n",
    "Xdata_big    = []\n",
    "Xresults_big = []\n",
    "\n",
    "XBM      = []\n",
    "Xdata    = []\n",
    "Xresults = []\n",
    "XRBM     = []\n",
    "\n",
    "Num_reps = 10\n",
    "\n",
    "for j in range(Num_reps):\n",
    "    \n",
    "    Xdata_big.append(Xdata)\n",
    "    Xresults_big.append(Xresults)\n",
    "    \n",
    "    XBM      = []\n",
    "    Xdata    = []\n",
    "    Xresults = []\n",
    "    XRBM     = []\n",
    "    \n",
    "    for i in np.arange(len(beta)):\n",
    "        #Generate spins using Gibbs Sampling MCMC\n",
    "        XBM.append(bm.BM(N=N[i],nature='Spin'))\n",
    "\n",
    "        #Define Couplings\n",
    "        XBM[i].layer.couplings =  beta[i]*(np.eye(N=N[i],k=1) + np.eye(N=N[i],k=-1) )\n",
    "        XBM[i].layer.couplings[0,-1] += beta[i]\n",
    "        XBM[i].layer.couplings[-1,0] += beta[i]\n",
    "\n",
    "        #Generating the ising model data\n",
    "        Xdata.append(XBM[i].gen_data(Nchains=1,Nthermalize=0,Lchains=Num_configs,Nstep=Nstep[i])) # N steps.\n",
    "\n",
    "        #Train the model\n",
    "        XRBM.append(rbm.RBM(visible = 'Spin', n_v=N[i], n_h = 1, hidden = 'Spin',zero_field = True))\n",
    "        Xresults.append(XRBM[i].fit(Xdata[i],n_iter=250,verbose=0,learning_rate = 0.001,record=['W'],record_interval=100,batch_size=10,N_MC= 20, lr_decay=False,batch_norm=False))"
   ]
  },
  {
   "cell_type": "code",
   "execution_count": 92,
   "metadata": {
    "collapsed": true
   },
   "outputs": [],
   "source": [
    "#del Xdata_big[0]\n",
    "#del Xresults_big[0]\n",
    "Xdata_big.append(Xdata)\n",
    "Xresults_big.append(Xresults)"
   ]
  },
  {
   "cell_type": "code",
   "execution_count": null,
   "metadata": {
    "collapsed": true
   },
   "outputs": [],
   "source": [
    "# Top Eignvectors of the C_ij matrix:\n",
    "def topEV(data):\n",
    "    #Find the covariance matrix:\n",
    "    covMAT = np.cov(data)\n",
    "    Eval,Evec = np.linalg.eig(covMAT)\n",
    "    return Evec(:,argmax(Eval))"
   ]
  },
  {
   "cell_type": "markdown",
   "metadata": {},
   "source": [
    "### Calculate Sum of Weights, if that is the order parameter?"
   ]
  },
  {
   "cell_type": "code",
   "execution_count": 75,
   "metadata": {
    "collapsed": true
   },
   "outputs": [],
   "source": [
    "weights_sum = np.zeros([Num_reps,len(beta)])\n",
    "for j in range(Num_reps-1):    \n",
    "    for i in np.arange(len(beta)):\n",
    "        weights_sum[j,i] = np.sum(np.array(Xresults_big[j][i]['W'])[-1,0,:])"
   ]
  },
  {
   "cell_type": "code",
   "execution_count": 100,
   "metadata": {},
   "outputs": [
    {
     "data": {
      "text/plain": [
       "Text(0.5,1,u'\"Sum of Weights\" order parameter with N/S = 0.01')"
      ]
     },
     "execution_count": 100,
     "metadata": {},
     "output_type": "execute_result"
    },
    {
     "data": {
      "image/png": "[encoded data removed]",
      "text/plain": [
       "<matplotlib.figure.Figure at 0x7f5120ca9690>"
      ]
     },
     "metadata": {},
     "output_type": "display_data"
    }
   ],
   "source": [
    "plt.figure(figsize=(10,5))\n",
    "plt.errorbar((beta),(np.mean(abs(weights_sum),axis=0)),yerr=np.std(abs(weights_sum),axis=0),xlolims=0,fmt='o',ecolor='g')\n",
    "plt.xscale('log')\n",
    "plt.xlabel('beta on log scale')\n",
    "plt.ylabel('Absolute value of Sum of Weights')\n",
    "plt.title('\"Sum of Weights\" order parameter with N/S = 0.01')"
   ]
  },
  {
   "cell_type": "code",
   "execution_count": 65,
   "metadata": {},
   "outputs": [
    {
     "data": {
      "text/plain": [
       "[<matplotlib.lines.Line2D at 0x7f5121d44cd0>]"
      ]
     },
     "execution_count": 65,
     "metadata": {},
     "output_type": "execute_result"
    },
    {
     "data": {
      "image/png": "[encoded data removed]",
      "text/plain": [
       "<matplotlib.figure.Figure at 0x7f511b408fd0>"
      ]
     },
     "metadata": {},
     "output_type": "display_data"
    }
   ],
   "source": [
    "plt.plot(np.array(Xresults_big[1][5]['W'])[-1,0,:])"
   ]
  },
  {
   "cell_type": "code",
   "execution_count": 51,
   "metadata": {},
   "outputs": [
    {
     "name": "stdout",
     "output_type": "stream",
     "text": [
      "[  1.00000000e-05   1.00000000e-04   1.00000000e-03   1.00000000e-02\n",
      "   1.00000000e-01   2.50000000e-01   5.00000000e-01   7.50000000e-01\n",
      "   1.00000000e+00   1.10000000e+00]\n"
     ]
    }
   ],
   "source": [
    "print beta"
   ]
  },
  {
   "cell_type": "markdown",
   "metadata": {},
   "source": [
    "## Calculate Overlap(dot product) of the weights with the top Eigenvector - is that the order parameter?"
   ]
  },
  {
   "cell_type": "code",
   "execution_count": 94,
   "metadata": {
    "collapsed": true
   },
   "outputs": [],
   "source": [
    "# Top Eignvectors of the C_ij matrix:\n",
    "def topEV(data,method='Covariance'):\n",
    "    if method is 'Covariance':\n",
    "        #Find the covariance matrix:\n",
    "        covMAT = np.cov(data)\n",
    "    elif method is 'Correlation':\n",
    "        covMAT = np.corrcoef(data)\n",
    "    Eval,Evec = np.linalg.eig(covMAT)\n",
    "    return Evec[:,np.argmax(Eval)],np.max(Eval)"
   ]
  },
  {
   "cell_type": "code",
   "execution_count": 96,
   "metadata": {
    "collapsed": true
   },
   "outputs": [],
   "source": [
    "weights_overlap = np.zeros([Num_reps,len(beta)])\n",
    "mat_topEval_corr = np.zeros([Num_reps,len(beta)])\n",
    "mat_topEV_corr = np.zeros([Num_reps,len(beta),N[0]])\n",
    "\n",
    "for j in range(Num_reps):    \n",
    "    for i in np.arange(len(beta)):\n",
    "        mat_topEV_corr[j,i,:],mat_topEval_corr[j,i] = topEV(Xdata_big[j][i].T,method='Correlation')\n",
    "        weights_overlap[j,i] = np.dot(mat_topEV_corr[j,i,:],(np.array(Xresults_big[j][i]['W'])[-1,0,:]))"
   ]
  },
  {
   "cell_type": "code",
   "execution_count": 101,
   "metadata": {},
   "outputs": [
    {
     "data": {
      "text/plain": [
       "Text(0.5,1,u'\"Overlap of Top Eignevector with Weights\" order parameter with N/S = 0.01')"
      ]
     },
     "execution_count": 101,
     "metadata": {},
     "output_type": "execute_result"
    },
    {
     "data": {
      "image/png": "[encoded data removed]",
      "text/plain": [
       "<matplotlib.figure.Figure at 0x7f5120c21b10>"
      ]
     },
     "metadata": {},
     "output_type": "display_data"
    }
   ],
   "source": [
    "plt.figure(figsize=(10,5))\n",
    "plt.errorbar((beta),(np.mean(abs(weights_overlap),axis=0)),yerr=np.std(abs(weights_overlap),axis=0),xlolims=0,fmt='o',ecolor='g')\n",
    "plt.xscale('log')\n",
    "plt.xlabel('beta on log scale')\n",
    "plt.ylabel('Absolute value of Overlap of Top Eignevector with Weights')\n",
    "plt.title('\"Overlap of Top Eignevector with Weights\" order parameter with N/S = 0.01')"
   ]
  },
  {
   "cell_type": "markdown",
   "metadata": {
    "collapsed": true
   },
   "source": [
    "## With 2 hidden Units in the RBM - does it change the transition point, since there are more parameters (weights) to be trained?"
   ]
  },
  {
   "cell_type": "code",
   "execution_count": null,
   "metadata": {
    "collapsed": true
   },
   "outputs": [],
   "source": [
    "%%capture captX2\n",
    "\n",
    "Xdata_big2    = []\n",
    "Xresults_big2 = []\n",
    "\n",
    "XBM2      = []\n",
    "Xdata2    = []\n",
    "Xresults2 = []\n",
    "XRBM2     = []\n",
    "\n",
    "Num_reps = 10\n",
    "\n",
    "for j in range(Num_reps):\n",
    "       \n",
    "    for i in np.arange(len(beta)):\n",
    "        #Generate spins using Gibbs Sampling MCMC\n",
    "        XBM2.append(bm.BM(N=N[i],nature='Spin'))\n",
    "\n",
    "        #Define Couplings\n",
    "        XBM2[i].layer.couplings =  beta[i]*(np.eye(N=N[i],k=1) + np.eye(N=N[i],k=-1) )\n",
    "        XBM2[i].layer.couplings[0,-1] += beta[i]\n",
    "        XBM2[i].layer.couplings[-1,0] += beta[i]\n",
    "\n",
    "        #Generating the ising model data\n",
    "        Xdata2.append(XBM2[i].gen_data(Nchains=1,Nthermalize=0,Lchains=Num_configs,Nstep=Nstep[i])) # N steps.\n",
    "\n",
    "        #Train the model\n",
    "        XRBM2.append(rbm.RBM(visible = 'Spin', n_v=N[i], n_h = 2, hidden = 'Spin',zero_field = True))\n",
    "        Xresults2.append(XRBM2[i].fit(Xdata2[i],n_iter=250,verbose=0,learning_rate = 0.001,record=['W'],record_interval=100,batch_size=10,N_MC= 20, lr_decay=False,batch_norm=False))\n",
    "        \n",
    "    Xdata_big2.append(Xdata2)\n",
    "    Xresults_big2.append(Xresults2)\n",
    "    \n",
    "    XBM2      = []\n",
    "    Xdata2    = []\n",
    "    Xresults2 = []\n",
    "    XRBM2     = []"
   ]
  },
  {
   "cell_type": "code",
   "execution_count": null,
   "metadata": {
    "collapsed": true
   },
   "outputs": [],
   "source": [
    "weights_sum2 = np.zeros([Num_reps,len(beta),2])\n",
    "for j in range(Num_reps):    \n",
    "    for i in np.arange(len(beta)):\n",
    "        weights_sum2[j,i,0] = np.sum(np.array(Xresults_big2[j][i]['W'])[-1,0,:])\n",
    "        weights_sum2[j,i,1] = np.sum(np.array(Xresults_big2[j][i]['W'])[-1,1,:])"
   ]
  },
  {
   "cell_type": "code",
   "execution_count": 110,
   "metadata": {},
   "outputs": [
    {
     "data": {
      "text/plain": [
       "Text(0.5,1,u'\"Sum of Weights\" order parameter with N/S = 0.01')"
      ]
     },
     "execution_count": 110,
     "metadata": {},
     "output_type": "execute_result"
    },
    {
     "data": {
      "image/png": "[encoded data removed]",
      "text/plain": [
       "<matplotlib.figure.Figure at 0x7f51195b5710>"
      ]
     },
     "metadata": {},
     "output_type": "display_data"
    }
   ],
   "source": [
    "plt.figure(figsize=(10,5))\n",
    "plt.errorbar((beta),(np.mean(abs(weights_sum2[:,:,0]),axis=0)),yerr=np.std(abs(weights_sum2[:,:,0]),axis=0),xlolims=0,fmt='o',ecolor='g')\n",
    "plt.errorbar((beta),(np.mean(abs(weights_sum2[:,:,1]),axis=0)),yerr=np.std(abs(weights_sum2[:,:,1]),axis=0),xlolims=0,fmt='o',ecolor='r')\n",
    "plt.xscale('log')\n",
    "plt.xlabel('beta on log scale')\n",
    "plt.ylabel('Absolute value of Sum of Weights')\n",
    "plt.title('\"Sum of Weights\" order parameter with N/S = 0.01')"
   ]
  },
  {
   "cell_type": "code",
   "execution_count": 111,
   "metadata": {
    "collapsed": true
   },
   "outputs": [],
   "source": [
    "weights_overlap2 = np.zeros([Num_reps,len(beta),2])\n",
    "mat_topEval_corr2 = np.zeros([Num_reps,len(beta)])\n",
    "mat_topEV_corr2 = np.zeros([Num_reps,len(beta),N[0]])\n",
    "\n",
    "for j in range(Num_reps):    \n",
    "    for i in np.arange(len(beta)):\n",
    "        mat_topEV_corr2[j,i,:],mat_topEval_corr2[j,i] = topEV(Xdata_big2[j][i].T,method='Correlation')\n",
    "        weights_overlap2[j,i,0] = np.dot(mat_topEV_corr2[j,i,:],(np.array(Xresults_big2[j][i]['W'])[-1,0,:]))\n",
    "        weights_overlap2[j,i,1] = np.dot(mat_topEV_corr2[j,i,:],(np.array(Xresults_big2[j][i]['W'])[-1,1,:]))"
   ]
  },
  {
   "cell_type": "code",
   "execution_count": 112,
   "metadata": {},
   "outputs": [
    {
     "data": {
      "text/plain": [
       "Text(0.5,1,u'\"Overlap of Top Eignevector with Weights\" order parameter with N/S = 0.01')"
      ]
     },
     "execution_count": 112,
     "metadata": {},
     "output_type": "execute_result"
    },
    {
     "data": {
      "image/png": "[encoded data removed]",
      "text/plain": [
       "<matplotlib.figure.Figure at 0x7f5115c58ed0>"
      ]
     },
     "metadata": {},
     "output_type": "display_data"
    }
   ],
   "source": [
    "plt.figure(figsize=(10,5))\n",
    "plt.errorbar((beta),(np.mean(abs(weights_overlap2[:,:,0]),axis=0)),yerr=np.std(abs(weights_overlap2[:,:,0]),axis=0),xlolims=0,fmt='o',ecolor='g')\n",
    "plt.errorbar((beta),(np.mean(abs(weights_overlap2[:,:,1]),axis=0)),yerr=np.std(abs(weights_overlap2[:,:,1]),axis=0),xlolims=0,fmt='o',ecolor='r')\n",
    "plt.xscale('log')\n",
    "plt.xlabel('beta on log scale')\n",
    "plt.ylabel('Absolute value of Overlap of Top Eignevector with Weights')\n",
    "plt.title('\"Overlap of Top Eignevector with Weights\" order parameter with N/S = 0.01')"
   ]
  },
  {
   "cell_type": "markdown",
   "metadata": {
    "collapsed": true
   },
   "source": [
    "## Does the Threshold shift with l1 or l2 regularization?"
   ]
  },
  {
   "cell_type": "code",
   "execution_count": 4,
   "metadata": {},
   "outputs": [
    {
     "name": "stdout",
     "output_type": "stream",
     "text": [
      "[ 0.01   0.075  0.05   0.1    0.15   0.2    0.25   0.5    0.75   1.   ]\n"
     ]
    }
   ],
   "source": [
    "#corrLengths = np.array([0.1,0.5,1.,5,10.,20.,50,100])\n",
    "#corrLengths = np.linspace(0.01,20,10)\n",
    "#beta = np.linspace(0.00001,1.2,10)\n",
    "beta = np.array([10**-2,0.075,0.05,10**-1,0.15,0.2,0.25,0.5,0.75,10**0])\n",
    "print beta\n",
    "#print corrLengths"
   ]
  },
  {
   "cell_type": "code",
   "execution_count": 20,
   "metadata": {
    "collapsed": true
   },
   "outputs": [],
   "source": [
    "%%capture captX3\n",
    "\n",
    "Xdata_big3    = []\n",
    "Xresults_big3 = []\n",
    "\n",
    "XBM3      = []\n",
    "Xdata3    = []\n",
    "Xresults3 = []\n",
    "XRBM3     = []\n",
    "\n",
    "Num_reps = 1\n",
    "\n",
    "for j in range(Num_reps):\n",
    "       \n",
    "    for i in np.arange(len(beta)):\n",
    "        #Generate spins using Gibbs Sampling MCMC\n",
    "        XBM3.append(bm.BM(N=N[i],nature='Spin'))\n",
    "\n",
    "        #Define Couplings\n",
    "        XBM3[i].layer.couplings =  beta[i]*(np.eye(N=N[i],k=1) + np.eye(N=N[i],k=-1) )\n",
    "        XBM3[i].layer.couplings[0,-1] += beta[i]\n",
    "        XBM3[i].layer.couplings[-1,0] += beta[i]\n",
    "\n",
    "        #Generating the ising model data] \n",
    "        Xdata3.append(XBM3[i].gen_data(Nchains=1,Nthermalize=0,Lchains=Num_configs,Nstep=Nstep[i])) # N steps.\n",
    "\n",
    "        #Train the model\n",
    "        XRBM3.append(rbm.RBM(visible = 'Spin', n_v=N[i], n_h = 1, hidden = 'Spin',zero_field = True))\n",
    "        Xresults3.append(XRBM3[i].fit(Xdata3[i],n_iter=250,verbose=0,learning_rate = 0.001,record=['W'],l2 = 0.05 \\\n",
    "                                      ,record_interval=100,batch_size=10,N_MC= 20, lr_decay=False,batch_norm=False))\n",
    "        \n",
    "    Xdata_big3.append(Xdata3)\n",
    "    Xresults_big3.append(Xresults3)\n",
    "    \n",
    "    XBM3      = []\n",
    "    Xdata3    = []\n",
    "    Xresults3 = []\n",
    "    XRBM3     = []"
   ]
  },
  {
   "cell_type": "code",
   "execution_count": 22,
   "metadata": {
    "collapsed": true
   },
   "outputs": [],
   "source": [
    "weights_sum3 = np.zeros([Num_reps,len(beta),2])\n",
    "for j in range(Num_reps):    \n",
    "    for i in np.arange(len(beta)):\n",
    "        weights_sum3[j,i,0] = np.sum(np.array(Xresults_big3[j][i]['W'])[-1,0,:])\n",
    "        #weights_sum3[j,i,1] = np.sum(np.array(Xresults_big3[j][i]['W'])[-1,1,:])"
   ]
  },
  {
   "cell_type": "code",
   "execution_count": 25,
   "metadata": {},
   "outputs": [
    {
     "data": {
      "text/plain": [
       "Text(0.5,1,u'\"Sum of Weights\" order parameter with N/S = 0.01')"
      ]
     },
     "execution_count": 25,
     "metadata": {},
     "output_type": "execute_result"
    },
    {
     "data": {
      "image/png": "[encoded data removed]",
      "text/plain": [
       "<matplotlib.figure.Figure at 0x7f430ca6c310>"
      ]
     },
     "metadata": {},
     "output_type": "display_data"
    }
   ],
   "source": [
    "plt.figure(figsize=(10,5))\n",
    "plt.errorbar((beta),(np.mean(abs(weights_sum3[:,:,0]),axis=0)),yerr=np.std(abs(weights_sum3[:,:,0]),axis=0),xlolims=0,fmt='o',ecolor='g')\n",
    "#plt.errorbar((beta),(np.mean(abs(weights_sum3[:,:,1]),axis=0)),yerr=np.std(abs(weights_sum3[:,:,1]),axis=0),xlolims=0,fmt='o',ecolor='r')\n",
    "plt.xscale('log')\n",
    "plt.xlabel('beta on log scale')\n",
    "plt.ylabel('Absolute value of Sum of Weights')\n",
    "plt.title('\"Sum of Weights\" order parameter with N/S = 0.01')"
   ]
  },
  {
   "cell_type": "code",
   "execution_count": 28,
   "metadata": {},
   "outputs": [
    {
     "data": {
      "text/plain": [
       "[<matplotlib.lines.Line2D at 0x7f42ffab6390>]"
      ]
     },
     "execution_count": 28,
     "metadata": {},
     "output_type": "execute_result"
    },
    {
     "data": {
      "image/png": "[encoded data removed]",
      "text/plain": [
       "<matplotlib.figure.Figure at 0x7f430cf4d8d0>"
      ]
     },
     "metadata": {},
     "output_type": "display_data"
    }
   ],
   "source": [
    "plt.plot(np.array(Xresults_big3[0][8]['W'])[-1,0])"
   ]
  },
  {
   "cell_type": "markdown",
   "metadata": {
    "collapsed": true
   },
   "source": [
    "## With multiple hidden units:"
   ]
  },
  {
   "cell_type": "code",
   "execution_count": null,
   "metadata": {
    "collapsed": true
   },
   "outputs": [],
   "source": [
    "%%capture captX4\n",
    "\n",
    "Xdata_big4    = []\n",
    "Xresults_big4 = []\n",
    "\n",
    "XBM4      = []\n",
    "Xdata4    = []\n",
    "Xresults4 = []\n",
    "XRBM4     = []\n",
    "\n",
    "Num_reps = 1\n",
    "\n",
    "for j in range(Num_reps):\n",
    "       \n",
    "    for i in np.arange(len(beta)):\n",
    "        #Generate spins using Gibbs Sampling MCMC\n",
    "        XBM4.append(bm.BM(N=N[i],nature='Spin'))\n",
    "\n",
    "        #Define Couplings\n",
    "        XBM4[i].layer.couplings =  beta[i]*(np.eye(N=N[i],k=1) + np.eye(N=N[i],k=-1) )\n",
    "        XBM4[i].layer.couplings[0,-1] += beta[i]\n",
    "        XBM4[i].layer.couplings[-1,0] += beta[i]\n",
    "\n",
    "        #Generating the ising model data] \n",
    "        Xdata4.append(XBM4[i].gen_data(Nchains=1,Nthermalize=0,Lchains=Num_configs,Nstep=Nstep[i])) # N steps.\n",
    "\n",
    "        #Train the model\n",
    "        XRBM4.append(rbm.RBM(visible = 'Spin', n_v=N[i], n_h = 60, hidden = 'Spin',zero_field = True))\n",
    "        Xresults4.append(XRBM4[i].fit(Xdata4[i],n_iter=250,verbose=0,learning_rate = 0.001,record=['W']\\\n",
    "                                      ,record_interval=100,batch_size=10,N_MC= 20, lr_decay=False,batch_norm=False))\n",
    "        \n",
    "    Xdata_big4.append(Xdata4)\n",
    "    Xresults_big4.append(Xresults4)\n",
    "    \n",
    "    XBM4      = []\n",
    "    Xdata4    = []\n",
    "    Xresults4 = []\n",
    "    XRBM4     = []"
   ]
  },
  {
   "cell_type": "code",
   "execution_count": 10,
   "metadata": {
    "collapsed": true
   },
   "outputs": [],
   "source": [
    "weights_sum4 = np.zeros([Num_reps,len(beta),np.shape(np.array(Xresults_big4[j][i]['W']))[1]])\n",
    "for j in range(Num_reps):    \n",
    "    for i in np.arange(len(beta)):\n",
    "        for k in np.arange(np.shape(np.array(Xresults_big4[j][i]['W']))[1]):\n",
    "            weights_sum4[j,i,k] = np.sum(np.array(Xresults_big4[j][i]['W'])[-1,k,:])"
   ]
  },
  {
   "cell_type": "code",
   "execution_count": null,
   "metadata": {
    "collapsed": true
   },
   "outputs": [],
   "source": [
    "plt.figure(figsize=(10,10))\n",
    "plt.plot((beta),(np.mean(abs(weights_sum4[:,:,:]),axis=0)))\n",
    "plt.xscale('log')\n",
    "plt.xlabel('beta on log scale')\n",
    "plt.ylabel('Absolute value of Sum of Weights')\n",
    "plt.title('\"Sum of Weights\" order parameter with N/S = 0.01')"
   ]
  },
  {
   "cell_type": "code",
   "execution_count": null,
   "metadata": {
    "collapsed": true
   },
   "outputs": [],
   "source": [
    "### Generate data from this model and see how many configurations are needed to produce a significant result \n",
    "### (should be less than that from the simple threshold):"
   ]
  },
  {
   "cell_type": "code",
   "execution_count": null,
   "metadata": {
    "collapsed": true
   },
   "outputs": [],
   "source": []
  },
  {
   "cell_type": "code",
   "execution_count": null,
   "metadata": {
    "collapsed": true
   },
   "outputs": [],
   "source": []
  },
  {
   "cell_type": "code",
   "execution_count": null,
   "metadata": {
    "collapsed": true
   },
   "outputs": [],
   "source": []
  },
  {
   "cell_type": "markdown",
   "metadata": {},
   "source": [
    "## Multiple hidden units with regualrization:"
   ]
  },
  {
   "cell_type": "code",
   "execution_count": null,
   "metadata": {
    "collapsed": true
   },
   "outputs": [],
   "source": [
    "%%capture captX5\n",
    "\n",
    "Xdata_big5    = []\n",
    "Xresults_big5 = []\n",
    "\n",
    "XBM5      = []\n",
    "Xdata5    = []\n",
    "Xresults5 = []\n",
    "XRBM5     = []\n",
    "\n",
    "Num_reps = 1\n",
    "\n",
    "for j in range(Num_reps):\n",
    "       \n",
    "    for i in np.arange(len(beta)):\n",
    "        #Generate spins using Gibbs Sampling MCMC\n",
    "        XBM5.append(bm.BM(N=N[i],nature='Spin'))\n",
    "\n",
    "        #Define Couplings\n",
    "        XBM5[i].layer.couplings =  beta[i]*(np.eye(N=N[i],k=1) + np.eye(N=N[i],k=-1) )\n",
    "        XBM5[i].layer.couplings[0,-1] += beta[i]\n",
    "        XBM5[i].layer.couplings[-1,0] += beta[i]\n",
    "\n",
    "        #Generating the ising model data] \n",
    "        Xdata5.append(XBM5[i].gen_data(Nchains=1,Nthermalize=0,Lchains=Num_configs,Nstep=Nstep[i])) # N steps.\n",
    "\n",
    "        #Train the model\n",
    "        XRBM5.append(rbm.RBM(visible = 'Spin', n_v=N[i], n_h = 60, hidden = 'Spin',zero_field = True))\n",
    "        Xresults5.append(XRBM5[i].fit(Xdata5[i],n_iter=250,verbose=0,learning_rate = 0.001,record=['W'],l2=0.1\\\n",
    "                                      ,record_interval=100,batch_size=10,N_MC= 20, lr_decay=False,batch_norm=False))\n",
    "        \n",
    "    Xdata_big5.append(Xdata5)\n",
    "    Xresults_big5.append(Xresults5)\n",
    "    \n",
    "    XBM5      = []\n",
    "    Xdata5    = []\n",
    "    Xresults5 = []\n",
    "    XRBM5     = []"
   ]
  },
  {
   "cell_type": "code",
   "execution_count": 28,
   "metadata": {
    "collapsed": true
   },
   "outputs": [],
   "source": [
    "weights_sum5 = np.zeros([Num_reps,len(beta),np.shape(np.array(Xresults_big5[j][i]['W']))[1]])\n",
    "for j in range(Num_reps):    \n",
    "    for i in np.arange(len(beta)):\n",
    "        for k in np.arange(np.shape(np.array(Xresults_big5[j][i]['W']))[1]):\n",
    "            weights_sum5[j,i,k] = np.sum(np.array(Xresults_big5[j][i]['W'])[-1,k,:])"
   ]
  },
  {
   "cell_type": "code",
   "execution_count": 35,
   "metadata": {},
   "outputs": [
    {
     "data": {
      "text/plain": [
       "Text(0.5,1,u'\"Sum of Weights\" order parameter with N/S = 0.01')"
      ]
     },
     "execution_count": 35,
     "metadata": {},
     "output_type": "execute_result"
    },
    {
     "data": {
      "image/png": "[encoded data removed]",
      "text/plain": [
       "<matplotlib.figure.Figure at 0x7f3251ed0210>"
      ]
     },
     "metadata": {},
     "output_type": "display_data"
    }
   ],
   "source": [
    "plt.figure(figsize=(10,10))\n",
    "plt.plot((beta),(np.mean(abs(weights_sum4[:,:,50]),axis=0)),'o')\n",
    "plt.xscale('log')\n",
    "plt.xlabel('beta on log scale')\n",
    "plt.ylabel('Absolute value of Sum of Weights')\n",
    "plt.title('\"Sum of Weights\" order parameter with N/S = 0.01')"
   ]
  },
  {
   "cell_type": "code",
   "execution_count": null,
   "metadata": {
    "collapsed": true
   },
   "outputs": [],
   "source": []
  }
 ],
 "metadata": {
  "kernelspec": {
   "display_name": "Python 2",
   "language": "python",
   "name": "python2"
  },
  "language_info": {
   "codemirror_mode": {
    "name": "ipython",
    "version": 2
   },
   "file_extension": ".py",
   "mimetype": "text/x-python",
   "name": "python",
   "nbconvert_exporter": "python",
   "pygments_lexer": "ipython2",
   "version": "2.7.14"
  }
 },
 "nbformat": 4,
 "nbformat_minor": 2
}
